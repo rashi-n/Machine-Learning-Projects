{
 "cells": [
  {
   "cell_type": "markdown",
   "metadata": {},
   "source": [
    "# Hospital Readmissions Data Analysis and Recommendations for Reduction\n",
    "\n",
    "<h3> Questions of Interest:</h3><br>\n",
    "\n",
    "What flaws exist in the preliminary report?<br>\n",
    "How can a statistically significant analysis be conducted?<br>\n",
    "What recommendation adjustments should be made?\n",
    "\n",
    "### Background\n",
    "In October 2012, the US government's Center for Medicare and Medicaid Services (CMS) began reducing Medicare payments for Inpatient Prospective Payment System hospitals with excess readmissions. Excess readmissions are measured by a ratio, by dividing a hospital’s number of “predicted” 30-day readmissions for heart attack, heart failure, and pneumonia by the number that would be “expected,” based on an average hospital with similar patients. A ratio greater than 1 indicates excess readmissions.\n",
    "\n",
    "### Exercise Directions\n",
    "\n",
    "In this exercise, you will:\n",
    "+ critique a preliminary analysis of readmissions data and recommendations (provided below) for reducing the readmissions rate\n",
    "+ construct a statistically sound analysis and make recommendations of your own \n",
    "\n",
    "More instructions provided below. Include your work **in this notebook and submit to your Github account**. \n",
    "\n",
    "### Resources\n",
    "+ Data source: https://data.medicare.gov/Hospital-Compare/Hospital-Readmission-Reduction/9n3s-kdb3\n",
    "+ More information: http://www.cms.gov/Medicare/medicare-fee-for-service-payment/acuteinpatientPPS/readmissions-reduction-program.html\n",
    "+ Markdown syntax: http://nestacms.com/docs/creating-content/markdown-cheat-sheet\n",
    "****"
   ]
  },
  {
   "cell_type": "code",
   "execution_count": 1,
   "metadata": {},
   "outputs": [],
   "source": [
    "%matplotlib inline\n",
    "\n",
    "import pandas as pd\n",
    "import numpy as np\n",
    "import matplotlib.pyplot as plt\n",
    "import bokeh.plotting as bkp\n",
    "from mpl_toolkits.axes_grid1 import make_axes_locatable"
   ]
  },
  {
   "cell_type": "code",
   "execution_count": 2,
   "metadata": {},
   "outputs": [],
   "source": [
    "# read in readmissions data provided\n",
    "hospital_read_df = pd.read_csv('data/cms_hospital_readmissions.csv')"
   ]
  },
  {
   "cell_type": "markdown",
   "metadata": {},
   "source": [
    "<h1> Exploratory Data Analysis"
   ]
  },
  {
   "cell_type": "code",
   "execution_count": 3,
   "metadata": {},
   "outputs": [
    {
     "data": {
      "text/plain": [
       "(16860, 12)"
      ]
     },
     "execution_count": 3,
     "metadata": {},
     "output_type": "execute_result"
    }
   ],
   "source": [
    "hospital_read_df.shape"
   ]
  },
  {
   "cell_type": "code",
   "execution_count": 4,
   "metadata": {
    "scrolled": true
   },
   "outputs": [
    {
     "data": {
      "text/plain": [
       "<bound method DataFrame.info of                                            Hospital Name  Provider Number  \\\n",
       "0                   FROEDTERT MEMORIAL LUTHERAN HOSPITAL           520177   \n",
       "1                                    PROVIDENCE HOSPITAL            90006   \n",
       "2                      BEAUFORT COUNTY MEMORIAL HOSPITAL           420067   \n",
       "3              ADVOCATE CHRIST HOSPITAL & MEDICAL CENTER           140208   \n",
       "4                      BRAZOSPORT REGIONAL HEALTH SYSTEM           450072   \n",
       "5                        WESTERN MISSOURI MEDICAL CENTER           260097   \n",
       "6                                   SAINT AGNES HOSPITAL           210011   \n",
       "7                               MERCY HOSPITAL JEFFERSON           260023   \n",
       "8                               ONSLOW MEMORIAL HOSPITAL           340042   \n",
       "9                                      FAUQUIER HOSPITAL           490023   \n",
       "10     ROBERT WOOD JOHNSON UNIVERSITY HOSPITAL AT RAHWAY           310024   \n",
       "11                                MERCY ST ANNE HOSPITAL           360262   \n",
       "12                                RESTON HOSPITAL CENTER           490107   \n",
       "13              CAPITAL HEALTH MEDICAL CENTER - HOPEWELL           310044   \n",
       "14                  THOMAS JEFFERSON UNIVERSITY HOSPITAL           390174   \n",
       "15                                HOUSTON MEDICAL CENTER           110069   \n",
       "16                UNIVERSITY OF TEXAS MEDICAL BRANCH GAL           450018   \n",
       "17                            VALLEY VIEW MEDICAL CENTER            30117   \n",
       "18                          REGIONAL HOSPITAL OF JACKSON           440189   \n",
       "19                                    METROPLEX HOSPITAL           450152   \n",
       "20                               HENDRICK MEDICAL CENTER           450229   \n",
       "21     UNIVERSITY OF COLORADO HOSPITAL ANSCHUTZ INPAT...            60024   \n",
       "22                        ST CATHERINE OF SIENA HOSPITAL           330401   \n",
       "23                       LITTLE COMPANY OF MARY HOSPITAL           140179   \n",
       "24                   SAINT MICHAEL'S MEDICAL CENTER, INC           310096   \n",
       "25                     CHRISTUS ST MICHAEL HEALTH SYSTEM           450801   \n",
       "26                            JOHNSTON MEMORIAL HOSPITAL           490053   \n",
       "27                        NORTHWESTERN MEMORIAL HOSPITAL           140281   \n",
       "28            JACKSON COUNTY MEMORIAL HOSPITAL AUTHORITY           370022   \n",
       "29                              RALEIGH GENERAL HOSPITAL           510070   \n",
       "...                                                  ...              ...   \n",
       "16830                         BAILEY MEDICAL CENTER, LLC           370228   \n",
       "16831                       MC DONOUGH DISTRICT HOSPITAL           140089   \n",
       "16832                       MIDWESTERN REGION MED CENTER           140100   \n",
       "16833                                 HIGHLANDS HOSPITAL           390184   \n",
       "16834                        UNIVERSITY GENERAL HOSPITAL           670019   \n",
       "16835                                   MAYHILL HOSPITAL           670010   \n",
       "16836        MEMORIAL HERMANN SURGICAL HOSPITAL KINGWOOD           670005   \n",
       "16837                 UNIVERSITY GENERAL HOSPITAL DALLAS           670002   \n",
       "16838                    MOUNTAIN VIEW REGIONAL HOSPITAL           530033   \n",
       "16839                              SUMMIT MEDICAL CENTER           370225   \n",
       "16840                                     ONECORE HEALTH           370220   \n",
       "16841                            COMMUNITY HOSPITAL, LLC           370203   \n",
       "16842                      SURGICAL HOSPITAL OF OKLAHOMA           370201   \n",
       "16843  FRANCISCAN ST ELIZABETH HEALTH - LAFAYETTE CEN...           150003   \n",
       "16844               SOUTHWESTERN REGIONAL MEDICAL CENTER           370190   \n",
       "16845                             HILL REGIONAL HOSPITAL           450192   \n",
       "16846                               GRACE MEDICAL CENTER           450162   \n",
       "16847                                  TRINITY MUSCATINE           160013   \n",
       "16848                          SARTORI MEMORIAL HOSPITAL           160040   \n",
       "16849                           NY EYE AND EAR INFIRMARY           330100   \n",
       "16850                            JONES MEMORIAL HOSPITAL           330096   \n",
       "16851                  BROOKDALE HOSPITAL MEDICAL CENTER           330233   \n",
       "16852                                SGMC BERRIEN CAMPUS           110234   \n",
       "16853                  MEMORIAL HOSPITAL OF SALEM COUNTY           310091   \n",
       "16854                   COMMUNITY MEMORIAL HOSPITAL, INC           330249   \n",
       "16855                          BERTRAND CHAFFEE HOSPITAL           330111   \n",
       "16856                     CROWNPOINT HEALTHCARE FACILITY           320062   \n",
       "16857                        THREE RIVERS MEDICAL CENTER           180128   \n",
       "16858                       GALLUP INDIAN MEDICAL CENTER           320061   \n",
       "16859                  UNIVERSITY OF LOUISVILLE HOSPITAL           180141   \n",
       "\n",
       "      State            Measure Name Number of Discharges  Footnote  \\\n",
       "0        WI  READM-30-HIP-KNEE-HRRP                  242       NaN   \n",
       "1        DC  READM-30-HIP-KNEE-HRRP                  247       NaN   \n",
       "2        SC  READM-30-HIP-KNEE-HRRP                  586       NaN   \n",
       "3        IL  READM-30-HIP-KNEE-HRRP                  965       NaN   \n",
       "4        TX  READM-30-HIP-KNEE-HRRP                  149       NaN   \n",
       "5        MO  READM-30-HIP-KNEE-HRRP                  141       NaN   \n",
       "6        MD  READM-30-HIP-KNEE-HRRP                  390       NaN   \n",
       "7        MO  READM-30-HIP-KNEE-HRRP                  178       NaN   \n",
       "8        NC  READM-30-HIP-KNEE-HRRP                   98       NaN   \n",
       "9        VA  READM-30-HIP-KNEE-HRRP                  256       NaN   \n",
       "10       NJ  READM-30-HIP-KNEE-HRRP                  121       NaN   \n",
       "11       OH  READM-30-HIP-KNEE-HRRP                  108       NaN   \n",
       "12       VA  READM-30-HIP-KNEE-HRRP                  780       NaN   \n",
       "13       NJ  READM-30-HIP-KNEE-HRRP                  216       NaN   \n",
       "14       PA  READM-30-HIP-KNEE-HRRP                 1458       NaN   \n",
       "15       GA  READM-30-HIP-KNEE-HRRP                  238       NaN   \n",
       "16       TX  READM-30-HIP-KNEE-HRRP                  154       NaN   \n",
       "17       AZ  READM-30-HIP-KNEE-HRRP                  117       NaN   \n",
       "18       TN  READM-30-HIP-KNEE-HRRP                  322       NaN   \n",
       "19       TX  READM-30-HIP-KNEE-HRRP                   98       NaN   \n",
       "20       TX  READM-30-HIP-KNEE-HRRP                  493       NaN   \n",
       "21       CO  READM-30-HIP-KNEE-HRRP                  332       NaN   \n",
       "22       NY  READM-30-HIP-KNEE-HRRP                  136       NaN   \n",
       "23       IL  READM-30-HIP-KNEE-HRRP                  179       NaN   \n",
       "24       NJ  READM-30-HIP-KNEE-HRRP                   97       NaN   \n",
       "25       TX  READM-30-HIP-KNEE-HRRP                  536       NaN   \n",
       "26       VA  READM-30-HIP-KNEE-HRRP                  268       NaN   \n",
       "27       IL  READM-30-HIP-KNEE-HRRP                 1658       NaN   \n",
       "28       OK  READM-30-HIP-KNEE-HRRP                  260       NaN   \n",
       "29       WV  READM-30-HIP-KNEE-HRRP                   57       NaN   \n",
       "...     ...                     ...                  ...       ...   \n",
       "16830    OK       READM-30-AMI-HRRP        Not Available       1.0   \n",
       "16831    IL       READM-30-AMI-HRRP        Not Available       1.0   \n",
       "16832    IL      READM-30-COPD-HRRP        Not Available       1.0   \n",
       "16833    PA  READM-30-HIP-KNEE-HRRP        Not Available       1.0   \n",
       "16834    TX  READM-30-HIP-KNEE-HRRP        Not Available       1.0   \n",
       "16835    TX        READM-30-PN-HRRP        Not Available       5.0   \n",
       "16836    TX      READM-30-COPD-HRRP        Not Available       5.0   \n",
       "16837    TX       READM-30-AMI-HRRP        Not Available       1.0   \n",
       "16838    WY      READM-30-COPD-HRRP        Not Available       1.0   \n",
       "16839    OK  READM-30-HIP-KNEE-HRRP        Not Available       1.0   \n",
       "16840    OK        READM-30-HF-HRRP        Not Available       5.0   \n",
       "16841    OK      READM-30-COPD-HRRP        Not Available       1.0   \n",
       "16842    OK  READM-30-HIP-KNEE-HRRP        Not Available       1.0   \n",
       "16843    IN  READM-30-HIP-KNEE-HRRP        Not Available       1.0   \n",
       "16844    OK      READM-30-COPD-HRRP        Not Available       1.0   \n",
       "16845    TX       READM-30-AMI-HRRP        Not Available       1.0   \n",
       "16846    TX        READM-30-HF-HRRP        Not Available       1.0   \n",
       "16847    IA  READM-30-HIP-KNEE-HRRP        Not Available       1.0   \n",
       "16848    IA       READM-30-AMI-HRRP        Not Available       1.0   \n",
       "16849    NY       READM-30-AMI-HRRP        Not Available       5.0   \n",
       "16850    NY  READM-30-HIP-KNEE-HRRP        Not Available       5.0   \n",
       "16851    NY  READM-30-HIP-KNEE-HRRP        Not Available       1.0   \n",
       "16852    GA      READM-30-COPD-HRRP        Not Available       5.0   \n",
       "16853    NJ  READM-30-HIP-KNEE-HRRP        Not Available       1.0   \n",
       "16854    NY       READM-30-AMI-HRRP        Not Available       1.0   \n",
       "16855    NY       READM-30-AMI-HRRP        Not Available       1.0   \n",
       "16856    NM       READM-30-AMI-HRRP        Not Available       1.0   \n",
       "16857    KY  READM-30-HIP-KNEE-HRRP                    0       7.0   \n",
       "16858    NM       READM-30-AMI-HRRP        Not Available       1.0   \n",
       "16859    KY  READM-30-HIP-KNEE-HRRP        Not Available       1.0   \n",
       "\n",
       "       Excess Readmission Ratio  Predicted Readmission Rate  \\\n",
       "0                        1.9095                        10.8   \n",
       "1                        1.7521                         9.2   \n",
       "2                        1.5836                         7.6   \n",
       "3                        1.5760                         9.0   \n",
       "4                        1.5308                         8.2   \n",
       "5                        1.5189                         8.1   \n",
       "6                        1.5079                         7.8   \n",
       "7                        1.5019                         9.2   \n",
       "8                        1.4953                         7.9   \n",
       "9                        1.4844                         7.4   \n",
       "10                       1.4776                         9.0   \n",
       "11                       1.4691                         9.2   \n",
       "12                       1.4612                         6.7   \n",
       "13                       1.4559                         8.4   \n",
       "14                       1.4543                         7.5   \n",
       "15                       1.4532                         8.1   \n",
       "16                       1.4528                         7.9   \n",
       "17                       1.4486                         7.2   \n",
       "18                       1.4348                         7.6   \n",
       "19                       1.4333                         7.6   \n",
       "20                       1.4321                         7.6   \n",
       "21                       1.4317                         7.4   \n",
       "22                       1.4200                         7.8   \n",
       "23                       1.4133                         8.2   \n",
       "24                       1.4088                         9.9   \n",
       "25                       1.4033                         7.6   \n",
       "26                       1.4031                         7.4   \n",
       "27                       1.4026                         6.8   \n",
       "28                       1.4022                         7.3   \n",
       "29                       1.3992                         8.5   \n",
       "...                         ...                         ...   \n",
       "16830                       NaN                         NaN   \n",
       "16831                       NaN                         NaN   \n",
       "16832                       NaN                         NaN   \n",
       "16833                       NaN                         NaN   \n",
       "16834                       NaN                         NaN   \n",
       "16835                       NaN                         NaN   \n",
       "16836                       NaN                         NaN   \n",
       "16837                       NaN                         NaN   \n",
       "16838                       NaN                         NaN   \n",
       "16839                       NaN                         NaN   \n",
       "16840                       NaN                         NaN   \n",
       "16841                       NaN                         NaN   \n",
       "16842                       NaN                         NaN   \n",
       "16843                       NaN                         NaN   \n",
       "16844                       NaN                         NaN   \n",
       "16845                       NaN                         NaN   \n",
       "16846                       NaN                         NaN   \n",
       "16847                       NaN                         NaN   \n",
       "16848                       NaN                         NaN   \n",
       "16849                       NaN                         NaN   \n",
       "16850                       NaN                         NaN   \n",
       "16851                       NaN                         NaN   \n",
       "16852                       NaN                         NaN   \n",
       "16853                       NaN                         NaN   \n",
       "16854                       NaN                         NaN   \n",
       "16855                       NaN                         NaN   \n",
       "16856                       NaN                         NaN   \n",
       "16857                       NaN                         NaN   \n",
       "16858                       NaN                         NaN   \n",
       "16859                       NaN                         NaN   \n",
       "\n",
       "       Expected Readmission Rate  Number of Readmissions  Start Date  \\\n",
       "0                            5.6                    38.0  07/01/2010   \n",
       "1                            5.3                    33.0  07/01/2010   \n",
       "2                            4.8                    53.0  07/01/2010   \n",
       "3                            5.7                    95.0  07/01/2010   \n",
       "4                            5.4                    20.0  07/01/2010   \n",
       "5                            5.3                    19.0  07/01/2010   \n",
       "6                            5.2                    38.0  07/01/2010   \n",
       "7                            6.1                    24.0  07/01/2010   \n",
       "8                            5.3                    15.0  07/01/2010   \n",
       "9                            5.0                    26.0  07/01/2010   \n",
       "10                           6.1                    18.0  07/01/2010   \n",
       "11                           6.3                    17.0  07/01/2010   \n",
       "12                           4.6                    59.0  07/01/2010   \n",
       "13                           5.8                    25.0  07/01/2010   \n",
       "14                           5.2                   116.0  07/01/2010   \n",
       "15                           5.5                    26.0  07/01/2010   \n",
       "16                           5.4                    19.0  07/01/2010   \n",
       "17                           4.9                    15.0  07/01/2010   \n",
       "18                           5.3                    31.0  07/01/2010   \n",
       "19                           5.3                    14.0  07/01/2010   \n",
       "20                           5.3                    44.0  07/01/2010   \n",
       "21                           5.1                    31.0  07/01/2010   \n",
       "22                           5.5                    17.0  07/01/2010   \n",
       "23                           5.8                    21.0  07/01/2010   \n",
       "24                           7.0                    16.0  07/01/2010   \n",
       "25                           5.4                    47.0  07/01/2010   \n",
       "26                           5.3                    26.0  07/01/2010   \n",
       "27                           4.9                   119.0  07/01/2010   \n",
       "28                           5.2                    25.0  07/01/2010   \n",
       "29                           6.1                    11.0  07/01/2010   \n",
       "...                          ...                     ...         ...   \n",
       "16830                        NaN                     NaN  07/01/2010   \n",
       "16831                        NaN                     NaN  07/01/2010   \n",
       "16832                        NaN                     NaN  07/01/2010   \n",
       "16833                        NaN                     NaN  07/01/2010   \n",
       "16834                        NaN                     NaN  07/01/2010   \n",
       "16835                        NaN                     NaN  07/01/2010   \n",
       "16836                        NaN                     NaN  07/01/2010   \n",
       "16837                        NaN                     NaN  07/01/2010   \n",
       "16838                        NaN                     NaN  07/01/2010   \n",
       "16839                        NaN                     NaN  07/01/2010   \n",
       "16840                        NaN                     NaN  07/01/2010   \n",
       "16841                        NaN                     NaN  07/01/2010   \n",
       "16842                        NaN                     NaN  07/01/2010   \n",
       "16843                        NaN                     NaN  07/01/2010   \n",
       "16844                        NaN                     NaN  07/01/2010   \n",
       "16845                        NaN                     NaN  07/01/2010   \n",
       "16846                        NaN                     NaN  07/01/2010   \n",
       "16847                        NaN                     NaN  07/01/2010   \n",
       "16848                        NaN                     NaN  07/01/2010   \n",
       "16849                        NaN                     NaN  07/01/2010   \n",
       "16850                        NaN                     NaN  07/01/2010   \n",
       "16851                        NaN                     NaN  07/01/2010   \n",
       "16852                        NaN                     NaN  07/01/2010   \n",
       "16853                        NaN                     NaN  07/01/2010   \n",
       "16854                        NaN                     NaN  07/01/2010   \n",
       "16855                        NaN                     NaN  07/01/2010   \n",
       "16856                        NaN                     NaN  07/01/2010   \n",
       "16857                        NaN                     NaN  07/01/2010   \n",
       "16858                        NaN                     NaN  07/01/2010   \n",
       "16859                        NaN                     NaN  07/01/2010   \n",
       "\n",
       "         End Date  \n",
       "0      06/30/2013  \n",
       "1      06/30/2013  \n",
       "2      06/30/2013  \n",
       "3      06/30/2013  \n",
       "4      06/30/2013  \n",
       "5      06/30/2013  \n",
       "6      06/30/2013  \n",
       "7      06/30/2013  \n",
       "8      06/30/2013  \n",
       "9      06/30/2013  \n",
       "10     06/30/2013  \n",
       "11     06/30/2013  \n",
       "12     06/30/2013  \n",
       "13     06/30/2013  \n",
       "14     06/30/2013  \n",
       "15     06/30/2013  \n",
       "16     06/30/2013  \n",
       "17     06/30/2013  \n",
       "18     06/30/2013  \n",
       "19     06/30/2013  \n",
       "20     06/30/2013  \n",
       "21     06/30/2013  \n",
       "22     06/30/2013  \n",
       "23     06/30/2013  \n",
       "24     06/30/2013  \n",
       "25     06/30/2013  \n",
       "26     06/30/2013  \n",
       "27     06/30/2013  \n",
       "28     06/30/2013  \n",
       "29     06/30/2013  \n",
       "...           ...  \n",
       "16830  06/30/2013  \n",
       "16831  06/30/2013  \n",
       "16832  06/30/2013  \n",
       "16833  06/30/2013  \n",
       "16834  06/30/2013  \n",
       "16835  06/30/2013  \n",
       "16836  06/30/2013  \n",
       "16837  06/30/2013  \n",
       "16838  06/30/2013  \n",
       "16839  06/30/2013  \n",
       "16840  06/30/2013  \n",
       "16841  06/30/2013  \n",
       "16842  06/30/2013  \n",
       "16843  06/30/2013  \n",
       "16844  06/30/2013  \n",
       "16845  06/30/2013  \n",
       "16846  06/30/2013  \n",
       "16847  06/30/2013  \n",
       "16848  06/30/2013  \n",
       "16849  06/30/2013  \n",
       "16850  06/30/2013  \n",
       "16851  06/30/2013  \n",
       "16852  06/30/2013  \n",
       "16853  06/30/2013  \n",
       "16854  06/30/2013  \n",
       "16855  06/30/2013  \n",
       "16856  06/30/2013  \n",
       "16857  06/30/2013  \n",
       "16858  06/30/2013  \n",
       "16859  06/30/2013  \n",
       "\n",
       "[16860 rows x 12 columns]>"
      ]
     },
     "execution_count": 4,
     "metadata": {},
     "output_type": "execute_result"
    }
   ],
   "source": [
    "hospital_read_df.info"
   ]
  },
  {
   "cell_type": "code",
   "execution_count": 5,
   "metadata": {},
   "outputs": [
    {
     "data": {
      "text/html": [
       "<div>\n",
       "<style scoped>\n",
       "    .dataframe tbody tr th:only-of-type {\n",
       "        vertical-align: middle;\n",
       "    }\n",
       "\n",
       "    .dataframe tbody tr th {\n",
       "        vertical-align: top;\n",
       "    }\n",
       "\n",
       "    .dataframe thead th {\n",
       "        text-align: right;\n",
       "    }\n",
       "</style>\n",
       "<table border=\"1\" class=\"dataframe\">\n",
       "  <thead>\n",
       "    <tr style=\"text-align: right;\">\n",
       "      <th></th>\n",
       "      <th>Hospital Name</th>\n",
       "      <th>Provider Number</th>\n",
       "      <th>State</th>\n",
       "      <th>Measure Name</th>\n",
       "      <th>Number of Discharges</th>\n",
       "      <th>Footnote</th>\n",
       "      <th>Excess Readmission Ratio</th>\n",
       "      <th>Predicted Readmission Rate</th>\n",
       "      <th>Expected Readmission Rate</th>\n",
       "      <th>Number of Readmissions</th>\n",
       "      <th>Start Date</th>\n",
       "      <th>End Date</th>\n",
       "    </tr>\n",
       "  </thead>\n",
       "  <tbody>\n",
       "    <tr>\n",
       "      <th>0</th>\n",
       "      <td>FROEDTERT MEMORIAL LUTHERAN HOSPITAL</td>\n",
       "      <td>520177</td>\n",
       "      <td>WI</td>\n",
       "      <td>READM-30-HIP-KNEE-HRRP</td>\n",
       "      <td>242</td>\n",
       "      <td>NaN</td>\n",
       "      <td>1.9095</td>\n",
       "      <td>10.8</td>\n",
       "      <td>5.6</td>\n",
       "      <td>38.0</td>\n",
       "      <td>07/01/2010</td>\n",
       "      <td>06/30/2013</td>\n",
       "    </tr>\n",
       "    <tr>\n",
       "      <th>1</th>\n",
       "      <td>PROVIDENCE HOSPITAL</td>\n",
       "      <td>90006</td>\n",
       "      <td>DC</td>\n",
       "      <td>READM-30-HIP-KNEE-HRRP</td>\n",
       "      <td>247</td>\n",
       "      <td>NaN</td>\n",
       "      <td>1.7521</td>\n",
       "      <td>9.2</td>\n",
       "      <td>5.3</td>\n",
       "      <td>33.0</td>\n",
       "      <td>07/01/2010</td>\n",
       "      <td>06/30/2013</td>\n",
       "    </tr>\n",
       "  </tbody>\n",
       "</table>\n",
       "</div>"
      ],
      "text/plain": [
       "                          Hospital Name  Provider Number State  \\\n",
       "0  FROEDTERT MEMORIAL LUTHERAN HOSPITAL           520177    WI   \n",
       "1                   PROVIDENCE HOSPITAL            90006    DC   \n",
       "\n",
       "             Measure Name Number of Discharges  Footnote  \\\n",
       "0  READM-30-HIP-KNEE-HRRP                  242       NaN   \n",
       "1  READM-30-HIP-KNEE-HRRP                  247       NaN   \n",
       "\n",
       "   Excess Readmission Ratio  Predicted Readmission Rate  \\\n",
       "0                    1.9095                        10.8   \n",
       "1                    1.7521                         9.2   \n",
       "\n",
       "   Expected Readmission Rate  Number of Readmissions  Start Date    End Date  \n",
       "0                        5.6                    38.0  07/01/2010  06/30/2013  \n",
       "1                        5.3                    33.0  07/01/2010  06/30/2013  "
      ]
     },
     "execution_count": 5,
     "metadata": {},
     "output_type": "execute_result"
    }
   ],
   "source": [
    "hospital_read_df.head(2)"
   ]
  },
  {
   "cell_type": "code",
   "execution_count": 6,
   "metadata": {},
   "outputs": [
    {
     "data": {
      "text/html": [
       "<div>\n",
       "<style scoped>\n",
       "    .dataframe tbody tr th:only-of-type {\n",
       "        vertical-align: middle;\n",
       "    }\n",
       "\n",
       "    .dataframe tbody tr th {\n",
       "        vertical-align: top;\n",
       "    }\n",
       "\n",
       "    .dataframe thead th {\n",
       "        text-align: right;\n",
       "    }\n",
       "</style>\n",
       "<table border=\"1\" class=\"dataframe\">\n",
       "  <thead>\n",
       "    <tr style=\"text-align: right;\">\n",
       "      <th></th>\n",
       "      <th>Provider Number</th>\n",
       "      <th>Footnote</th>\n",
       "      <th>Excess Readmission Ratio</th>\n",
       "      <th>Predicted Readmission Rate</th>\n",
       "      <th>Expected Readmission Rate</th>\n",
       "      <th>Number of Readmissions</th>\n",
       "    </tr>\n",
       "  </thead>\n",
       "  <tbody>\n",
       "    <tr>\n",
       "      <th>count</th>\n",
       "      <td>16860.000000</td>\n",
       "      <td>3129.000000</td>\n",
       "      <td>13731.000000</td>\n",
       "      <td>13731.000000</td>\n",
       "      <td>13731.000000</td>\n",
       "      <td>11497.000000</td>\n",
       "    </tr>\n",
       "    <tr>\n",
       "      <th>mean</th>\n",
       "      <td>263516.943654</td>\n",
       "      <td>2.905401</td>\n",
       "      <td>1.002582</td>\n",
       "      <td>16.916532</td>\n",
       "      <td>16.866135</td>\n",
       "      <td>63.633731</td>\n",
       "    </tr>\n",
       "    <tr>\n",
       "      <th>std</th>\n",
       "      <td>160146.191702</td>\n",
       "      <td>2.074384</td>\n",
       "      <td>0.091088</td>\n",
       "      <td>6.197542</td>\n",
       "      <td>5.989652</td>\n",
       "      <td>59.540296</td>\n",
       "    </tr>\n",
       "    <tr>\n",
       "      <th>min</th>\n",
       "      <td>10001.000000</td>\n",
       "      <td>1.000000</td>\n",
       "      <td>0.549500</td>\n",
       "      <td>2.700000</td>\n",
       "      <td>2.900000</td>\n",
       "      <td>11.000000</td>\n",
       "    </tr>\n",
       "    <tr>\n",
       "      <th>25%</th>\n",
       "      <td>110181.500000</td>\n",
       "      <td>1.000000</td>\n",
       "      <td>0.949500</td>\n",
       "      <td>15.200000</td>\n",
       "      <td>15.800000</td>\n",
       "      <td>24.000000</td>\n",
       "    </tr>\n",
       "    <tr>\n",
       "      <th>50%</th>\n",
       "      <td>250157.000000</td>\n",
       "      <td>1.000000</td>\n",
       "      <td>0.997100</td>\n",
       "      <td>18.500000</td>\n",
       "      <td>18.500000</td>\n",
       "      <td>45.000000</td>\n",
       "    </tr>\n",
       "    <tr>\n",
       "      <th>75%</th>\n",
       "      <td>390138.250000</td>\n",
       "      <td>5.000000</td>\n",
       "      <td>1.052350</td>\n",
       "      <td>21.100000</td>\n",
       "      <td>21.100000</td>\n",
       "      <td>82.000000</td>\n",
       "    </tr>\n",
       "    <tr>\n",
       "      <th>max</th>\n",
       "      <td>670091.000000</td>\n",
       "      <td>7.000000</td>\n",
       "      <td>1.909500</td>\n",
       "      <td>32.800000</td>\n",
       "      <td>29.400000</td>\n",
       "      <td>879.000000</td>\n",
       "    </tr>\n",
       "  </tbody>\n",
       "</table>\n",
       "</div>"
      ],
      "text/plain": [
       "       Provider Number     Footnote  Excess Readmission Ratio  \\\n",
       "count     16860.000000  3129.000000              13731.000000   \n",
       "mean     263516.943654     2.905401                  1.002582   \n",
       "std      160146.191702     2.074384                  0.091088   \n",
       "min       10001.000000     1.000000                  0.549500   \n",
       "25%      110181.500000     1.000000                  0.949500   \n",
       "50%      250157.000000     1.000000                  0.997100   \n",
       "75%      390138.250000     5.000000                  1.052350   \n",
       "max      670091.000000     7.000000                  1.909500   \n",
       "\n",
       "       Predicted Readmission Rate  Expected Readmission Rate  \\\n",
       "count                13731.000000               13731.000000   \n",
       "mean                    16.916532                  16.866135   \n",
       "std                      6.197542                   5.989652   \n",
       "min                      2.700000                   2.900000   \n",
       "25%                     15.200000                  15.800000   \n",
       "50%                     18.500000                  18.500000   \n",
       "75%                     21.100000                  21.100000   \n",
       "max                     32.800000                  29.400000   \n",
       "\n",
       "       Number of Readmissions  \n",
       "count            11497.000000  \n",
       "mean                63.633731  \n",
       "std                 59.540296  \n",
       "min                 11.000000  \n",
       "25%                 24.000000  \n",
       "50%                 45.000000  \n",
       "75%                 82.000000  \n",
       "max                879.000000  "
      ]
     },
     "execution_count": 6,
     "metadata": {},
     "output_type": "execute_result"
    }
   ],
   "source": [
    "hospital_read_df.describe()"
   ]
  },
  {
   "cell_type": "code",
   "execution_count": 7,
   "metadata": {},
   "outputs": [
    {
     "data": {
      "text/plain": [
       "Hospital Name                     0\n",
       "Provider Number                   0\n",
       "State                             0\n",
       "Measure Name                      0\n",
       "Number of Discharges              0\n",
       "Footnote                      13731\n",
       "Excess Readmission Ratio       3129\n",
       "Predicted Readmission Rate     3129\n",
       "Expected Readmission Rate      3129\n",
       "Number of Readmissions         5363\n",
       "Start Date                        0\n",
       "End Date                          0\n",
       "dtype: int64"
      ]
     },
     "execution_count": 7,
     "metadata": {},
     "output_type": "execute_result"
    }
   ],
   "source": [
    "#Finding if Nulls present\n",
    "hospital_read_df.isnull().sum()\n",
    "# Should # of Readmissions , Ratios and Rate be replaced with '0' inplace of Nulls, CHECK"
   ]
  },
  {
   "cell_type": "code",
   "execution_count": 8,
   "metadata": {},
   "outputs": [
    {
     "data": {
      "text/html": [
       "<div>\n",
       "<style scoped>\n",
       "    .dataframe tbody tr th:only-of-type {\n",
       "        vertical-align: middle;\n",
       "    }\n",
       "\n",
       "    .dataframe tbody tr th {\n",
       "        vertical-align: top;\n",
       "    }\n",
       "\n",
       "    .dataframe thead th {\n",
       "        text-align: right;\n",
       "    }\n",
       "</style>\n",
       "<table border=\"1\" class=\"dataframe\">\n",
       "  <thead>\n",
       "    <tr style=\"text-align: right;\">\n",
       "      <th></th>\n",
       "      <th>Hospital Name</th>\n",
       "      <th>Provider Number</th>\n",
       "      <th>State</th>\n",
       "      <th>Measure Name</th>\n",
       "      <th>Number of Discharges</th>\n",
       "      <th>Footnote</th>\n",
       "      <th>Excess Readmission Ratio</th>\n",
       "      <th>Predicted Readmission Rate</th>\n",
       "      <th>Expected Readmission Rate</th>\n",
       "      <th>Number of Readmissions</th>\n",
       "      <th>Start Date</th>\n",
       "      <th>End Date</th>\n",
       "    </tr>\n",
       "  </thead>\n",
       "  <tbody>\n",
       "  </tbody>\n",
       "</table>\n",
       "</div>"
      ],
      "text/plain": [
       "Empty DataFrame\n",
       "Columns: [Hospital Name, Provider Number, State, Measure Name, Number of Discharges, Footnote, Excess Readmission Ratio, Predicted Readmission Rate, Expected Readmission Rate, Number of Readmissions, Start Date, End Date]\n",
       "Index: []"
      ]
     },
     "execution_count": 8,
     "metadata": {},
     "output_type": "execute_result"
    }
   ],
   "source": [
    "# Inspect duplicate observations:\n",
    "hospital_read_df[hospital_read_df.duplicated(keep=False)]\n",
    "# so there are no duplicates"
   ]
  },
  {
   "cell_type": "code",
   "execution_count": 9,
   "metadata": {},
   "outputs": [
    {
     "name": "stdout",
     "output_type": "stream",
     "text": [
      "<class 'pandas.core.frame.DataFrame'>\n",
      "RangeIndex: 16860 entries, 0 to 16859\n",
      "Data columns (total 12 columns):\n",
      "Hospital Name                 16860 non-null object\n",
      "Provider Number               16860 non-null int64\n",
      "State                         16860 non-null object\n",
      "Measure Name                  16860 non-null object\n",
      "Number of Discharges          16860 non-null object\n",
      "Footnote                      3129 non-null float64\n",
      "Excess Readmission Ratio      13731 non-null float64\n",
      "Predicted Readmission Rate    13731 non-null float64\n",
      "Expected Readmission Rate     13731 non-null float64\n",
      "Number of Readmissions        11497 non-null float64\n",
      "Start Date                    16860 non-null object\n",
      "End Date                      16860 non-null object\n",
      "dtypes: float64(5), int64(1), object(6)\n",
      "memory usage: 1.5+ MB\n"
     ]
    }
   ],
   "source": [
    "hospital_read_df.info()"
   ]
  },
  {
   "cell_type": "code",
   "execution_count": 10,
   "metadata": {},
   "outputs": [],
   "source": [
    "#to convert data types of Date columns, # of Discharges CHECK"
   ]
  },
  {
   "cell_type": "markdown",
   "metadata": {},
   "source": [
    "****\n",
    "## Preliminary Analysis"
   ]
  },
  {
   "cell_type": "code",
   "execution_count": 11,
   "metadata": {},
   "outputs": [
    {
     "name": "stderr",
     "output_type": "stream",
     "text": [
      "/anaconda2/lib/python2.7/site-packages/pandas/core/indexing.py:537: SettingWithCopyWarning: \n",
      "A value is trying to be set on a copy of a slice from a DataFrame.\n",
      "Try using .loc[row_indexer,col_indexer] = value instead\n",
      "\n",
      "See the caveats in the documentation: http://pandas.pydata.org/pandas-docs/stable/indexing.html#indexing-view-versus-copy\n",
      "  self.obj[item] = s\n"
     ]
    }
   ],
   "source": [
    "# deal with missing and inconvenient portions of data \n",
    "clean_hospital_read_df = hospital_read_df[hospital_read_df['Number of Discharges'] != 'Not Available']\n",
    "clean_hospital_read_df.loc[:, 'Number of Discharges'] = clean_hospital_read_df['Number of Discharges'].astype(int)\n",
    "clean_hospital_read_df = clean_hospital_read_df.sort_values('Number of Discharges')"
   ]
  },
  {
   "cell_type": "code",
   "execution_count": 12,
   "metadata": {},
   "outputs": [
    {
     "data": {
      "image/png": "[encoded data removed]",
      "text/plain": [
       "<matplotlib.figure.Figure at 0x109b2a5d0>"
      ]
     },
     "metadata": {},
     "output_type": "display_data"
    }
   ],
   "source": [
    "# generate a scatterplot for number of discharges vs. excess rate of readmissions\n",
    "# lists work better with matplotlib scatterplot function\n",
    "x = [a for a in clean_hospital_read_df['Number of Discharges'][81:-3]]\n",
    "y = list(clean_hospital_read_df['Excess Readmission Ratio'][81:-3])\n",
    "\n",
    "fig, ax = plt.subplots(figsize=(8,5))\n",
    "ax.scatter(x, y,alpha=0.2)\n",
    "\n",
    "ax.fill_between([0,350], 1.15, 2, facecolor='red', alpha = .15, interpolate=True)\n",
    "ax.fill_between([800,2500], .5, .95, facecolor='green', alpha = .15, interpolate=True)\n",
    "\n",
    "ax.set_xlim([0, max(x)])\n",
    "ax.set_xlabel('Number of discharges', fontsize=12)\n",
    "ax.set_ylabel('Excess rate of readmissions', fontsize=12)\n",
    "ax.set_title('Scatterplot of number of discharges vs. excess rate of readmissions', fontsize=14)\n",
    "\n",
    "ax.grid(True)\n",
    "fig.tight_layout()"
   ]
  },
  {
   "cell_type": "markdown",
   "metadata": {},
   "source": [
    "****\n",
    "\n",
    "## Preliminary Report\n",
    "\n",
    "Read the following results/report. While you are reading it, think about if the conclusions are correct, incorrect, misleading or unfounded. Think about what you would change or what additional analyses you would perform.\n",
    "\n",
    "**A. Initial observations based on the plot above**\n",
    "+ Overall, rate of readmissions is trending down with increasing number of discharges\n",
    "+ With lower number of discharges, there is a greater incidence of excess rate of readmissions (area shaded red)\n",
    "+ With higher number of discharges, there is a greater incidence of lower rates of readmissions (area shaded green) \n",
    "\n",
    "**B. Statistics**\n",
    "+ In hospitals/facilities with number of discharges < 100, mean excess readmission rate is 1.023 and 63% have excess readmission rate greater than 1 \n",
    "+ In hospitals/facilities with number of discharges > 1000, mean excess readmission rate is 0.978 and 44% have excess readmission rate greater than 1 \n",
    "\n",
    "**C. Conclusions**\n",
    "+ There is a significant correlation between hospital capacity (number of discharges) and readmission rates. \n",
    "+ Smaller hospitals/facilities may be lacking necessary resources to ensure quality care and prevent complications that lead to readmissions.\n",
    "\n",
    "**D. Regulatory policy recommendations**\n",
    "+ Hospitals/facilties with small capacity (< 300) should be required to demonstrate upgraded resource allocation for quality care to continue operation.\n",
    "+ Directives and incentives should be provided for consolidation of hospitals and facilities to have a smaller number of them with higher capacity and number of discharges."
   ]
  },
  {
   "cell_type": "markdown",
   "metadata": {},
   "source": [
    "****\n",
    "### Exercise\n",
    "\n",
    "Include your work on the following **in this notebook and submit to your Github account**. \n",
    "\n",
    "A. Do you agree with the above analysis and recommendations? Why or why not?\n",
    "   \n",
    "B. Provide support for your arguments and your own recommendations with a statistically sound analysis:\n",
    "\n",
    "   1. Setup an appropriate hypothesis test.\n",
    "   2. Compute and report the observed significance value (or p-value).\n",
    "   3. Report statistical significance for $\\alpha$ = .01. \n",
    "   4. Discuss statistical significance and practical significance. Do they differ here? How does this change your recommendation to the client?\n",
    "   5. Look at the scatterplot above. \n",
    "      - What are the advantages and disadvantages of using this plot to convey information?\n",
    "      - Construct another plot that conveys the same information in a more direct manner.\n",
    "\n",
    "\n",
    "\n",
    "You can compose in notebook cells using Markdown: \n",
    "+ In the control panel at the top, choose Cell > Cell Type > Markdown\n",
    "+ Markdown syntax: http://nestacms.com/docs/creating-content/markdown-cheat-sheet\n",
    "****"
   ]
  },
  {
   "cell_type": "code",
   "execution_count": 13,
   "metadata": {},
   "outputs": [],
   "source": [
    "# Your turn"
   ]
  },
  {
   "cell_type": "markdown",
   "metadata": {
    "collapsed": true
   },
   "source": [
    "<h1> A. Do you agree with the above analysis and recommendations? Why or why not?"
   ]
  },
  {
   "cell_type": "markdown",
   "metadata": {},
   "source": [
    "Whilst the analysis above provides a starting point to look at the issues, further analysis is still required before any conclusions are drawn. Firstly, the analysis provides summary statistics on populations with arbitary segmentation (e.g. hospitals/facilities with number of discharges < 100) without analyzing if the differences in the population are statistically significant.\n",
    "Using the preliminary analysis then plots the number of discharges vs. excess rate of readmissions to draw a conclusion that there is a significant corrolation. Using the corrolation, the preliminary analysis uses it to conclude a causation which it then uses to propose a recommendation that is not supported by the study (e.g. no prior mention that facilities < 300 constitute a small capacity, no root cause analysis done on the concluded issues). Furthermore, the recommendation of consolidation fails to account for practical factors (e.g. if consolidation would still afford citizens basic health care within an acceptable response time) and lacks a simple financial study to verify the cost implications of such a measure. Whilst the study's conclusions and recommendations may be true, this is not currently supported by the information presented. Further studies are required to reach such conclusions."
   ]
  },
  {
   "cell_type": "markdown",
   "metadata": {},
   "source": [
    "No, I do not agree with the analysis or recommendations above. Here are 5 reasons why: <br>\n",
    "1. A proper hypothesis test was not conducted to determine the statistical significance of readmission rate across different hospital sizes.<br>\n",
    "2. The numerical relationship was simply \"eyeballed\" between number of discharges and rate of readmissions. There was no correlation coefficient or numerical evaluation calculated to confirm initial observations.<br>\n",
    "3. The conclusion is completely unfounded around hospital size lacking resources </span> There's no evidence that more resources would resolve this issue.<br>\n",
    "4. A close relationship is implicitly implied between hospital size and number of discharges. However, there's no evidence presented that this is always the case.\n",
    "5. The cutoff changes throughout of what defines a small hospital (e.g. 100, 1000, 300 etc.)"
   ]
  },
  {
   "cell_type": "markdown",
   "metadata": {},
   "source": [
    "<h1>QUESTION #2: Conduct a statistically sound analysis <br>\n",
    "2.1) Check for normality of distributions<br>\n",
    "2.2) Setup an appropiate hypothesis test<br>\n",
    "2.3) Report the observed p-value value, statistical significance for alpha = 0.01"
   ]
  },
  {
   "cell_type": "code",
   "execution_count": 14,
   "metadata": {},
   "outputs": [],
   "source": [
    "from scipy.stats import normaltest\n",
    "import seaborn as sns"
   ]
  },
  {
   "cell_type": "markdown",
   "metadata": {},
   "source": [
    "<b>2.1: Check for normality of distributions"
   ]
  },
  {
   "cell_type": "code",
   "execution_count": 15,
   "metadata": {},
   "outputs": [],
   "source": [
    "def check_significance(p_val, alpha):\n",
    "    if p_val < alpha:\n",
    "        print(\"The null hypothesis can be rejected\")\n",
    "    else:\n",
    "        print(\"The null hypothesis cannot be rejected\")"
   ]
  },
  {
   "cell_type": "code",
   "execution_count": 16,
   "metadata": {},
   "outputs": [],
   "source": [
    "def normal_hypoth_test(data, alpha):\n",
    "    \n",
    "    # calculate statistic & p-value\n",
    "    statistic, p_val = normaltest(df['Number of Discharges'])\n",
    "    print('chi-square statistic:',statistic)\n",
    "    print('p value =',p_val)\n",
    "    # check significance\n",
    "    check_significance(p_val, alpha)\n",
    "    \n",
    "    return statistic, p_val"
   ]
  },
  {
   "cell_type": "code",
   "execution_count": 22,
   "metadata": {},
   "outputs": [
    {
     "data": {
      "text/html": [
       "<div>\n",
       "<style scoped>\n",
       "    .dataframe tbody tr th:only-of-type {\n",
       "        vertical-align: middle;\n",
       "    }\n",
       "\n",
       "    .dataframe tbody tr th {\n",
       "        vertical-align: top;\n",
       "    }\n",
       "\n",
       "    .dataframe thead th {\n",
       "        text-align: right;\n",
       "    }\n",
       "</style>\n",
       "<table border=\"1\" class=\"dataframe\">\n",
       "  <thead>\n",
       "    <tr style=\"text-align: right;\">\n",
       "      <th></th>\n",
       "      <th>Hospital Name</th>\n",
       "      <th>Provider Number</th>\n",
       "      <th>State</th>\n",
       "      <th>Measure Name</th>\n",
       "      <th>Number of Discharges</th>\n",
       "      <th>Footnote</th>\n",
       "      <th>Excess Readmission Ratio</th>\n",
       "      <th>Predicted Readmission Rate</th>\n",
       "      <th>Expected Readmission Rate</th>\n",
       "      <th>Number of Readmissions</th>\n",
       "      <th>Start Date</th>\n",
       "      <th>End Date</th>\n",
       "    </tr>\n",
       "  </thead>\n",
       "  <tbody>\n",
       "    <tr>\n",
       "      <th>16857</th>\n",
       "      <td>THREE RIVERS MEDICAL CENTER</td>\n",
       "      <td>180128</td>\n",
       "      <td>KY</td>\n",
       "      <td>READM-30-HIP-KNEE-HRRP</td>\n",
       "      <td>0</td>\n",
       "      <td>7.0</td>\n",
       "      <td>NaN</td>\n",
       "      <td>NaN</td>\n",
       "      <td>NaN</td>\n",
       "      <td>NaN</td>\n",
       "      <td>07/01/2010</td>\n",
       "      <td>06/30/2013</td>\n",
       "    </tr>\n",
       "    <tr>\n",
       "      <th>14582</th>\n",
       "      <td>SELLS INDIAN HEALTH SERVICE HOSPITAL</td>\n",
       "      <td>30074</td>\n",
       "      <td>AZ</td>\n",
       "      <td>READM-30-COPD-HRRP</td>\n",
       "      <td>0</td>\n",
       "      <td>7.0</td>\n",
       "      <td>NaN</td>\n",
       "      <td>NaN</td>\n",
       "      <td>NaN</td>\n",
       "      <td>NaN</td>\n",
       "      <td>07/01/2010</td>\n",
       "      <td>06/30/2013</td>\n",
       "    </tr>\n",
       "    <tr>\n",
       "      <th>15606</th>\n",
       "      <td>PHS INDIAN HOSPITAL AT PINE RIDGE</td>\n",
       "      <td>430081</td>\n",
       "      <td>SD</td>\n",
       "      <td>READM-30-AMI-HRRP</td>\n",
       "      <td>0</td>\n",
       "      <td>7.0</td>\n",
       "      <td>NaN</td>\n",
       "      <td>NaN</td>\n",
       "      <td>NaN</td>\n",
       "      <td>NaN</td>\n",
       "      <td>07/01/2010</td>\n",
       "      <td>06/30/2013</td>\n",
       "    </tr>\n",
       "  </tbody>\n",
       "</table>\n",
       "</div>"
      ],
      "text/plain": [
       "                              Hospital Name  Provider Number State  \\\n",
       "16857           THREE RIVERS MEDICAL CENTER           180128    KY   \n",
       "14582  SELLS INDIAN HEALTH SERVICE HOSPITAL            30074    AZ   \n",
       "15606     PHS INDIAN HOSPITAL AT PINE RIDGE           430081    SD   \n",
       "\n",
       "                 Measure Name  Number of Discharges  Footnote  \\\n",
       "16857  READM-30-HIP-KNEE-HRRP                     0       7.0   \n",
       "14582      READM-30-COPD-HRRP                     0       7.0   \n",
       "15606       READM-30-AMI-HRRP                     0       7.0   \n",
       "\n",
       "       Excess Readmission Ratio  Predicted Readmission Rate  \\\n",
       "16857                       NaN                         NaN   \n",
       "14582                       NaN                         NaN   \n",
       "15606                       NaN                         NaN   \n",
       "\n",
       "       Expected Readmission Rate  Number of Readmissions  Start Date  \\\n",
       "16857                        NaN                     NaN  07/01/2010   \n",
       "14582                        NaN                     NaN  07/01/2010   \n",
       "15606                        NaN                     NaN  07/01/2010   \n",
       "\n",
       "         End Date  \n",
       "16857  06/30/2013  \n",
       "14582  06/30/2013  \n",
       "15606  06/30/2013  "
      ]
     },
     "execution_count": 22,
     "metadata": {},
     "output_type": "execute_result"
    }
   ],
   "source": [
    "df = clean_hospital_read_df\n",
    "df.head(3)"
   ]
  },
  {
   "cell_type": "code",
   "execution_count": 23,
   "metadata": {},
   "outputs": [
    {
     "data": {
      "image/png": "[encoded data removed]",
      "text/plain": [
       "<matplotlib.figure.Figure at 0x10f24c8d0>"
      ]
     },
     "metadata": {},
     "output_type": "display_data"
    }
   ],
   "source": [
    "ax = sns.distplot(df['Number of Discharges'])"
   ]
  },
  {
   "cell_type": "code",
   "execution_count": 24,
   "metadata": {},
   "outputs": [
    {
     "name": "stdout",
     "output_type": "stream",
     "text": [
      "('chi-square statistic:', 8412.44775274452)\n",
      "('p value =', 0.0)\n",
      "The null hypothesis can be rejected\n"
     ]
    }
   ],
   "source": [
    "# conduct normal test on number of discharges\n",
    "stat, p_val = normal_hypoth_test(df['Number of Discharges'], alpha=0.05)"
   ]
  },
  {
   "cell_type": "code",
   "execution_count": 25,
   "metadata": {},
   "outputs": [
    {
     "data": {
      "image/png": "[encoded data removed]",
      "text/plain": [
       "<matplotlib.figure.Figure at 0x105807f90>"
      ]
     },
     "metadata": {},
     "output_type": "display_data"
    }
   ],
   "source": [
    "ax = sns.distplot(df['Excess Readmission Ratio'].dropna())"
   ]
  },
  {
   "cell_type": "code",
   "execution_count": 26,
   "metadata": {},
   "outputs": [
    {
     "name": "stdout",
     "output_type": "stream",
     "text": [
      "('chi-square statistic:', 8412.44775274452)\n",
      "('p value =', 0.0)\n",
      "The null hypothesis can be rejected\n"
     ]
    }
   ],
   "source": [
    "# conduct normal test on number of discharges\n",
    "stat, p_val = normal_hypoth_test(df['Excess Readmission Ratio'].dropna(), alpha=0.05)"
   ]
  },
  {
   "cell_type": "markdown",
   "metadata": {},
   "source": [
    "NOTE: Both distributions are not normal (skewed-right)\n",
    "However, we can proceed with t-test because it's robust to the normality assumption."
   ]
  },
  {
   "cell_type": "markdown",
   "metadata": {},
   "source": [
    "<h3> 2.2: Setup an appropiate hypothesis test"
   ]
  },
  {
   "cell_type": "markdown",
   "metadata": {},
   "source": [
    "Test Type: t-test for the correlation coefficient\n",
    "#### because we are investigating the existence of a linear relationship between two populations\n",
    "Null Hypothesis:\n",
    "it is assumed that there is no relationship between two populations until proven otherwise<br>\n",
    "Alternative Hypothesis: \n",
    "because it could be a positive or negative correlation. <br>\n",
    "<br>\n",
    "Null hypothesis: There is no difference in the excess readmission rate for hospitals/facilities with number of discharges <= 300 (6213 observations) and those > 300(5365 observations). Note that 300 was chosen as it was used in the final recommendation as a definition of small capacity.\n",
    "Test statistic: Mean excess readmission rate (note the level of readmission rate greater than 1 is a measure of the distrubtion's skew)."
   ]
  },
  {
   "cell_type": "markdown",
   "metadata": {},
   "source": [
    "<h1> 2.3 Compute and report the observed significance value (or p-value), statistical significance for alpha = 0.01"
   ]
  },
  {
   "cell_type": "code",
   "execution_count": 27,
   "metadata": {},
   "outputs": [
    {
     "name": "stdout",
     "output_type": "stream",
     "text": [
      "('correlation coefficient:', -0.09739794351079353)\n",
      "('p value =', 1.222547377680967e-25)\n",
      "The null hypothesis can be rejected\n"
     ]
    }
   ],
   "source": [
    "# conduct hypothesis test for pearson correlation coefficient\n",
    "from scipy import stats\n",
    "discharges = df[df['Number of Discharges'] > 0]['Number of Discharges']\n",
    "readmission = df[df['Number of Discharges'] > 0]['Excess Readmission Ratio']\n",
    "pho, p_val = stats.pearsonr(discharges, readmission)\n",
    "\n",
    "print('correlation coefficient:',pho)\n",
    "print('p value =',p_val)\n",
    "check_significance(p_val, alpha=0.01)"
   ]
  },
  {
   "cell_type": "markdown",
   "metadata": {},
   "source": [
    "There is a statistically significant correlation (p-value = 1.22 e-25) for a hospital's number of discharges and their excess readmission ratio."
   ]
  },
  {
   "cell_type": "markdown",
   "metadata": {},
   "source": [
    "<h1> 4. Discuss statistical significance and practical significance. Do they differ here? How does this change your recommendation to the client?"
   ]
  },
  {
   "cell_type": "markdown",
   "metadata": {},
   "source": [
    "The finding here is that there is a statistically significant lower Excess Readmission Ratio in hospitals/facilities with a higher number of discharges. The practical significance of this finding is obscured by the baseline used - the 'expected readmission rate'. The expected readmission rate is derived from an average hospital with similar patients. Practically speaking, the baseline should be a theoretical limit informed by a study. Alternatively they could have use real data around 'useful' readmissions (e.g. active interventions or if the course of treatment was significantly altered) to determine if the level of excess readmissions was acceptable.\n",
    "My recommendation would be to study the cause of the lower readmission before taking action. For example, the readmission in larger facilities could be lower because there are better and more experienced doctors in those facilities. The recommendation for such a finding would be to review and improve the quality of training in smaller facilities."
   ]
  },
  {
   "cell_type": "markdown",
   "metadata": {},
   "source": [
    "Statistical significance is solely a factor of p-value, while practical significance accounts accounts for \"effect size\".\n",
    "This is an important difference because it's easy to find statistical significance by simply inflating our test's sample size (n).\n",
    "Effect size emphasises the size of the difference rather than confounding this with sample size.\n",
    "Effect size allows us to move beyond the simplistic, 'Does it work or not?' to the far more sophisticated, 'How well does it work in a range of contexts?'\n",
    "\n",
    "In this case, we have statistical signicance but not practical significance. \n",
    "The p-value = 1.22 e-25, but the effect size for our correlation coefficient (r = -0.097) is considered very small (aka \"insignificant\")"
   ]
  },
  {
   "cell_type": "markdown",
   "metadata": {},
   "source": [
    "This changes the recommendation to the client by forcing us to retract the assumption that excess readmission can be attributed to hospital size. \n",
    "Moreover, it's not evident that a hospital's readmission rate can be accounted for by the amount of \"resources\" the hospital has.\n",
    "Thus, it's no longer relevant to recommended that hospitals demonstrate upgraded resource allocation and/or consolidate their facilities."
   ]
  },
  {
   "cell_type": "markdown",
   "metadata": {},
   "source": [
    "<h1> 5. What are the advantages and disadvantages of using the scatter plot above to convey information?"
   ]
  },
  {
   "cell_type": "markdown",
   "metadata": {},
   "source": [
    "The scatter plot above has the advantage of providing the reader a sense of distribution (spread and density) of the data along both axes. The information provided to the reader is very rich, for example, we clearly see that for facilities under 500 discharges, the data is concentrated around 0.8 - 1.2. The lack of data with very small discharges (under 50) with excess readmission rate below 1.1 makes me suspicious of the baseline. This level of information isn't always available with simpler plots. On the flip side, the excess of information could detract from the main message the author is tryign to convey, for example, that the mean is higher for small facilities."
   ]
  },
  {
   "cell_type": "markdown",
   "metadata": {},
   "source": [
    "<h1> Construct another plot that conveys the same information in a more direct manner."
   ]
  },
  {
   "cell_type": "markdown",
   "metadata": {},
   "source": [
    "Advantages:<br>\n",
    "- visually appealing (green and red shaded regions)<br>\n",
    "- captures the density of the point distribution across both the x & y axis<br>\n",
    "Disadvantages:<br>\n",
    "- no \"correlation coefficient\" or relationship shown<br>\n",
    "- no indication of the distribution of each individual statistic"
   ]
  },
  {
   "cell_type": "code",
   "execution_count": 21,
   "metadata": {
    "scrolled": true
   },
   "outputs": [
    {
     "name": "stderr",
     "output_type": "stream",
     "text": [
      "/anaconda2/lib/python2.7/site-packages/ipykernel_launcher.py:3: SettingWithCopyWarning: \n",
      "A value is trying to be set on a copy of a slice from a DataFrame.\n",
      "Try using .loc[row_indexer,col_indexer] = value instead\n",
      "\n",
      "See the caveats in the documentation: http://pandas.pydata.org/pandas-docs/stable/indexing.html#indexing-view-versus-copy\n",
      "  This is separate from the ipykernel package so we can avoid doing imports until\n"
     ]
    },
    {
     "data": {
      "image/png": "[encoded data removed]",
      "text/plain": [
       "<matplotlib.figure.Figure at 0x10f270310>"
      ]
     },
     "metadata": {},
     "output_type": "display_data"
    }
   ],
   "source": [
    "import seaborn as sns\n",
    "\n",
    "clean_data['size'] = ['small' if discharges <= 100 else 'large' for discharges in clean_data['Number of Discharges'] ]\n",
    "_ = sns.boxplot(x=\"size\", y=\"Excess Readmission Ratio\", data=clean_data)\n",
    "\n",
    "_.set_ylim([0.7, 1.3])\n",
    "_.set_xlabel('Size of facility', fontsize=12)\n",
    "_.set_ylabel('Excess rate of readmissions', fontsize=12)\n",
    "_.set_title('Excess rate of readmissions for small (<=100 discharges) and large (>100) facilities', fontsize=14)\n",
    "\n",
    "plt.show()"
   ]
  },
  {
   "cell_type": "code",
   "execution_count": 30,
   "metadata": {},
   "outputs": [
    {
     "data": {
      "image/png": "[encoded data removed]",
      "text/plain": [
       "<matplotlib.figure.Figure at 0x10f50d050>"
      ]
     },
     "metadata": {},
     "output_type": "display_data"
    }
   ],
   "source": [
    "#Another Plot\n",
    "sns.jointplot(discharges, readmission, kind='reg');"
   ]
  },
  {
   "cell_type": "markdown",
   "metadata": {},
   "source": [
    "this jointplot conveys information in a more direct manner by:\n",
    "accounting for each of the advantages above\n",
    "making up for each of the disadvantages"
   ]
  }
 ],
 "metadata": {
  "anaconda-cloud": {},
  "kernelspec": {
   "display_name": "Python 2",
   "language": "python",
   "name": "python2"
  },
  "language_info": {
   "codemirror_mode": {
    "name": "ipython",
    "version": 2
   },
   "file_extension": ".py",
   "mimetype": "text/x-python",
   "name": "python",
   "nbconvert_exporter": "python",
   "pygments_lexer": "ipython2",
   "version": "2.7.14"
  }
 },
 "nbformat": 4,
 "nbformat_minor": 1
}
