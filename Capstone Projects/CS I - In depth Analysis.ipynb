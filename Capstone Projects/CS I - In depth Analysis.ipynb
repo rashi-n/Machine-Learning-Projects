{
 "cells": [
  {
   "cell_type": "markdown",
   "metadata": {},
   "source": [
    "<h1>Bike Sharing Dataset using Decision Tree Regressor\n"
   ]
  },
  {
   "cell_type": "markdown",
   "metadata": {},
   "source": [
    "<B>This is Supervised problem as the output datasets are provided and I used this to predict the future outcomes of target variable.\n",
    "    \n",
    "This is regression problem as dependent variable i.e. Bike Rental Count is continuous values or ordered whole values. Regression means to predict the output value using training data.\n"
   ]
  },
  {
   "cell_type": "markdown",
   "metadata": {},
   "source": [
    "<B>Based on Bike Sharing dataset from UCI Machine Learning Repository\n",
    "This notebook is based upon the hourly data file, i.e. hour.csv\n",
    "This notebook showcases regression using Decision Trees"
   ]
  },
  {
   "cell_type": "markdown",
   "metadata": {},
   "source": [
    "<h3>Problem Statement"
   ]
  },
  {
   "cell_type": "markdown",
   "metadata": {},
   "source": [
    "Given the Bike Sharing dataset with hourly level information of bikes along with weather, User type Registered/Casual and other attributes, model a system which can predict the bike count."
   ]
  },
  {
   "cell_type": "markdown",
   "metadata": {},
   "source": [
    "<h1>Import required packages"
   ]
  },
  {
   "cell_type": "code",
   "execution_count": 1,
   "metadata": {},
   "outputs": [],
   "source": [
    "%matplotlib inline\n",
    "\n",
    "# data manuipulation\n",
    "import numpy as np\n",
    "import pandas as pd\n",
    "\n",
    "# modeling utilities\n",
    "import pydotplus \n",
    "from sklearn import tree\n",
    "from sklearn import metrics\n",
    "from sklearn import preprocessing\n",
    "from sklearn.tree import DecisionTreeRegressor\n",
    "from sklearn.model_selection import GridSearchCV\n",
    "from sklearn.model_selection import cross_val_score\n",
    "from sklearn.model_selection import train_test_split\n",
    "\n",
    "\n",
    "# plotting libraries\n",
    "import seaborn as sn\n",
    "import matplotlib.pyplot as plt\n",
    "import seaborn as sn\n",
    "\n",
    "\n",
    "sn.set_style('whitegrid')\n",
    "sn.set_context('talk')\n",
    "params = {'legend.fontsize': 'x-large',\n",
    "          'figure.figsize': (30, 10),\n",
    "          'axes.labelsize': 'x-large',\n",
    "          'axes.titlesize':'x-large',\n",
    "          'xtick.labelsize':'x-large',\n",
    "          'ytick.labelsize':'x-large'}\n",
    "\n",
    "plt.rcParams.update(params)"
   ]
  },
  {
   "cell_type": "code",
   "execution_count": 2,
   "metadata": {},
   "outputs": [],
   "source": [
    "#Importing the dataset\n",
    "stats = pd.read_csv('hour.csv')"
   ]
  },
  {
   "cell_type": "code",
   "execution_count": 3,
   "metadata": {},
   "outputs": [
    {
     "data": {
      "text/plain": [
       "(17379, 17)"
      ]
     },
     "execution_count": 3,
     "metadata": {},
     "output_type": "execute_result"
    }
   ],
   "source": [
    "#Shape of dataset\n",
    "stats.shape"
   ]
  },
  {
   "cell_type": "markdown",
   "metadata": {},
   "source": [
    "<h1>The dataset contains more than 17K records with 17 features "
   ]
  },
  {
   "cell_type": "code",
   "execution_count": 4,
   "metadata": {},
   "outputs": [
    {
     "data": {
      "text/html": [
       "<div>\n",
       "<style scoped>\n",
       "    .dataframe tbody tr th:only-of-type {\n",
       "        vertical-align: middle;\n",
       "    }\n",
       "\n",
       "    .dataframe tbody tr th {\n",
       "        vertical-align: top;\n",
       "    }\n",
       "\n",
       "    .dataframe thead th {\n",
       "        text-align: right;\n",
       "    }\n",
       "</style>\n",
       "<table border=\"1\" class=\"dataframe\">\n",
       "  <thead>\n",
       "    <tr style=\"text-align: right;\">\n",
       "      <th></th>\n",
       "      <th>instant</th>\n",
       "      <th>dteday</th>\n",
       "      <th>season</th>\n",
       "      <th>yr</th>\n",
       "      <th>mnth</th>\n",
       "      <th>hr</th>\n",
       "      <th>holiday</th>\n",
       "      <th>weekday</th>\n",
       "      <th>workingday</th>\n",
       "      <th>weathersit</th>\n",
       "      <th>temp</th>\n",
       "      <th>atemp</th>\n",
       "      <th>hum</th>\n",
       "      <th>windspeed</th>\n",
       "      <th>casual</th>\n",
       "      <th>registered</th>\n",
       "      <th>cnt</th>\n",
       "    </tr>\n",
       "  </thead>\n",
       "  <tbody>\n",
       "    <tr>\n",
       "      <th>0</th>\n",
       "      <td>1</td>\n",
       "      <td>1/1/11</td>\n",
       "      <td>1</td>\n",
       "      <td>0</td>\n",
       "      <td>1</td>\n",
       "      <td>0</td>\n",
       "      <td>0</td>\n",
       "      <td>6</td>\n",
       "      <td>0</td>\n",
       "      <td>1</td>\n",
       "      <td>0.24</td>\n",
       "      <td>0.2879</td>\n",
       "      <td>0.81</td>\n",
       "      <td>0.0</td>\n",
       "      <td>3</td>\n",
       "      <td>13</td>\n",
       "      <td>16</td>\n",
       "    </tr>\n",
       "    <tr>\n",
       "      <th>1</th>\n",
       "      <td>2</td>\n",
       "      <td>1/1/11</td>\n",
       "      <td>1</td>\n",
       "      <td>0</td>\n",
       "      <td>1</td>\n",
       "      <td>1</td>\n",
       "      <td>0</td>\n",
       "      <td>6</td>\n",
       "      <td>0</td>\n",
       "      <td>1</td>\n",
       "      <td>0.22</td>\n",
       "      <td>0.2727</td>\n",
       "      <td>0.80</td>\n",
       "      <td>0.0</td>\n",
       "      <td>8</td>\n",
       "      <td>32</td>\n",
       "      <td>40</td>\n",
       "    </tr>\n",
       "    <tr>\n",
       "      <th>2</th>\n",
       "      <td>3</td>\n",
       "      <td>1/1/11</td>\n",
       "      <td>1</td>\n",
       "      <td>0</td>\n",
       "      <td>1</td>\n",
       "      <td>2</td>\n",
       "      <td>0</td>\n",
       "      <td>6</td>\n",
       "      <td>0</td>\n",
       "      <td>1</td>\n",
       "      <td>0.22</td>\n",
       "      <td>0.2727</td>\n",
       "      <td>0.80</td>\n",
       "      <td>0.0</td>\n",
       "      <td>5</td>\n",
       "      <td>27</td>\n",
       "      <td>32</td>\n",
       "    </tr>\n",
       "  </tbody>\n",
       "</table>\n",
       "</div>"
      ],
      "text/plain": [
       "   instant  dteday  season  yr  mnth  hr  holiday  weekday  workingday  \\\n",
       "0        1  1/1/11       1   0     1   0        0        6           0   \n",
       "1        2  1/1/11       1   0     1   1        0        6           0   \n",
       "2        3  1/1/11       1   0     1   2        0        6           0   \n",
       "\n",
       "   weathersit  temp   atemp   hum  windspeed  casual  registered  cnt  \n",
       "0           1  0.24  0.2879  0.81        0.0       3          13   16  \n",
       "1           1  0.22  0.2727  0.80        0.0       8          32   40  \n",
       "2           1  0.22  0.2727  0.80        0.0       5          27   32  "
      ]
     },
     "execution_count": 4,
     "metadata": {},
     "output_type": "execute_result"
    }
   ],
   "source": [
    "# top 3 rows from the dataset\n",
    "stats.head(3)"
   ]
  },
  {
   "cell_type": "markdown",
   "metadata": {},
   "source": [
    "<h1> Data Wrangling"
   ]
  },
  {
   "cell_type": "code",
   "execution_count": 5,
   "metadata": {},
   "outputs": [
    {
     "name": "stdout",
     "output_type": "stream",
     "text": [
      "<class 'pandas.core.frame.DataFrame'>\n",
      "RangeIndex: 17379 entries, 0 to 17378\n",
      "Data columns (total 17 columns):\n",
      "instant       17379 non-null int64\n",
      "dteday        17379 non-null object\n",
      "season        17379 non-null int64\n",
      "yr            17379 non-null int64\n",
      "mnth          17379 non-null int64\n",
      "hr            17379 non-null int64\n",
      "holiday       17379 non-null int64\n",
      "weekday       17379 non-null int64\n",
      "workingday    17379 non-null int64\n",
      "weathersit    17379 non-null int64\n",
      "temp          17379 non-null float64\n",
      "atemp         17379 non-null float64\n",
      "hum           17379 non-null float64\n",
      "windspeed     17379 non-null float64\n",
      "casual        17379 non-null int64\n",
      "registered    17379 non-null int64\n",
      "cnt           17379 non-null int64\n",
      "dtypes: float64(4), int64(12), object(1)\n",
      "memory usage: 2.3+ MB\n"
     ]
    }
   ],
   "source": [
    "#finding if any nulls and data types of the features\n",
    "stats.info()"
   ]
  },
  {
   "cell_type": "markdown",
   "metadata": {},
   "source": [
    "<h3> Renaming the columns, Type casting the attributes "
   ]
  },
  {
   "cell_type": "code",
   "execution_count": 6,
   "metadata": {},
   "outputs": [],
   "source": [
    "stats.rename(columns = {'instant': 'rec_id',\n",
    "                       'dteday':'datetime',\n",
    "                       'holiday': 'is_holiday',\n",
    "                       'workingday': 'is_workingday',\n",
    "                       'weathersit': 'weather_condition',\n",
    "                       'hum': 'humidity', \n",
    "                       'mnth': 'month',\n",
    "                       'cnt': 'total_count',\n",
    "                       'hr': 'hour',\n",
    "                       'yr': 'year'}, inplace = True)"
   ]
  },
  {
   "cell_type": "code",
   "execution_count": 7,
   "metadata": {},
   "outputs": [],
   "source": [
    "#type casting the attributes\n",
    "stats['datetime'] = pd.to_datetime(stats.datetime)#dae time conversion\n",
    "# categorical variables\n",
    "stats['season'] = stats.season.astype('category')\n",
    "stats['is_holiday'] = stats.is_holiday.astype('category')\n",
    "stats['weekday'] = stats.weekday.astype('category')\n",
    "stats['weather_condition'] = stats.weather_condition.astype('category')\n",
    "stats['is_workingday'] = stats.is_workingday.astype('category')\n",
    "stats['month'] = stats.month.astype('category')\n",
    "stats['year'] = stats.year.astype('category')\n",
    "stats['hour'] = stats.hour.astype('category')"
   ]
  },
  {
   "cell_type": "markdown",
   "metadata": {},
   "source": [
    "<h1> Decision Tree Regression on All the Features"
   ]
  },
  {
   "cell_type": "code",
   "execution_count": 8,
   "metadata": {},
   "outputs": [
    {
     "data": {
      "text/plain": [
       "DecisionTreeRegressor(criterion='mse', max_depth=None, max_features=None,\n",
       "           max_leaf_nodes=None, min_impurity_decrease=0.0,\n",
       "           min_impurity_split=None, min_samples_leaf=1,\n",
       "           min_samples_split=2, min_weight_fraction_leaf=0.0,\n",
       "           presort=False, random_state=0, splitter='best')"
      ]
     },
     "execution_count": 8,
     "metadata": {},
     "output_type": "execute_result"
    }
   ],
   "source": [
    "# Fitting the DEcision Tree Regression Model to the dataset\n",
    "from sklearn.tree import DecisionTreeRegressor\n",
    "X, X_test, y, y_test = train_test_split(stats.iloc[:,2:-3], stats.iloc[:,16], \n",
    "                                                    test_size=0.33, random_state=42)\n",
    "\n",
    "regressor = DecisionTreeRegressor(random_state = 0)\n",
    "regressor.fit(X, y)"
   ]
  },
  {
   "cell_type": "code",
   "execution_count": 9,
   "metadata": {},
   "outputs": [
    {
     "data": {
      "text/plain": [
       "array([360., 103.,   9., ..., 182., 563., 136.])"
      ]
     },
     "execution_count": 9,
     "metadata": {},
     "output_type": "execute_result"
    }
   ],
   "source": [
    "y_pred = regressor.predict(X_test)\n",
    "y_pred"
   ]
  },
  {
   "cell_type": "code",
   "execution_count": 10,
   "metadata": {},
   "outputs": [
    {
     "name": "stdout",
     "output_type": "stream",
     "text": [
      "      season year month hour is_holiday weekday is_workingday  \\\n",
      "5749       3    0     9    0          0       5             1   \n",
      "1843       2    0     3   13          0       2             1   \n",
      "13855      3    1     8   12          0       0             0   \n",
      "9723       1    1     2    2          0       3             1   \n",
      "10981      2    1     4   17          0       6             0   \n",
      "1285       1    0     2   17          0       6             0   \n",
      "16759      4    1    12    2          0       4             1   \n",
      "4303       3    0     7    5          0       0             0   \n",
      "6366       4    0     9   20          0       2             1   \n",
      "1941       2    0     3   16          0       6             0   \n",
      "16397      4    1    11   23          0       2             1   \n",
      "1091       1    0     2    5          0       5             1   \n",
      "6891       4    0    10   18          0       3             1   \n",
      "73         1    0     1    5          0       2             1   \n",
      "3397       2    0     5   11          0       4             1   \n",
      "14067      3    1     8    8          0       2             1   \n",
      "8604       1    0    12    7          0       5             1   \n",
      "4192       3    0     6   14          0       2             1   \n",
      "14875      3    1     9    0          0       1             1   \n",
      "14488      3    1     8   21          0       5             1   \n",
      "9149       1    1     1    3          0       0             0   \n",
      "5064       3    0     8   22          0       3             1   \n",
      "4387       3    0     7   17          0       3             1   \n",
      "17126      1    1    12    9          0       5             1   \n",
      "16539      4    1    11   21          0       1             1   \n",
      "12560      2    1     6   13          0       2             1   \n",
      "10269      1    1     3   23          0       4             1   \n",
      "14106      3    1     8   23          0       3             1   \n",
      "13139      3    1     7   16          0       5             1   \n",
      "7882       4    0    11    2          0       3             1   \n",
      "...      ...  ...   ...  ...        ...     ...           ...   \n",
      "14502      3    1     9   11          0       6             0   \n",
      "8838       1    1     1    2          0       1             1   \n",
      "3890       2    0     6    0          0       4             1   \n",
      "3556       2    0     6    2          0       4             1   \n",
      "11394      2    1     4   23          0       2             1   \n",
      "1267       1    0     2   23          0       5             1   \n",
      "1899       2    0     3   22          0       4             1   \n",
      "3005       2    0     5    3          0       2             1   \n",
      "189        1    0     1    4          0       0             0   \n",
      "2747       2    0     4    9          0       5             1   \n",
      "8666       1    1     1   21          0       0             0   \n",
      "6396       4    0     9    2          0       4             1   \n",
      "6420       4    0     9    2          0       5             1   \n",
      "5051       3    0     8    9          0       3             1   \n",
      "5311       3    0     8    5          0       0             0   \n",
      "2433       2    0     4    7          0       6             0   \n",
      "769        1    0     2   12          0       5             1   \n",
      "1685       1    0     3   20          0       2             1   \n",
      "8322       4    0    12   10          0       0             0   \n",
      "16023      4    1    11    8          0       1             1   \n",
      "11363      2    1     4   16          0       1             1   \n",
      "14423      3    1     8    4          0       3             1   \n",
      "4426       3    0     7    8          0       5             1   \n",
      "16850      4    1    12   21          0       0             0   \n",
      "6265       4    0     9   15          0       5             1   \n",
      "11284      2    1     4    9          0       5             1   \n",
      "11964      2    1     5   17          0       5             1   \n",
      "5390       3    0     8   12          0       3             1   \n",
      "860        1    0     2    7          0       2             1   \n",
      "15795      4    1    10    8          0       4             1   \n",
      "\n",
      "      weather_condition  temp   atemp  humidity  windspeed  \n",
      "5749                  1  0.64  0.6061      0.65     0.1940  \n",
      "1843                  1  0.50  0.4848      0.45     0.2239  \n",
      "13855                 1  0.86  0.8030      0.47     0.5224  \n",
      "9723                  1  0.30  0.3333      0.61     0.0000  \n",
      "10981                 1  0.54  0.5152      0.19     0.4179  \n",
      "1285                  1  0.36  0.3485      0.43     0.2239  \n",
      "16759                 1  0.24  0.2121      0.52     0.2836  \n",
      "4303                  3  0.62  0.5758      0.83     0.1940  \n",
      "6366                  1  0.62  0.5909      0.78     0.0000  \n",
      "1941                  1  0.34  0.3333      0.23     0.1940  \n",
      "16397                 1  0.32  0.3333      0.81     0.1045  \n",
      "1091                  2  0.46  0.4545      0.67     0.1045  \n",
      "6891                  3  0.56  0.5303      1.00     0.1642  \n",
      "73                    1  0.12  0.1515      0.68     0.1045  \n",
      "3397                  1  0.74  0.6970      0.66     0.2239  \n",
      "14067                 2  0.66  0.5909      0.89     0.0896  \n",
      "8604                  1  0.24  0.2576      0.75     0.0896  \n",
      "4192                  1  0.86  0.7879      0.44     0.2239  \n",
      "14875                 1  0.54  0.5152      0.68     0.1642  \n",
      "14488                 1  0.76  0.7121      0.58     0.1940  \n",
      "9149                  2  0.18  0.1667      0.69     0.2836  \n",
      "5064                  3  0.68  0.6364      0.89     0.1045  \n",
      "4387                  1  0.78  0.7424      0.59     0.2239  \n",
      "17126                 2  0.32  0.2727      0.45     0.5522  \n",
      "16539                 1  0.34  0.3636      0.49     0.0000  \n",
      "12560                 3  0.66  0.6061      0.83     0.1940  \n",
      "10269                 2  0.56  0.5303      0.49     0.4478  \n",
      "14106                 1  0.68  0.6364      0.65     0.1045  \n",
      "13139                 1  0.92  0.8182      0.29     0.1045  \n",
      "7882                  1  0.32  0.3182      0.70     0.1642  \n",
      "...                 ...   ...     ...       ...        ...  \n",
      "14502                 2  0.80  0.7576      0.55     0.2239  \n",
      "8838                  1  0.24  0.2424      0.56     0.1343  \n",
      "3890                  1  0.60  0.6212      0.56     0.1045  \n",
      "3556                  1  0.70  0.6364      0.39     0.0000  \n",
      "11394                 1  0.42  0.4242      0.38     0.0896  \n",
      "1267                  1  0.26  0.2273      0.48     0.3284  \n",
      "1899                  1  0.26  0.2576      0.65     0.1642  \n",
      "3005                  1  0.44  0.4394      0.54     0.1940  \n",
      "189                   1  0.08  0.0909      0.53     0.1940  \n",
      "2747                  1  0.54  0.5152      0.39     0.3284  \n",
      "8666                  2  0.44  0.4394      0.67     0.2537  \n",
      "6396                  2  0.60  0.5000      1.00     0.1940  \n",
      "6420                  1  0.52  0.5000      0.83     0.1045  \n",
      "5051                  2  0.74  0.6818      0.55     0.1940  \n",
      "5311                  2  0.64  0.5606      0.94     0.1642  \n",
      "2433                  2  0.40  0.4091      0.82     0.4179  \n",
      "769                   2  0.24  0.2424      0.48     0.1642  \n",
      "1685                  2  0.34  0.3182      0.71     0.2836  \n",
      "8322                  1  0.24  0.2273      0.60     0.2537  \n",
      "16023                 2  0.30  0.2879      0.49     0.2239  \n",
      "11363                 3  0.30  0.2727      0.81     0.3582  \n",
      "14423                 1  0.60  0.5909      0.73     0.2239  \n",
      "4426                  2  0.72  0.6970      0.74     0.2537  \n",
      "16850                 2  0.36  0.3636      1.00     0.1045  \n",
      "6265                  3  0.62  0.5455      0.94     0.1045  \n",
      "11284                 1  0.46  0.4545      0.88     0.0896  \n",
      "11964                 1  0.66  0.6212      0.34     0.1343  \n",
      "5390                  1  0.80  0.7273      0.43     0.2836  \n",
      "860                   1  0.24  0.1970      0.65     0.4179  \n",
      "15795                 2  0.52  0.5000      0.83     0.1642  \n",
      "\n",
      "[11643 rows x 12 columns]\n"
     ]
    }
   ],
   "source": [
    "print (X)"
   ]
  },
  {
   "cell_type": "code",
   "execution_count": 11,
   "metadata": {},
   "outputs": [
    {
     "data": {
      "text/plain": [
       "0.8857883669426379"
      ]
     },
     "execution_count": 11,
     "metadata": {},
     "output_type": "execute_result"
    }
   ],
   "source": [
    "regressor.score(X_test, y_test)"
   ]
  },
  {
   "cell_type": "markdown",
   "metadata": {},
   "source": [
    "The default scoring mechanism for any Regression ML model is R2. This metric quantifies the amount of variance in the target variable that is predicted from the feautre variable. I find this score far better than the score I got with Linear Regression. "
   ]
  },
  {
   "cell_type": "markdown",
   "metadata": {},
   "source": [
    "<h1> Cross Validation 5-folds"
   ]
  },
  {
   "cell_type": "markdown",
   "metadata": {},
   "source": [
    "To avoid the prediction of target variable by the split % of train & test data, Cross validation method is introduced to group the data into 5(or K) folds and performing train-test split & prediction on each fold iteratively and we predict the value of R2 5 times. Then from here we may compute Mean, Median or 95% Confidence Interval."
   ]
  },
  {
   "cell_type": "code",
   "execution_count": 12,
   "metadata": {},
   "outputs": [
    {
     "name": "stdout",
     "output_type": "stream",
     "text": [
      "[0.87212515 0.83738118 0.85254783 0.86757887 0.86173096]\n"
     ]
    }
   ],
   "source": [
    "from sklearn.model_selection import cross_val_score\n",
    "#reg = linear_model.LinearRegression()\n",
    "cv_results = cross_val_score(regressor.fit(X,y), X_test, y_test, cv= 5)\n",
    "print(cv_results)"
   ]
  },
  {
   "cell_type": "code",
   "execution_count": 13,
   "metadata": {},
   "outputs": [
    {
     "data": {
      "text/plain": [
       "0.8582727961896776"
      ]
     },
     "execution_count": 13,
     "metadata": {},
     "output_type": "execute_result"
    }
   ],
   "source": [
    "np.mean(cv_results)"
   ]
  },
  {
   "cell_type": "code",
   "execution_count": 14,
   "metadata": {},
   "outputs": [],
   "source": [
    "r2_scores = cross_val_score(regressor.fit(X,y), X_test, y_test, cv=5)\n",
    "mse_scores = cross_val_score(regressor.fit(X,y), X_test, y_test, cv=5,scoring='neg_mean_squared_error')"
   ]
  },
  {
   "cell_type": "code",
   "execution_count": 50,
   "metadata": {},
   "outputs": [
    {
     "data": {
      "image/png": "[encoded data removed]",
      "text/plain": [
       "<matplotlib.figure.Figure at 0x1a1cd02890>"
      ]
     },
     "metadata": {},
     "output_type": "display_data"
    }
   ],
   "source": [
    "fig, ax = plt.subplots()\n",
    "ax.plot([i for i in range(len(r2_scores))],r2_scores,lw=2)\n",
    "ax.set_xlabel('Iteration')\n",
    "ax.set_ylabel('R-Squared')\n",
    "ax.title.set_text(\"Cross Validation Scores, Avg:{}\".format(np.average(r2_scores)))\n",
    "plt.show()"
   ]
  },
  {
   "cell_type": "code",
   "execution_count": 16,
   "metadata": {},
   "outputs": [
    {
     "name": "stdout",
     "output_type": "stream",
     "text": [
      "R-squared::[0.87212515 0.83738118 0.85254783 0.86757887 0.86173096]\n",
      "MSE::[-3813.68031359 -5214.48496077 -4904.86312119 -4390.91891892\n",
      " -4304.16325196]\n"
     ]
    }
   ],
   "source": [
    "print(\"R-squared::{}\".format(r2_scores))\n",
    "print(\"MSE::{}\".format(mse_scores))\n",
    "# print(\"R-Squared::{}\".format(grid_cv_dtr.best_score_))\n",
    "# print(\"Best Hyperparameters::\\n{}\".format(grid_cv_dtr.best_params_))"
   ]
  },
  {
   "cell_type": "markdown",
   "metadata": {},
   "source": [
    "<b> On applying cross validation R2 average is lowered to 0.86 from 0.885 Decision Tree regressor score. This may be due to overfitting."
   ]
  },
  {
   "cell_type": "markdown",
   "metadata": {},
   "source": [
    "<h1>Regularized Ridge Regression in Scikit-Learn"
   ]
  },
  {
   "cell_type": "code",
   "execution_count": 17,
   "metadata": {},
   "outputs": [
    {
     "data": {
      "text/plain": [
       "0.39024245916347916"
      ]
     },
     "execution_count": 17,
     "metadata": {},
     "output_type": "execute_result"
    }
   ],
   "source": [
    "from sklearn.linear_model import Ridge\n",
    "ridge = Ridge(alpha =0.1, normalize=True)\n",
    "ridge.fit(X, y)\n",
    "ridge_pred = ridge.predict(X_test)\n",
    "ridge.score(X_test, y_test)"
   ]
  },
  {
   "cell_type": "code",
   "execution_count": 18,
   "metadata": {},
   "outputs": [
    {
     "name": "stdout",
     "output_type": "stream",
     "text": [
      "      season year month hour is_holiday weekday is_workingday  \\\n",
      "5749       3    0     9    0          0       5             1   \n",
      "1843       2    0     3   13          0       2             1   \n",
      "13855      3    1     8   12          0       0             0   \n",
      "9723       1    1     2    2          0       3             1   \n",
      "10981      2    1     4   17          0       6             0   \n",
      "1285       1    0     2   17          0       6             0   \n",
      "16759      4    1    12    2          0       4             1   \n",
      "4303       3    0     7    5          0       0             0   \n",
      "6366       4    0     9   20          0       2             1   \n",
      "1941       2    0     3   16          0       6             0   \n",
      "16397      4    1    11   23          0       2             1   \n",
      "1091       1    0     2    5          0       5             1   \n",
      "6891       4    0    10   18          0       3             1   \n",
      "73         1    0     1    5          0       2             1   \n",
      "3397       2    0     5   11          0       4             1   \n",
      "14067      3    1     8    8          0       2             1   \n",
      "8604       1    0    12    7          0       5             1   \n",
      "4192       3    0     6   14          0       2             1   \n",
      "14875      3    1     9    0          0       1             1   \n",
      "14488      3    1     8   21          0       5             1   \n",
      "9149       1    1     1    3          0       0             0   \n",
      "5064       3    0     8   22          0       3             1   \n",
      "4387       3    0     7   17          0       3             1   \n",
      "17126      1    1    12    9          0       5             1   \n",
      "16539      4    1    11   21          0       1             1   \n",
      "12560      2    1     6   13          0       2             1   \n",
      "10269      1    1     3   23          0       4             1   \n",
      "14106      3    1     8   23          0       3             1   \n",
      "13139      3    1     7   16          0       5             1   \n",
      "7882       4    0    11    2          0       3             1   \n",
      "...      ...  ...   ...  ...        ...     ...           ...   \n",
      "14502      3    1     9   11          0       6             0   \n",
      "8838       1    1     1    2          0       1             1   \n",
      "3890       2    0     6    0          0       4             1   \n",
      "3556       2    0     6    2          0       4             1   \n",
      "11394      2    1     4   23          0       2             1   \n",
      "1267       1    0     2   23          0       5             1   \n",
      "1899       2    0     3   22          0       4             1   \n",
      "3005       2    0     5    3          0       2             1   \n",
      "189        1    0     1    4          0       0             0   \n",
      "2747       2    0     4    9          0       5             1   \n",
      "8666       1    1     1   21          0       0             0   \n",
      "6396       4    0     9    2          0       4             1   \n",
      "6420       4    0     9    2          0       5             1   \n",
      "5051       3    0     8    9          0       3             1   \n",
      "5311       3    0     8    5          0       0             0   \n",
      "2433       2    0     4    7          0       6             0   \n",
      "769        1    0     2   12          0       5             1   \n",
      "1685       1    0     3   20          0       2             1   \n",
      "8322       4    0    12   10          0       0             0   \n",
      "16023      4    1    11    8          0       1             1   \n",
      "11363      2    1     4   16          0       1             1   \n",
      "14423      3    1     8    4          0       3             1   \n",
      "4426       3    0     7    8          0       5             1   \n",
      "16850      4    1    12   21          0       0             0   \n",
      "6265       4    0     9   15          0       5             1   \n",
      "11284      2    1     4    9          0       5             1   \n",
      "11964      2    1     5   17          0       5             1   \n",
      "5390       3    0     8   12          0       3             1   \n",
      "860        1    0     2    7          0       2             1   \n",
      "15795      4    1    10    8          0       4             1   \n",
      "\n",
      "      weather_condition  temp   atemp  humidity  windspeed  \n",
      "5749                  1  0.64  0.6061      0.65     0.1940  \n",
      "1843                  1  0.50  0.4848      0.45     0.2239  \n",
      "13855                 1  0.86  0.8030      0.47     0.5224  \n",
      "9723                  1  0.30  0.3333      0.61     0.0000  \n",
      "10981                 1  0.54  0.5152      0.19     0.4179  \n",
      "1285                  1  0.36  0.3485      0.43     0.2239  \n",
      "16759                 1  0.24  0.2121      0.52     0.2836  \n",
      "4303                  3  0.62  0.5758      0.83     0.1940  \n",
      "6366                  1  0.62  0.5909      0.78     0.0000  \n",
      "1941                  1  0.34  0.3333      0.23     0.1940  \n",
      "16397                 1  0.32  0.3333      0.81     0.1045  \n",
      "1091                  2  0.46  0.4545      0.67     0.1045  \n",
      "6891                  3  0.56  0.5303      1.00     0.1642  \n",
      "73                    1  0.12  0.1515      0.68     0.1045  \n",
      "3397                  1  0.74  0.6970      0.66     0.2239  \n",
      "14067                 2  0.66  0.5909      0.89     0.0896  \n",
      "8604                  1  0.24  0.2576      0.75     0.0896  \n",
      "4192                  1  0.86  0.7879      0.44     0.2239  \n",
      "14875                 1  0.54  0.5152      0.68     0.1642  \n",
      "14488                 1  0.76  0.7121      0.58     0.1940  \n",
      "9149                  2  0.18  0.1667      0.69     0.2836  \n",
      "5064                  3  0.68  0.6364      0.89     0.1045  \n",
      "4387                  1  0.78  0.7424      0.59     0.2239  \n",
      "17126                 2  0.32  0.2727      0.45     0.5522  \n",
      "16539                 1  0.34  0.3636      0.49     0.0000  \n",
      "12560                 3  0.66  0.6061      0.83     0.1940  \n",
      "10269                 2  0.56  0.5303      0.49     0.4478  \n",
      "14106                 1  0.68  0.6364      0.65     0.1045  \n",
      "13139                 1  0.92  0.8182      0.29     0.1045  \n",
      "7882                  1  0.32  0.3182      0.70     0.1642  \n",
      "...                 ...   ...     ...       ...        ...  \n",
      "14502                 2  0.80  0.7576      0.55     0.2239  \n",
      "8838                  1  0.24  0.2424      0.56     0.1343  \n",
      "3890                  1  0.60  0.6212      0.56     0.1045  \n",
      "3556                  1  0.70  0.6364      0.39     0.0000  \n",
      "11394                 1  0.42  0.4242      0.38     0.0896  \n",
      "1267                  1  0.26  0.2273      0.48     0.3284  \n",
      "1899                  1  0.26  0.2576      0.65     0.1642  \n",
      "3005                  1  0.44  0.4394      0.54     0.1940  \n",
      "189                   1  0.08  0.0909      0.53     0.1940  \n",
      "2747                  1  0.54  0.5152      0.39     0.3284  \n",
      "8666                  2  0.44  0.4394      0.67     0.2537  \n",
      "6396                  2  0.60  0.5000      1.00     0.1940  \n",
      "6420                  1  0.52  0.5000      0.83     0.1045  \n",
      "5051                  2  0.74  0.6818      0.55     0.1940  \n",
      "5311                  2  0.64  0.5606      0.94     0.1642  \n",
      "2433                  2  0.40  0.4091      0.82     0.4179  \n",
      "769                   2  0.24  0.2424      0.48     0.1642  \n",
      "1685                  2  0.34  0.3182      0.71     0.2836  \n",
      "8322                  1  0.24  0.2273      0.60     0.2537  \n",
      "16023                 2  0.30  0.2879      0.49     0.2239  \n",
      "11363                 3  0.30  0.2727      0.81     0.3582  \n",
      "14423                 1  0.60  0.5909      0.73     0.2239  \n",
      "4426                  2  0.72  0.6970      0.74     0.2537  \n",
      "16850                 2  0.36  0.3636      1.00     0.1045  \n",
      "6265                  3  0.62  0.5455      0.94     0.1045  \n",
      "11284                 1  0.46  0.4545      0.88     0.0896  \n",
      "11964                 1  0.66  0.6212      0.34     0.1343  \n",
      "5390                  1  0.80  0.7273      0.43     0.2836  \n",
      "860                   1  0.24  0.1970      0.65     0.4179  \n",
      "15795                 2  0.52  0.5000      0.83     0.1642  \n",
      "\n",
      "[11643 rows x 12 columns]\n"
     ]
    }
   ],
   "source": [
    "print (X)"
   ]
  },
  {
   "cell_type": "markdown",
   "metadata": {},
   "source": [
    "<h1> Lasso Regression in Scikit-Learn"
   ]
  },
  {
   "cell_type": "code",
   "execution_count": 19,
   "metadata": {},
   "outputs": [
    {
     "data": {
      "text/plain": [
       "0.3779824852159332"
      ]
     },
     "execution_count": 19,
     "metadata": {},
     "output_type": "execute_result"
    }
   ],
   "source": [
    "from sklearn.linear_model import Lasso\n",
    "lasso = Lasso(alpha =0.1, normalize=True)\n",
    "lasso.fit(X, y)\n",
    "lasso_pred = lasso.predict(X_test)\n",
    "lasso.score(X_test, y_test)"
   ]
  },
  {
   "cell_type": "code",
   "execution_count": 20,
   "metadata": {},
   "outputs": [
    {
     "name": "stdout",
     "output_type": "stream",
     "text": [
      "      season year month hour is_holiday weekday is_workingday  \\\n",
      "5749       3    0     9    0          0       5             1   \n",
      "1843       2    0     3   13          0       2             1   \n",
      "13855      3    1     8   12          0       0             0   \n",
      "9723       1    1     2    2          0       3             1   \n",
      "10981      2    1     4   17          0       6             0   \n",
      "1285       1    0     2   17          0       6             0   \n",
      "16759      4    1    12    2          0       4             1   \n",
      "4303       3    0     7    5          0       0             0   \n",
      "6366       4    0     9   20          0       2             1   \n",
      "1941       2    0     3   16          0       6             0   \n",
      "16397      4    1    11   23          0       2             1   \n",
      "1091       1    0     2    5          0       5             1   \n",
      "6891       4    0    10   18          0       3             1   \n",
      "73         1    0     1    5          0       2             1   \n",
      "3397       2    0     5   11          0       4             1   \n",
      "14067      3    1     8    8          0       2             1   \n",
      "8604       1    0    12    7          0       5             1   \n",
      "4192       3    0     6   14          0       2             1   \n",
      "14875      3    1     9    0          0       1             1   \n",
      "14488      3    1     8   21          0       5             1   \n",
      "9149       1    1     1    3          0       0             0   \n",
      "5064       3    0     8   22          0       3             1   \n",
      "4387       3    0     7   17          0       3             1   \n",
      "17126      1    1    12    9          0       5             1   \n",
      "16539      4    1    11   21          0       1             1   \n",
      "12560      2    1     6   13          0       2             1   \n",
      "10269      1    1     3   23          0       4             1   \n",
      "14106      3    1     8   23          0       3             1   \n",
      "13139      3    1     7   16          0       5             1   \n",
      "7882       4    0    11    2          0       3             1   \n",
      "...      ...  ...   ...  ...        ...     ...           ...   \n",
      "14502      3    1     9   11          0       6             0   \n",
      "8838       1    1     1    2          0       1             1   \n",
      "3890       2    0     6    0          0       4             1   \n",
      "3556       2    0     6    2          0       4             1   \n",
      "11394      2    1     4   23          0       2             1   \n",
      "1267       1    0     2   23          0       5             1   \n",
      "1899       2    0     3   22          0       4             1   \n",
      "3005       2    0     5    3          0       2             1   \n",
      "189        1    0     1    4          0       0             0   \n",
      "2747       2    0     4    9          0       5             1   \n",
      "8666       1    1     1   21          0       0             0   \n",
      "6396       4    0     9    2          0       4             1   \n",
      "6420       4    0     9    2          0       5             1   \n",
      "5051       3    0     8    9          0       3             1   \n",
      "5311       3    0     8    5          0       0             0   \n",
      "2433       2    0     4    7          0       6             0   \n",
      "769        1    0     2   12          0       5             1   \n",
      "1685       1    0     3   20          0       2             1   \n",
      "8322       4    0    12   10          0       0             0   \n",
      "16023      4    1    11    8          0       1             1   \n",
      "11363      2    1     4   16          0       1             1   \n",
      "14423      3    1     8    4          0       3             1   \n",
      "4426       3    0     7    8          0       5             1   \n",
      "16850      4    1    12   21          0       0             0   \n",
      "6265       4    0     9   15          0       5             1   \n",
      "11284      2    1     4    9          0       5             1   \n",
      "11964      2    1     5   17          0       5             1   \n",
      "5390       3    0     8   12          0       3             1   \n",
      "860        1    0     2    7          0       2             1   \n",
      "15795      4    1    10    8          0       4             1   \n",
      "\n",
      "      weather_condition  temp   atemp  humidity  windspeed  \n",
      "5749                  1  0.64  0.6061      0.65     0.1940  \n",
      "1843                  1  0.50  0.4848      0.45     0.2239  \n",
      "13855                 1  0.86  0.8030      0.47     0.5224  \n",
      "9723                  1  0.30  0.3333      0.61     0.0000  \n",
      "10981                 1  0.54  0.5152      0.19     0.4179  \n",
      "1285                  1  0.36  0.3485      0.43     0.2239  \n",
      "16759                 1  0.24  0.2121      0.52     0.2836  \n",
      "4303                  3  0.62  0.5758      0.83     0.1940  \n",
      "6366                  1  0.62  0.5909      0.78     0.0000  \n",
      "1941                  1  0.34  0.3333      0.23     0.1940  \n",
      "16397                 1  0.32  0.3333      0.81     0.1045  \n",
      "1091                  2  0.46  0.4545      0.67     0.1045  \n",
      "6891                  3  0.56  0.5303      1.00     0.1642  \n",
      "73                    1  0.12  0.1515      0.68     0.1045  \n",
      "3397                  1  0.74  0.6970      0.66     0.2239  \n",
      "14067                 2  0.66  0.5909      0.89     0.0896  \n",
      "8604                  1  0.24  0.2576      0.75     0.0896  \n",
      "4192                  1  0.86  0.7879      0.44     0.2239  \n",
      "14875                 1  0.54  0.5152      0.68     0.1642  \n",
      "14488                 1  0.76  0.7121      0.58     0.1940  \n",
      "9149                  2  0.18  0.1667      0.69     0.2836  \n",
      "5064                  3  0.68  0.6364      0.89     0.1045  \n",
      "4387                  1  0.78  0.7424      0.59     0.2239  \n",
      "17126                 2  0.32  0.2727      0.45     0.5522  \n",
      "16539                 1  0.34  0.3636      0.49     0.0000  \n",
      "12560                 3  0.66  0.6061      0.83     0.1940  \n",
      "10269                 2  0.56  0.5303      0.49     0.4478  \n",
      "14106                 1  0.68  0.6364      0.65     0.1045  \n",
      "13139                 1  0.92  0.8182      0.29     0.1045  \n",
      "7882                  1  0.32  0.3182      0.70     0.1642  \n",
      "...                 ...   ...     ...       ...        ...  \n",
      "14502                 2  0.80  0.7576      0.55     0.2239  \n",
      "8838                  1  0.24  0.2424      0.56     0.1343  \n",
      "3890                  1  0.60  0.6212      0.56     0.1045  \n",
      "3556                  1  0.70  0.6364      0.39     0.0000  \n",
      "11394                 1  0.42  0.4242      0.38     0.0896  \n",
      "1267                  1  0.26  0.2273      0.48     0.3284  \n",
      "1899                  1  0.26  0.2576      0.65     0.1642  \n",
      "3005                  1  0.44  0.4394      0.54     0.1940  \n",
      "189                   1  0.08  0.0909      0.53     0.1940  \n",
      "2747                  1  0.54  0.5152      0.39     0.3284  \n",
      "8666                  2  0.44  0.4394      0.67     0.2537  \n",
      "6396                  2  0.60  0.5000      1.00     0.1940  \n",
      "6420                  1  0.52  0.5000      0.83     0.1045  \n",
      "5051                  2  0.74  0.6818      0.55     0.1940  \n",
      "5311                  2  0.64  0.5606      0.94     0.1642  \n",
      "2433                  2  0.40  0.4091      0.82     0.4179  \n",
      "769                   2  0.24  0.2424      0.48     0.1642  \n",
      "1685                  2  0.34  0.3182      0.71     0.2836  \n",
      "8322                  1  0.24  0.2273      0.60     0.2537  \n",
      "16023                 2  0.30  0.2879      0.49     0.2239  \n",
      "11363                 3  0.30  0.2727      0.81     0.3582  \n",
      "14423                 1  0.60  0.5909      0.73     0.2239  \n",
      "4426                  2  0.72  0.6970      0.74     0.2537  \n",
      "16850                 2  0.36  0.3636      1.00     0.1045  \n",
      "6265                  3  0.62  0.5455      0.94     0.1045  \n",
      "11284                 1  0.46  0.4545      0.88     0.0896  \n",
      "11964                 1  0.66  0.6212      0.34     0.1343  \n",
      "5390                  1  0.80  0.7273      0.43     0.2836  \n",
      "860                   1  0.24  0.1970      0.65     0.4179  \n",
      "15795                 2  0.52  0.5000      0.83     0.1642  \n",
      "\n",
      "[11643 rows x 12 columns]\n"
     ]
    }
   ],
   "source": [
    "print ((X))"
   ]
  },
  {
   "cell_type": "code",
   "execution_count": 21,
   "metadata": {},
   "outputs": [
    {
     "data": {
      "text/plain": [
       "str"
      ]
     },
     "execution_count": 21,
     "metadata": {},
     "output_type": "execute_result"
    }
   ],
   "source": [
    "type((min(X)))"
   ]
  },
  {
   "cell_type": "markdown",
   "metadata": {},
   "source": [
    "<H1> ONE HOT ENCODING - The Categorical Features"
   ]
  },
  {
   "cell_type": "code",
   "execution_count": 22,
   "metadata": {},
   "outputs": [],
   "source": [
    "def fit_transform_ohe(df,col_name):\n",
    "    \"\"\"This function performs one hot encoding for the specified\n",
    "        column.\n",
    "\n",
    "    Args:\n",
    "        df(pandas.DataFrame): the data frame containing the mentioned column name\n",
    "        col_name: the column to be one hot encoded\n",
    "\n",
    "    Returns:\n",
    "        tuple: label_encoder, one_hot_encoder, transformed column as pandas Series\n",
    "\n",
    "    \"\"\"\n",
    "    # label encode the column\n",
    "    le = preprocessing.LabelEncoder()\n",
    "    le_labels = le.fit_transform(df[col_name])\n",
    "    df[col_name+'_label'] = le_labels\n",
    "    \n",
    "    # one hot encoding\n",
    "    ohe = preprocessing.OneHotEncoder()\n",
    "    feature_arr = ohe.fit_transform(df[[col_name+'_label']]).toarray()\n",
    "    feature_labels = [col_name+'_'+str(cls_label) for cls_label in le.classes_]\n",
    "    features_df = pd.DataFrame(feature_arr, columns=feature_labels)\n",
    "    \n",
    "    return le,ohe,features_df\n",
    "\n",
    "# given label encoder and one hot encoder objects, \n",
    "# encode attribute to ohe\n",
    "def transform_ohe(df,le,ohe,col_name):\n",
    "    \"\"\"This function performs one hot encoding for the specified\n",
    "        column using the specified encoder objects.\n",
    "\n",
    "    Args:\n",
    "        df(pandas.DataFrame): the data frame containing the mentioned column name\n",
    "        le(Label Encoder): the label encoder object used to fit label encoding\n",
    "        ohe(One Hot Encoder): the onen hot encoder object used to fit one hot encoding\n",
    "        col_name: the column to be one hot encoded\n",
    "\n",
    "    Returns:\n",
    "        tuple: transformed column as pandas Series\n",
    "\n",
    "    \"\"\"\n",
    "    # label encode\n",
    "    col_labels = le.transform(df[col_name]) \n",
    "    df[col_name+'_label'] = col_labels\n",
    "    \n",
    "    # ohe \n",
    "    feature_arr = ohe.fit_transform(df[[col_name+'_label']]).toarray()\n",
    "    feature_labels = [col_name+'_'+str(cls_label) for cls_label in le.classes_]\n",
    "    features_df = pd.DataFrame(feature_arr, columns=feature_labels)\n",
    "    \n",
    "    return features_df"
   ]
  },
  {
   "cell_type": "markdown",
   "metadata": {},
   "source": [
    "<h1> Train Test Split"
   ]
  },
  {
   "cell_type": "code",
   "execution_count": 23,
   "metadata": {},
   "outputs": [
    {
     "name": "stdout",
     "output_type": "stream",
     "text": [
      "Training set::(11643, 15)(11643, 2)\n",
      "Testing set::(5736, 15)\n"
     ]
    }
   ],
   "source": [
    "X, X_test, y, y_test = train_test_split(stats.iloc[:,2:-1], stats.iloc[:,-1], \n",
    "                                                    test_size=0.33, random_state=42)\n",
    "\n",
    "X.reset_index(inplace=True)\n",
    "y = y.reset_index()\n",
    "\n",
    "X_test.reset_index(inplace=True)\n",
    "y_test = y_test.reset_index()\n",
    "\n",
    "print(\"Training set::{}{}\".format(X.shape,y.shape))\n",
    "print(\"Testing set::{}\".format(X_test.shape))"
   ]
  },
  {
   "cell_type": "code",
   "execution_count": 24,
   "metadata": {},
   "outputs": [
    {
     "name": "stdout",
     "output_type": "stream",
     "text": [
      "   index season year month hour is_holiday weekday is_workingday  \\\n",
      "0   5749      3    0     9    0          0       5             1   \n",
      "1   1843      2    0     3   13          0       2             1   \n",
      "2  13855      3    1     8   12          0       0             0   \n",
      "3   9723      1    1     2    2          0       3             1   \n",
      "4  10981      2    1     4   17          0       6             0   \n",
      "5   1285      1    0     2   17          0       6             0   \n",
      "6  16759      4    1    12    2          0       4             1   \n",
      "7   4303      3    0     7    5          0       0             0   \n",
      "8   6366      4    0     9   20          0       2             1   \n",
      "9   1941      2    0     3   16          0       6             0   \n",
      "\n",
      "  weather_condition  temp   atemp  humidity  windspeed  casual  registered  \n",
      "0                 1  0.64  0.6061      0.65     0.1940       6          58  \n",
      "1                 1  0.50  0.4848      0.45     0.2239      21          85  \n",
      "2                 1  0.86  0.8030      0.47     0.5224     161         330  \n",
      "3                 1  0.30  0.3333      0.61     0.0000       0           4  \n",
      "4                 1  0.54  0.5152      0.19     0.4179     299         268  \n",
      "5                 1  0.36  0.3485      0.43     0.2239      53         130  \n",
      "6                 1  0.24  0.2121      0.52     0.2836       0           9  \n",
      "7                 3  0.62  0.5758      0.83     0.1940       0           1  \n",
      "8                 1  0.62  0.5909      0.78     0.0000      17         221  \n",
      "9                 1  0.34  0.3333      0.23     0.1940     118         130  \n"
     ]
    }
   ],
   "source": [
    "print (X.head(10))"
   ]
  },
  {
   "cell_type": "code",
   "execution_count": 25,
   "metadata": {},
   "outputs": [],
   "source": [
    "cat_attr_list = ['season','is_holiday',\n",
    "                 'weather_condition','is_workingday',\n",
    "                 'hour','weekday','month','year']\n",
    "numeric_feature_cols = ['temp','humidity','windspeed','hour','weekday','month','year', 'casual', 'registered']\n",
    "subset_cat_features =  ['season','is_holiday','weather_condition','is_workingday']"
   ]
  },
  {
   "cell_type": "code",
   "execution_count": 26,
   "metadata": {},
   "outputs": [],
   "source": [
    "encoded_attr_list = []\n",
    "for col in cat_attr_list:\n",
    "    return_obj = fit_transform_ohe(X,col)\n",
    "    encoded_attr_list.append({'label_enc':return_obj[0],\n",
    "                              'ohe_enc':return_obj[1],\n",
    "                              'feature_df':return_obj[2],\n",
    "                              'col_name':col})"
   ]
  },
  {
   "cell_type": "code",
   "execution_count": 27,
   "metadata": {},
   "outputs": [
    {
     "name": "stdout",
     "output_type": "stream",
     "text": [
      "Shape::(11643, 21)\n"
     ]
    }
   ],
   "source": [
    "feature_df_list = [X[numeric_feature_cols]]\n",
    "feature_df_list.extend([enc['feature_df'] \\\n",
    "                        for enc in encoded_attr_list \\\n",
    "                        if enc['col_name'] in subset_cat_features])\n",
    "\n",
    "train_df_new = pd.concat(feature_df_list, axis=1)\n",
    "print(\"Shape::{}\".format(train_df_new.shape))"
   ]
  },
  {
   "cell_type": "markdown",
   "metadata": {},
   "source": [
    "<h1> Decision Tree based Regression"
   ]
  },
  {
   "cell_type": "code",
   "execution_count": 28,
   "metadata": {},
   "outputs": [],
   "source": [
    "X = train_df_new\n",
    "y= y.total_count.values.reshape(-1,1)"
   ]
  },
  {
   "cell_type": "code",
   "execution_count": 29,
   "metadata": {},
   "outputs": [
    {
     "data": {
      "text/plain": [
       "((11643, 21), (11643, 1))"
      ]
     },
     "execution_count": 29,
     "metadata": {},
     "output_type": "execute_result"
    }
   ],
   "source": [
    "X.shape,y.shape"
   ]
  },
  {
   "cell_type": "markdown",
   "metadata": {},
   "source": [
    "<h1> Sample Decision Tree Regressor"
   ]
  },
  {
   "cell_type": "code",
   "execution_count": 30,
   "metadata": {},
   "outputs": [
    {
     "data": {
      "text/plain": [
       "DecisionTreeRegressor(criterion='mse', max_depth=4, max_features=None,\n",
       "           max_leaf_nodes=10, min_impurity_decrease=0.0,\n",
       "           min_impurity_split=None, min_samples_leaf=1,\n",
       "           min_samples_split=5, min_weight_fraction_leaf=0.0,\n",
       "           presort=False, random_state=None, splitter='best')"
      ]
     },
     "execution_count": 30,
     "metadata": {},
     "output_type": "execute_result"
    }
   ],
   "source": [
    "dtr = DecisionTreeRegressor(max_depth=4,\n",
    "                            min_samples_split=5,\n",
    "                            max_leaf_nodes=10)\n",
    "dtr.fit(X,y)"
   ]
  },
  {
   "cell_type": "code",
   "execution_count": 31,
   "metadata": {},
   "outputs": [
    {
     "data": {
      "text/plain": [
       "0.957862935392204"
      ]
     },
     "execution_count": 31,
     "metadata": {},
     "output_type": "execute_result"
    }
   ],
   "source": [
    "dtr.score(X,y)"
   ]
  },
  {
   "cell_type": "markdown",
   "metadata": {},
   "source": [
    "Returns the coefficient of determination R^2 of the prediction.\n",
    "The coefficient R^2 is defined as (1 - u/v), where u is the residual sum of squares ((y_true - y_pred) ** 2).sum() and v is the total sum of squares ((y_true - y_true.mean()) ** 2).sum(). The best possible score is 1.0 and it can be negative (because the model can be arbitrarily worse). A constant model that always predicts the expected value of y, disregarding the input features, would get a R^2 score of 0.0."
   ]
  },
  {
   "cell_type": "markdown",
   "metadata": {},
   "source": [
    "<h1> Grid Search With Cross Validation"
   ]
  },
  {
   "cell_type": "code",
   "execution_count": 32,
   "metadata": {},
   "outputs": [],
   "source": [
    "param_grid = {\"criterion\": [\"mse\", \"mae\"],\n",
    "              \"min_samples_split\": [10, 20, 40],\n",
    "              \"max_depth\": [2, 6, 8],\n",
    "              \"min_samples_leaf\": [20, 40, 100],\n",
    "              \"max_leaf_nodes\": [5, 20, 100, 500, 800],\n",
    "              }"
   ]
  },
  {
   "cell_type": "markdown",
   "metadata": {},
   "source": [
    "This examples shows how a classifier is optimized by cross-validation, which is done using the sklearn.model_selection.GridSearchCV object on a development set that comprises only half of the available labeled data.\n",
    "The performance of the selected hyper-parameters and trained model is then measured on a dedicated evaluation set that was not used during the model selection step."
   ]
  },
  {
   "cell_type": "code",
   "execution_count": 33,
   "metadata": {},
   "outputs": [],
   "source": [
    "grid_cv_dtr = GridSearchCV(dtr, param_grid, cv=5)"
   ]
  },
  {
   "cell_type": "code",
   "execution_count": 34,
   "metadata": {},
   "outputs": [
    {
     "data": {
      "text/plain": [
       "GridSearchCV(cv=5, error_score='raise',\n",
       "       estimator=DecisionTreeRegressor(criterion='mse', max_depth=4, max_features=None,\n",
       "           max_leaf_nodes=10, min_impurity_decrease=0.0,\n",
       "           min_impurity_split=None, min_samples_leaf=1,\n",
       "           min_samples_split=5, min_weight_fraction_leaf=0.0,\n",
       "           presort=False, random_state=None, splitter='best'),\n",
       "       fit_params=None, iid=True, n_jobs=1,\n",
       "       param_grid={'min_samples_split': [10, 20, 40], 'max_leaf_nodes': [5, 20, 100, 500, 800], 'criterion': ['mse', 'mae'], 'max_depth': [2, 6, 8], 'min_samples_leaf': [20, 40, 100]},\n",
       "       pre_dispatch='2*n_jobs', refit=True, return_train_score='warn',\n",
       "       scoring=None, verbose=0)"
      ]
     },
     "execution_count": 34,
     "metadata": {},
     "output_type": "execute_result"
    }
   ],
   "source": [
    "grid_cv_dtr.fit(X,y)"
   ]
  },
  {
   "cell_type": "markdown",
   "metadata": {},
   "source": [
    "<h1> Cross Validation: Best Model Details"
   ]
  },
  {
   "cell_type": "code",
   "execution_count": 35,
   "metadata": {},
   "outputs": [
    {
     "name": "stdout",
     "output_type": "stream",
     "text": [
      "R-Squared::0.996848172075\n",
      "Best Hyperparameters::\n",
      "{'min_samples_split': 10, 'max_leaf_nodes': 500, 'criterion': 'mse', 'max_depth': 8, 'min_samples_leaf': 20}\n"
     ]
    }
   ],
   "source": [
    "print(\"R-Squared::{}\".format(grid_cv_dtr.best_score_))\n",
    "print(\"Best Hyperparameters::\\n{}\".format(grid_cv_dtr.best_params_))"
   ]
  },
  {
   "cell_type": "code",
   "execution_count": 36,
   "metadata": {},
   "outputs": [
    {
     "name": "stderr",
     "output_type": "stream",
     "text": [
      "/anaconda2/lib/python2.7/site-packages/sklearn/utils/deprecation.py:122: FutureWarning: You are accessing a training score ('mean_train_score'), which will not be available by default any more in 0.21. If you need training scores, please set return_train_score=True\n",
      "  warnings.warn(*warn_args, **warn_kwargs)\n",
      "/anaconda2/lib/python2.7/site-packages/sklearn/utils/deprecation.py:122: FutureWarning: You are accessing a training score ('split0_train_score'), which will not be available by default any more in 0.21. If you need training scores, please set return_train_score=True\n",
      "  warnings.warn(*warn_args, **warn_kwargs)\n",
      "/anaconda2/lib/python2.7/site-packages/sklearn/utils/deprecation.py:122: FutureWarning: You are accessing a training score ('split1_train_score'), which will not be available by default any more in 0.21. If you need training scores, please set return_train_score=True\n",
      "  warnings.warn(*warn_args, **warn_kwargs)\n",
      "/anaconda2/lib/python2.7/site-packages/sklearn/utils/deprecation.py:122: FutureWarning: You are accessing a training score ('split2_train_score'), which will not be available by default any more in 0.21. If you need training scores, please set return_train_score=True\n",
      "  warnings.warn(*warn_args, **warn_kwargs)\n",
      "/anaconda2/lib/python2.7/site-packages/sklearn/utils/deprecation.py:122: FutureWarning: You are accessing a training score ('split3_train_score'), which will not be available by default any more in 0.21. If you need training scores, please set return_train_score=True\n",
      "  warnings.warn(*warn_args, **warn_kwargs)\n",
      "/anaconda2/lib/python2.7/site-packages/sklearn/utils/deprecation.py:122: FutureWarning: You are accessing a training score ('split4_train_score'), which will not be available by default any more in 0.21. If you need training scores, please set return_train_score=True\n",
      "  warnings.warn(*warn_args, **warn_kwargs)\n",
      "/anaconda2/lib/python2.7/site-packages/sklearn/utils/deprecation.py:122: FutureWarning: You are accessing a training score ('std_train_score'), which will not be available by default any more in 0.21. If you need training scores, please set return_train_score=True\n",
      "  warnings.warn(*warn_args, **warn_kwargs)\n"
     ]
    },
    {
     "data": {
      "text/html": [
       "<div>\n",
       "<style scoped>\n",
       "    .dataframe tbody tr th:only-of-type {\n",
       "        vertical-align: middle;\n",
       "    }\n",
       "\n",
       "    .dataframe tbody tr th {\n",
       "        vertical-align: top;\n",
       "    }\n",
       "\n",
       "    .dataframe thead th {\n",
       "        text-align: right;\n",
       "    }\n",
       "</style>\n",
       "<table border=\"1\" class=\"dataframe\">\n",
       "  <thead>\n",
       "    <tr style=\"text-align: right;\">\n",
       "      <th></th>\n",
       "      <th>mean_fit_time</th>\n",
       "      <th>mean_score_time</th>\n",
       "      <th>mean_test_score</th>\n",
       "      <th>mean_train_score</th>\n",
       "      <th>param_criterion</th>\n",
       "      <th>param_max_depth</th>\n",
       "      <th>param_max_leaf_nodes</th>\n",
       "      <th>param_min_samples_leaf</th>\n",
       "      <th>param_min_samples_split</th>\n",
       "      <th>params</th>\n",
       "      <th>...</th>\n",
       "      <th>split2_test_score</th>\n",
       "      <th>split2_train_score</th>\n",
       "      <th>split3_test_score</th>\n",
       "      <th>split3_train_score</th>\n",
       "      <th>split4_test_score</th>\n",
       "      <th>split4_train_score</th>\n",
       "      <th>std_fit_time</th>\n",
       "      <th>std_score_time</th>\n",
       "      <th>std_test_score</th>\n",
       "      <th>std_train_score</th>\n",
       "    </tr>\n",
       "  </thead>\n",
       "  <tbody>\n",
       "    <tr>\n",
       "      <th>0</th>\n",
       "      <td>0.029016</td>\n",
       "      <td>0.006371</td>\n",
       "      <td>0.893902</td>\n",
       "      <td>0.897234</td>\n",
       "      <td>mse</td>\n",
       "      <td>2</td>\n",
       "      <td>5</td>\n",
       "      <td>20</td>\n",
       "      <td>10</td>\n",
       "      <td>{u'min_samples_split': 10, u'max_leaf_nodes': ...</td>\n",
       "      <td>...</td>\n",
       "      <td>0.895944</td>\n",
       "      <td>0.900776</td>\n",
       "      <td>0.890879</td>\n",
       "      <td>0.89531</td>\n",
       "      <td>0.896657</td>\n",
       "      <td>0.896898</td>\n",
       "      <td>0.002453</td>\n",
       "      <td>0.000591</td>\n",
       "      <td>0.002126</td>\n",
       "      <td>0.001935</td>\n",
       "    </tr>\n",
       "    <tr>\n",
       "      <th>1</th>\n",
       "      <td>0.029222</td>\n",
       "      <td>0.005823</td>\n",
       "      <td>0.893902</td>\n",
       "      <td>0.897234</td>\n",
       "      <td>mse</td>\n",
       "      <td>2</td>\n",
       "      <td>5</td>\n",
       "      <td>20</td>\n",
       "      <td>20</td>\n",
       "      <td>{u'min_samples_split': 20, u'max_leaf_nodes': ...</td>\n",
       "      <td>...</td>\n",
       "      <td>0.895944</td>\n",
       "      <td>0.900776</td>\n",
       "      <td>0.890879</td>\n",
       "      <td>0.89531</td>\n",
       "      <td>0.896657</td>\n",
       "      <td>0.896898</td>\n",
       "      <td>0.001273</td>\n",
       "      <td>0.001252</td>\n",
       "      <td>0.002126</td>\n",
       "      <td>0.001935</td>\n",
       "    </tr>\n",
       "    <tr>\n",
       "      <th>2</th>\n",
       "      <td>0.030990</td>\n",
       "      <td>0.006143</td>\n",
       "      <td>0.893902</td>\n",
       "      <td>0.897234</td>\n",
       "      <td>mse</td>\n",
       "      <td>2</td>\n",
       "      <td>5</td>\n",
       "      <td>20</td>\n",
       "      <td>40</td>\n",
       "      <td>{u'min_samples_split': 40, u'max_leaf_nodes': ...</td>\n",
       "      <td>...</td>\n",
       "      <td>0.895944</td>\n",
       "      <td>0.900776</td>\n",
       "      <td>0.890879</td>\n",
       "      <td>0.89531</td>\n",
       "      <td>0.896657</td>\n",
       "      <td>0.896898</td>\n",
       "      <td>0.001687</td>\n",
       "      <td>0.001080</td>\n",
       "      <td>0.002126</td>\n",
       "      <td>0.001935</td>\n",
       "    </tr>\n",
       "    <tr>\n",
       "      <th>3</th>\n",
       "      <td>0.036737</td>\n",
       "      <td>0.007710</td>\n",
       "      <td>0.893902</td>\n",
       "      <td>0.897234</td>\n",
       "      <td>mse</td>\n",
       "      <td>2</td>\n",
       "      <td>5</td>\n",
       "      <td>40</td>\n",
       "      <td>10</td>\n",
       "      <td>{u'min_samples_split': 10, u'max_leaf_nodes': ...</td>\n",
       "      <td>...</td>\n",
       "      <td>0.895944</td>\n",
       "      <td>0.900776</td>\n",
       "      <td>0.890879</td>\n",
       "      <td>0.89531</td>\n",
       "      <td>0.896657</td>\n",
       "      <td>0.896898</td>\n",
       "      <td>0.003125</td>\n",
       "      <td>0.001422</td>\n",
       "      <td>0.002126</td>\n",
       "      <td>0.001935</td>\n",
       "    </tr>\n",
       "    <tr>\n",
       "      <th>4</th>\n",
       "      <td>0.031816</td>\n",
       "      <td>0.006938</td>\n",
       "      <td>0.893902</td>\n",
       "      <td>0.897234</td>\n",
       "      <td>mse</td>\n",
       "      <td>2</td>\n",
       "      <td>5</td>\n",
       "      <td>40</td>\n",
       "      <td>20</td>\n",
       "      <td>{u'min_samples_split': 20, u'max_leaf_nodes': ...</td>\n",
       "      <td>...</td>\n",
       "      <td>0.895944</td>\n",
       "      <td>0.900776</td>\n",
       "      <td>0.890879</td>\n",
       "      <td>0.89531</td>\n",
       "      <td>0.896657</td>\n",
       "      <td>0.896898</td>\n",
       "      <td>0.001374</td>\n",
       "      <td>0.001608</td>\n",
       "      <td>0.002126</td>\n",
       "      <td>0.001935</td>\n",
       "    </tr>\n",
       "  </tbody>\n",
       "</table>\n",
       "<p>5 rows × 25 columns</p>\n",
       "</div>"
      ],
      "text/plain": [
       "   mean_fit_time  mean_score_time  mean_test_score  mean_train_score  \\\n",
       "0       0.029016         0.006371         0.893902          0.897234   \n",
       "1       0.029222         0.005823         0.893902          0.897234   \n",
       "2       0.030990         0.006143         0.893902          0.897234   \n",
       "3       0.036737         0.007710         0.893902          0.897234   \n",
       "4       0.031816         0.006938         0.893902          0.897234   \n",
       "\n",
       "  param_criterion param_max_depth param_max_leaf_nodes param_min_samples_leaf  \\\n",
       "0             mse               2                    5                     20   \n",
       "1             mse               2                    5                     20   \n",
       "2             mse               2                    5                     20   \n",
       "3             mse               2                    5                     40   \n",
       "4             mse               2                    5                     40   \n",
       "\n",
       "  param_min_samples_split                                             params  \\\n",
       "0                      10  {u'min_samples_split': 10, u'max_leaf_nodes': ...   \n",
       "1                      20  {u'min_samples_split': 20, u'max_leaf_nodes': ...   \n",
       "2                      40  {u'min_samples_split': 40, u'max_leaf_nodes': ...   \n",
       "3                      10  {u'min_samples_split': 10, u'max_leaf_nodes': ...   \n",
       "4                      20  {u'min_samples_split': 20, u'max_leaf_nodes': ...   \n",
       "\n",
       "        ...         split2_test_score  split2_train_score  split3_test_score  \\\n",
       "0       ...                  0.895944            0.900776           0.890879   \n",
       "1       ...                  0.895944            0.900776           0.890879   \n",
       "2       ...                  0.895944            0.900776           0.890879   \n",
       "3       ...                  0.895944            0.900776           0.890879   \n",
       "4       ...                  0.895944            0.900776           0.890879   \n",
       "\n",
       "   split3_train_score  split4_test_score  split4_train_score  std_fit_time  \\\n",
       "0             0.89531           0.896657            0.896898      0.002453   \n",
       "1             0.89531           0.896657            0.896898      0.001273   \n",
       "2             0.89531           0.896657            0.896898      0.001687   \n",
       "3             0.89531           0.896657            0.896898      0.003125   \n",
       "4             0.89531           0.896657            0.896898      0.001374   \n",
       "\n",
       "   std_score_time  std_test_score  std_train_score  \n",
       "0        0.000591        0.002126         0.001935  \n",
       "1        0.001252        0.002126         0.001935  \n",
       "2        0.001080        0.002126         0.001935  \n",
       "3        0.001422        0.002126         0.001935  \n",
       "4        0.001608        0.002126         0.001935  \n",
       "\n",
       "[5 rows x 25 columns]"
      ]
     },
     "execution_count": 36,
     "metadata": {},
     "output_type": "execute_result"
    }
   ],
   "source": [
    "df = pd.DataFrame(data=grid_cv_dtr.cv_results_)\n",
    "df.head()"
   ]
  },
  {
   "cell_type": "code",
   "execution_count": 37,
   "metadata": {},
   "outputs": [
    {
     "data": {
      "text/plain": [
       "[Text(0.5,1,u'Effect of Depth and Leaf Nodes on Model Performance')]"
      ]
     },
     "execution_count": 37,
     "metadata": {},
     "output_type": "execute_result"
    },
    {
     "data": {
      "image/png": "[encoded data removed]",
      "text/plain": [
       "<matplotlib.figure.Figure at 0x1a11f5bd90>"
      ]
     },
     "metadata": {},
     "output_type": "display_data"
    }
   ],
   "source": [
    "fig,ax = plt.subplots()\n",
    "sn.pointplot(data=df[['mean_test_score',\n",
    "                           'param_max_leaf_nodes',\n",
    "                           'param_max_depth']],\n",
    "             y='mean_test_score',x='param_max_depth',\n",
    "             hue='param_max_leaf_nodes',ax=ax)\n",
    "ax.set(title=\"Effect of Depth and Leaf Nodes on Model Performance\")"
   ]
  },
  {
   "cell_type": "markdown",
   "metadata": {},
   "source": [
    "<h1> Residual Plot"
   ]
  },
  {
   "cell_type": "markdown",
   "metadata": {},
   "source": [
    "A residual plot is a graph that shows the residuals on the vertical axis and the independent variable on the horizontal axis. If the points in a residual plot are randomly dispersed around the horizontal axis, a linear regression model is appropriate for the data; otherwise, a non-linear model is more appropriate.\n",
    "A residual is the difference between the observed y-value (from scatter plot) and the predicted y-value (from regression equation line). It is the vertical distance from the actual plotted point to the point on the regression line."
   ]
  },
  {
   "cell_type": "code",
   "execution_count": 38,
   "metadata": {},
   "outputs": [],
   "source": [
    "predicted = grid_cv_dtr.best_estimator_.predict(X)\n",
    "residuals = y.flatten()-predicted"
   ]
  },
  {
   "cell_type": "code",
   "execution_count": 39,
   "metadata": {},
   "outputs": [
    {
     "data": {
      "image/png": "[encoded data removed]",
      "text/plain": [
       "<matplotlib.figure.Figure at 0x1a11f5b4d0>"
      ]
     },
     "metadata": {},
     "output_type": "display_data"
    }
   ],
   "source": [
    "fig, ax = plt.subplots()\n",
    "ax.scatter(y.flatten(), residuals)\n",
    "ax.axhline(lw=2,color='black')\n",
    "ax.set_xlabel('Observed')\n",
    "ax.set_ylabel('Residual')\n",
    "plt.show()"
   ]
  },
  {
   "cell_type": "markdown",
   "metadata": {},
   "source": [
    "By default cross_val_score uses the scoring provided in the given estimator, which is usually the simplest appropriate scoring method. E.g. for most classifiers this is accuracy score and for regressors this is r2 score.\n",
    "the score computed at each CV iteration is the score method of the estimator"
   ]
  },
  {
   "cell_type": "code",
   "execution_count": 40,
   "metadata": {},
   "outputs": [],
   "source": [
    "r2_scores = cross_val_score(grid_cv_dtr.best_estimator_, X, y, cv=10)\n",
    "mse_scores = cross_val_score(grid_cv_dtr.best_estimator_, X, y, cv=10,scoring='neg_mean_squared_error')"
   ]
  },
  {
   "cell_type": "code",
   "execution_count": 41,
   "metadata": {},
   "outputs": [
    {
     "name": "stdout",
     "output_type": "stream",
     "text": [
      "avg R-squared::0.9970883309\n",
      "MSE::-97.2412988469\n"
     ]
    }
   ],
   "source": [
    "print(\"avg R-squared::{}\".format(np.mean(r2_scores)))\n",
    "print(\"MSE::{}\".format(np.mean(mse_scores)))"
   ]
  },
  {
   "cell_type": "markdown",
   "metadata": {},
   "source": [
    "<h3> Setting the model for Testing"
   ]
  },
  {
   "cell_type": "code",
   "execution_count": 42,
   "metadata": {},
   "outputs": [],
   "source": [
    "best_dtr_model = grid_cv_dtr.best_estimator_"
   ]
  },
  {
   "cell_type": "markdown",
   "metadata": {},
   "source": [
    "<h1> Test Dataset Performance"
   ]
  },
  {
   "cell_type": "code",
   "execution_count": 43,
   "metadata": {},
   "outputs": [
    {
     "name": "stdout",
     "output_type": "stream",
     "text": [
      "Shape::(5736, 21)\n"
     ]
    }
   ],
   "source": [
    "test_encoded_attr_list = []\n",
    "for enc in encoded_attr_list:\n",
    "    col_name = enc['col_name']\n",
    "    le = enc['label_enc']\n",
    "    ohe = enc['ohe_enc']\n",
    "    test_encoded_attr_list.append({'feature_df':transform_ohe(X_test,le,ohe,col_name),\n",
    "                                   'col_name':col_name})\n",
    "    \n",
    "    \n",
    "test_feature_df_list = [X_test[numeric_feature_cols]]\n",
    "test_feature_df_list.extend([enc['feature_df'] for enc in test_encoded_attr_list if enc['col_name'] in subset_cat_features])\n",
    "\n",
    "test_df_new = pd.concat(test_feature_df_list, axis=1) \n",
    "print(\"Shape::{}\".format(test_df_new.shape))"
   ]
  },
  {
   "cell_type": "code",
   "execution_count": 44,
   "metadata": {},
   "outputs": [],
   "source": [
    "X_test = test_df_new\n",
    "y_test = y_test.total_count.values.reshape(-1,1)"
   ]
  },
  {
   "cell_type": "code",
   "execution_count": 45,
   "metadata": {},
   "outputs": [],
   "source": [
    "y_pred = best_dtr_model.predict(X_test)\n",
    "residuals = y_test.flatten() - y_pred"
   ]
  },
  {
   "cell_type": "code",
   "execution_count": 46,
   "metadata": {},
   "outputs": [
    {
     "name": "stdout",
     "output_type": "stream",
     "text": [
      "R-squared::0.997286859807\n",
      "MSE: 86.55\n"
     ]
    }
   ],
   "source": [
    "r2_score = best_dtr_model.score(X_test,y_test)\n",
    "print(\"R-squared::{}\".format(r2_score))\n",
    "print(\"MSE: %.2f\"\n",
    "      % metrics.mean_squared_error(y_test, y_pred))"
   ]
  },
  {
   "cell_type": "code",
   "execution_count": 47,
   "metadata": {},
   "outputs": [
    {
     "data": {
      "image/png": "[encoded data removed]",
      "text/plain": [
       "<matplotlib.figure.Figure at 0x10d3672d0>"
      ]
     },
     "metadata": {},
     "output_type": "display_data"
    }
   ],
   "source": [
    "fig, ax = plt.subplots()\n",
    "ax.scatter(y_test.flatten(), residuals)\n",
    "ax.axhline(lw=2,color='black')\n",
    "ax.set_xlabel('Observed')\n",
    "ax.set_ylabel('Residual')\n",
    "plt.show()\n",
    "\n",
    "r2_score = grid_cv_dtr.best_estimator_.score(X_test,y_test)"
   ]
  }
 ],
 "metadata": {
  "kernelspec": {
   "display_name": "Python 2",
   "language": "python",
   "name": "python2"
  },
  "language_info": {
   "codemirror_mode": {
    "name": "ipython",
    "version": 2
   },
   "file_extension": ".py",
   "mimetype": "text/x-python",
   "name": "python",
   "nbconvert_exporter": "python",
   "pygments_lexer": "ipython2",
   "version": "2.7.14"
  }
 },
 "nbformat": 4,
 "nbformat_minor": 2
}
