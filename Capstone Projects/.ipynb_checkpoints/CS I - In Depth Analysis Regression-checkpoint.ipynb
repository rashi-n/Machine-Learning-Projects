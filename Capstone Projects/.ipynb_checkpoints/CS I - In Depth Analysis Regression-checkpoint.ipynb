{
 "cells": [
  {
   "cell_type": "markdown",
   "metadata": {},
   "source": [
    "<h1>Bike Sharing Dataset using Linear Regressor"
   ]
  },
  {
   "cell_type": "markdown",
   "metadata": {},
   "source": [
    "<B>This is Supervised problem as the output datasets are provided and I used this to predict the future outcomes of target variable.\n",
    "    \n",
    "This is regression problem as dependent variable i.e. Bike Rental Count is continuous values or ordered whole values. Regression means to predict the output value using training data.\n",
    "\n"
   ]
  },
  {
   "cell_type": "markdown",
   "metadata": {},
   "source": [
    "<B>Based on Bike Sharing dataset from UCI Machine Learning Repository\n",
    "This notebook is based upon the hourly data file, i.e. hour.csv\n",
    "This notebook showcases regression using Decision Trees\n",
    "\n"
   ]
  },
  {
   "cell_type": "markdown",
   "metadata": {},
   "source": [
    "<h3>Problem Statement\n",
    "\n",
    "Given the Bike Sharing dataset with hourly level information of bikes along with weather, User type Registered/Casual and other attributes, model a system which can predict the bike count."
   ]
  },
  {
   "cell_type": "markdown",
   "metadata": {},
   "source": [
    "<h1> Import required packages"
   ]
  },
  {
   "cell_type": "code",
   "execution_count": 1,
   "metadata": {},
   "outputs": [],
   "source": [
    "%matplotlib inline\n",
    "# data manuipulation\n",
    "import numpy as np\n",
    "import pandas as pd\n",
    "\n",
    "# modeling utilities\n",
    "from scipy import stats\n",
    "#import scipy.stats as stats\n",
    "from sklearn import metrics\n",
    "from sklearn import preprocessing\n",
    "from sklearn import  linear_model\n",
    "from sklearn.model_selection import cross_val_score\n",
    "from sklearn.model_selection import train_test_split\n",
    "from sklearn.model_selection import cross_val_predict\n",
    "\n",
    "# plotting libraries\n",
    "import matplotlib.pyplot as plt\n",
    "import seaborn as sn\n",
    "\n",
    "\n",
    "sn.set_style('whitegrid')\n",
    "sn.set_context('talk')\n",
    "params = {'legend.fontsize': 'x-large',\n",
    "          'figure.figsize': (30, 10),\n",
    "          'axes.labelsize': 'x-large',\n",
    "          'axes.titlesize':'x-large',\n",
    "          'xtick.labelsize':'x-large',\n",
    "          'ytick.labelsize':'x-large'}\n",
    "\n",
    "plt.rcParams.update(params)"
   ]
  },
  {
   "cell_type": "code",
   "execution_count": 2,
   "metadata": {},
   "outputs": [],
   "source": [
    "#Importing the dataset\n",
    "stat = pd.read_csv('hour.csv')"
   ]
  },
  {
   "cell_type": "code",
   "execution_count": 3,
   "metadata": {},
   "outputs": [
    {
     "data": {
      "text/plain": [
       "(17379, 17)"
      ]
     },
     "execution_count": 3,
     "metadata": {},
     "output_type": "execute_result"
    }
   ],
   "source": [
    "#Shape of dataset\n",
    "stat.shape"
   ]
  },
  {
   "cell_type": "code",
   "execution_count": 4,
   "metadata": {},
   "outputs": [
    {
     "data": {
      "text/html": [
       "<div>\n",
       "<style scoped>\n",
       "    .dataframe tbody tr th:only-of-type {\n",
       "        vertical-align: middle;\n",
       "    }\n",
       "\n",
       "    .dataframe tbody tr th {\n",
       "        vertical-align: top;\n",
       "    }\n",
       "\n",
       "    .dataframe thead th {\n",
       "        text-align: right;\n",
       "    }\n",
       "</style>\n",
       "<table border=\"1\" class=\"dataframe\">\n",
       "  <thead>\n",
       "    <tr style=\"text-align: right;\">\n",
       "      <th></th>\n",
       "      <th>instant</th>\n",
       "      <th>dteday</th>\n",
       "      <th>season</th>\n",
       "      <th>yr</th>\n",
       "      <th>mnth</th>\n",
       "      <th>hr</th>\n",
       "      <th>holiday</th>\n",
       "      <th>weekday</th>\n",
       "      <th>workingday</th>\n",
       "      <th>weathersit</th>\n",
       "      <th>temp</th>\n",
       "      <th>atemp</th>\n",
       "      <th>hum</th>\n",
       "      <th>windspeed</th>\n",
       "      <th>casual</th>\n",
       "      <th>registered</th>\n",
       "      <th>cnt</th>\n",
       "    </tr>\n",
       "  </thead>\n",
       "  <tbody>\n",
       "    <tr>\n",
       "      <th>0</th>\n",
       "      <td>1</td>\n",
       "      <td>1/1/11</td>\n",
       "      <td>1</td>\n",
       "      <td>0</td>\n",
       "      <td>1</td>\n",
       "      <td>0</td>\n",
       "      <td>0</td>\n",
       "      <td>6</td>\n",
       "      <td>0</td>\n",
       "      <td>1</td>\n",
       "      <td>0.24</td>\n",
       "      <td>0.2879</td>\n",
       "      <td>0.81</td>\n",
       "      <td>0.0</td>\n",
       "      <td>3</td>\n",
       "      <td>13</td>\n",
       "      <td>16</td>\n",
       "    </tr>\n",
       "    <tr>\n",
       "      <th>1</th>\n",
       "      <td>2</td>\n",
       "      <td>1/1/11</td>\n",
       "      <td>1</td>\n",
       "      <td>0</td>\n",
       "      <td>1</td>\n",
       "      <td>1</td>\n",
       "      <td>0</td>\n",
       "      <td>6</td>\n",
       "      <td>0</td>\n",
       "      <td>1</td>\n",
       "      <td>0.22</td>\n",
       "      <td>0.2727</td>\n",
       "      <td>0.80</td>\n",
       "      <td>0.0</td>\n",
       "      <td>8</td>\n",
       "      <td>32</td>\n",
       "      <td>40</td>\n",
       "    </tr>\n",
       "    <tr>\n",
       "      <th>2</th>\n",
       "      <td>3</td>\n",
       "      <td>1/1/11</td>\n",
       "      <td>1</td>\n",
       "      <td>0</td>\n",
       "      <td>1</td>\n",
       "      <td>2</td>\n",
       "      <td>0</td>\n",
       "      <td>6</td>\n",
       "      <td>0</td>\n",
       "      <td>1</td>\n",
       "      <td>0.22</td>\n",
       "      <td>0.2727</td>\n",
       "      <td>0.80</td>\n",
       "      <td>0.0</td>\n",
       "      <td>5</td>\n",
       "      <td>27</td>\n",
       "      <td>32</td>\n",
       "    </tr>\n",
       "  </tbody>\n",
       "</table>\n",
       "</div>"
      ],
      "text/plain": [
       "   instant  dteday  season  yr  mnth  hr  holiday  weekday  workingday  \\\n",
       "0        1  1/1/11       1   0     1   0        0        6           0   \n",
       "1        2  1/1/11       1   0     1   1        0        6           0   \n",
       "2        3  1/1/11       1   0     1   2        0        6           0   \n",
       "\n",
       "   weathersit  temp   atemp   hum  windspeed  casual  registered  cnt  \n",
       "0           1  0.24  0.2879  0.81        0.0       3          13   16  \n",
       "1           1  0.22  0.2727  0.80        0.0       8          32   40  \n",
       "2           1  0.22  0.2727  0.80        0.0       5          27   32  "
      ]
     },
     "execution_count": 4,
     "metadata": {},
     "output_type": "execute_result"
    }
   ],
   "source": [
    "# top 3 rows from the dataset\n",
    "stat.head(3)"
   ]
  },
  {
   "cell_type": "markdown",
   "metadata": {},
   "source": [
    "<h1> Preprocessing</h1>\n",
    "<list>\n",
    "<list>\n",
    "Standarize column names\n",
    "<list>\n",
    "Typecast attributes\n",
    "<list>\n",
    "Encode Categoricals using One Hot Encoding"
   ]
  },
  {
   "cell_type": "markdown",
   "metadata": {},
   "source": [
    "<h3> Standardize column names"
   ]
  },
  {
   "cell_type": "code",
   "execution_count": 5,
   "metadata": {},
   "outputs": [],
   "source": [
    "stat.rename(columns = {'instant': 'rec_id',\n",
    "                       'dteday':'datetime',\n",
    "                       'holiday': 'is_holiday',\n",
    "                       'workingday': 'is_workingday',\n",
    "                       'weathersit': 'weather_condition',\n",
    "                       'hum': 'humidity', \n",
    "                       'mnth': 'month',\n",
    "                       'cnt': 'total_count',\n",
    "                       'hr': 'hour',\n",
    "                       'yr': 'year'}, inplace = True)"
   ]
  },
  {
   "cell_type": "markdown",
   "metadata": {},
   "source": [
    "<h3> Typecast Attributes"
   ]
  },
  {
   "cell_type": "code",
   "execution_count": 6,
   "metadata": {},
   "outputs": [],
   "source": [
    "#type casting the attributes\n",
    "stat['datetime'] = pd.to_datetime(stat.datetime)#dae time conversion\n",
    "# categorical variables\n",
    "stat['season'] = stat.season.astype('category')\n",
    "stat['is_holiday'] = stat.is_holiday.astype('category')\n",
    "stat['weekday'] = stat.weekday.astype('category')\n",
    "stat['weather_condition'] = stat.weather_condition.astype('category')\n",
    "stat['is_workingday'] = stat.is_workingday.astype('category')\n",
    "stat['month'] = stat.month.astype('category')\n",
    "stat['year'] = stat.year.astype('category')\n",
    "stat['hour'] = stat.hour.astype('category')"
   ]
  },
  {
   "cell_type": "code",
   "execution_count": 7,
   "metadata": {},
   "outputs": [
    {
     "name": "stdout",
     "output_type": "stream",
     "text": [
      "<class 'pandas.core.frame.DataFrame'>\n",
      "RangeIndex: 17379 entries, 0 to 17378\n",
      "Data columns (total 17 columns):\n",
      "rec_id               17379 non-null int64\n",
      "datetime             17379 non-null datetime64[ns]\n",
      "season               17379 non-null category\n",
      "year                 17379 non-null category\n",
      "month                17379 non-null category\n",
      "hour                 17379 non-null category\n",
      "is_holiday           17379 non-null category\n",
      "weekday              17379 non-null category\n",
      "is_workingday        17379 non-null category\n",
      "weather_condition    17379 non-null category\n",
      "temp                 17379 non-null float64\n",
      "atemp                17379 non-null float64\n",
      "humidity             17379 non-null float64\n",
      "windspeed            17379 non-null float64\n",
      "casual               17379 non-null int64\n",
      "registered           17379 non-null int64\n",
      "total_count          17379 non-null int64\n",
      "dtypes: category(8), datetime64[ns](1), float64(4), int64(4)\n",
      "memory usage: 1.3 MB\n"
     ]
    }
   ],
   "source": [
    "stat.info()"
   ]
  },
  {
   "cell_type": "markdown",
   "metadata": {},
   "source": [
    "<h1> Creating Feature & Target Arrays"
   ]
  },
  {
   "cell_type": "code",
   "execution_count": 8,
   "metadata": {},
   "outputs": [],
   "source": [
    "X = stat.iloc[:, 2:-1].values\n",
    "#X = X.reset_index(inplace=True)\n",
    "y = stat.iloc[:, 16].values\n",
    "#y = y.reset_index()"
   ]
  },
  {
   "cell_type": "code",
   "execution_count": 9,
   "metadata": {},
   "outputs": [
    {
     "data": {
      "text/plain": [
       "numpy.ndarray"
      ]
     },
     "execution_count": 9,
     "metadata": {},
     "output_type": "execute_result"
    }
   ],
   "source": [
    "type (X)"
   ]
  },
  {
   "cell_type": "code",
   "execution_count": 10,
   "metadata": {},
   "outputs": [
    {
     "data": {
      "text/plain": [
       "numpy.ndarray"
      ]
     },
     "execution_count": 10,
     "metadata": {},
     "output_type": "execute_result"
    }
   ],
   "source": [
    "type (y)"
   ]
  },
  {
   "cell_type": "markdown",
   "metadata": {},
   "source": [
    "<h1> Predicting Bike Rental Count from Single Feature say User Type 'Registered'"
   ]
  },
  {
   "cell_type": "code",
   "execution_count": 11,
   "metadata": {},
   "outputs": [],
   "source": [
    "y = y.reshape(-1,1)\n",
    "\n",
    "X_registered = np.array(stat.iloc[:,15:-1])\n",
    "X_registered = X_registered.reshape(-1,1)"
   ]
  },
  {
   "cell_type": "code",
   "execution_count": 12,
   "metadata": {},
   "outputs": [
    {
     "data": {
      "text/plain": [
       "(17379, 1)"
      ]
     },
     "execution_count": 12,
     "metadata": {},
     "output_type": "execute_result"
    }
   ],
   "source": [
    "type(y)\n",
    "type(X_registered)\n",
    "X_registered.shape"
   ]
  },
  {
   "cell_type": "code",
   "execution_count": 13,
   "metadata": {},
   "outputs": [
    {
     "data": {
      "text/plain": [
       "(17379, 1)"
      ]
     },
     "execution_count": 13,
     "metadata": {},
     "output_type": "execute_result"
    }
   ],
   "source": [
    "y.shape"
   ]
  },
  {
   "cell_type": "markdown",
   "metadata": {},
   "source": [
    "<h1> Plotting Bike Rental Count vs. Registered User Type"
   ]
  },
  {
   "cell_type": "code",
   "execution_count": 14,
   "metadata": {},
   "outputs": [
    {
     "data": {
      "image/png": "[encoded data removed]",
      "text/plain": [
       "<matplotlib.figure.Figure at 0x1a0c13ea50>"
      ]
     },
     "metadata": {},
     "output_type": "display_data"
    }
   ],
   "source": [
    "plt.scatter(X_registered, y)\n",
    "plt.xlabel('Number of Registered Users')\n",
    "plt.ylabel('Bike Rental Count Distribution')\n",
    "plt.show()"
   ]
  },
  {
   "cell_type": "markdown",
   "metadata": {},
   "source": [
    "<b> Scatter plot shows direct positive linear relationship between Bike Rental Count distribution with Registered User Types"
   ]
  },
  {
   "cell_type": "markdown",
   "metadata": {},
   "source": [
    "<h1> Fitting a Regression Model"
   ]
  },
  {
   "cell_type": "code",
   "execution_count": 15,
   "metadata": {},
   "outputs": [
    {
     "data": {
      "image/png": "[encoded data removed]",
      "text/plain": [
       "<matplotlib.figure.Figure at 0x1060ba6d0>"
      ]
     },
     "metadata": {},
     "output_type": "display_data"
    }
   ],
   "source": [
    "from sklearn import linear_model\n",
    "reg = linear_model.LinearRegression()\n",
    "reg.fit(X_registered, y)\n",
    "prediction_space = np.linspace(min(X_registered), max(X_registered)).reshape(-1,1)\n",
    "plt.scatter(X_registered, y, color = 'blue')\n",
    "plt.plot(prediction_space, reg.predict(prediction_space), color='black', linewidth = 3)\n",
    "plt.show()"
   ]
  },
  {
   "cell_type": "markdown",
   "metadata": {},
   "source": [
    "<H1> Linear regression on all Features"
   ]
  },
  {
   "cell_type": "code",
   "execution_count": 16,
   "metadata": {},
   "outputs": [],
   "source": [
    "X, X_test, y, y_test = train_test_split(stat.iloc[:,2:-3], stat.iloc[:,16], \n",
    "                                                    test_size=0.33, random_state=42)\n",
    "\n",
    "reg_all = linear_model.LinearRegression()\n",
    "reg_all.fit(X, y)\n",
    "y_pred = reg_all.predict(X_test)"
   ]
  },
  {
   "cell_type": "code",
   "execution_count": 17,
   "metadata": {},
   "outputs": [
    {
     "name": "stdout",
     "output_type": "stream",
     "text": [
      "  season year month hour is_holiday weekday is_workingday weather_condition  \\\n",
      "0      1    0     1    0          0       6             0                 1   \n",
      "1      1    0     1    1          0       6             0                 1   \n",
      "2      1    0     1    2          0       6             0                 1   \n",
      "3      1    0     1    3          0       6             0                 1   \n",
      "4      1    0     1    4          0       6             0                 1   \n",
      "5      1    0     1    5          0       6             0                 2   \n",
      "6      1    0     1    6          0       6             0                 1   \n",
      "7      1    0     1    7          0       6             0                 1   \n",
      "8      1    0     1    8          0       6             0                 1   \n",
      "9      1    0     1    9          0       6             0                 1   \n",
      "\n",
      "   temp   atemp  humidity  windspeed  \n",
      "0  0.24  0.2879      0.81     0.0000  \n",
      "1  0.22  0.2727      0.80     0.0000  \n",
      "2  0.22  0.2727      0.80     0.0000  \n",
      "3  0.24  0.2879      0.75     0.0000  \n",
      "4  0.24  0.2879      0.75     0.0000  \n",
      "5  0.24  0.2576      0.75     0.0896  \n",
      "6  0.22  0.2727      0.80     0.0000  \n",
      "7  0.20  0.2576      0.86     0.0000  \n",
      "8  0.24  0.2879      0.75     0.0000  \n",
      "9  0.32  0.3485      0.76     0.0000  \n"
     ]
    }
   ],
   "source": [
    "print (stat.iloc[:,2:-3].head(10))"
   ]
  },
  {
   "cell_type": "code",
   "execution_count": 18,
   "metadata": {},
   "outputs": [
    {
     "name": "stdout",
     "output_type": "stream",
     "text": [
      "(11643, 12)\n"
     ]
    }
   ],
   "source": [
    "print (X.shape)"
   ]
  },
  {
   "cell_type": "code",
   "execution_count": 19,
   "metadata": {},
   "outputs": [
    {
     "name": "stdout",
     "output_type": "stream",
     "text": [
      "(5736, 12)\n"
     ]
    }
   ],
   "source": [
    "print (X_test.shape)"
   ]
  },
  {
   "cell_type": "code",
   "execution_count": 20,
   "metadata": {},
   "outputs": [
    {
     "name": "stdout",
     "output_type": "stream",
     "text": [
      "0    16\n",
      "1    40\n",
      "2    32\n",
      "3    13\n",
      "4     1\n",
      "5     1\n",
      "6     2\n",
      "7     3\n",
      "8     8\n",
      "9    14\n",
      "Name: total_count, dtype: int64\n"
     ]
    }
   ],
   "source": [
    "print (stat.iloc[:,16].head(10))"
   ]
  },
  {
   "cell_type": "markdown",
   "metadata": {},
   "source": [
    "In the world of Classification ML algorithms, Accuracy was the way to measure Model Performance.\n",
    "The default scoring mechanism for Linear REgression is R2. This metric quantifies the amount of variance in the target variable that is predicted from the feautre variable."
   ]
  },
  {
   "cell_type": "code",
   "execution_count": 21,
   "metadata": {},
   "outputs": [
    {
     "name": "stdout",
     "output_type": "stream",
     "text": [
      "[449.41043176 204.2800776   59.21977232 ... 118.63474473 406.42682168\n",
      " 243.40871243]\n"
     ]
    }
   ],
   "source": [
    "print(y_pred)"
   ]
  },
  {
   "cell_type": "code",
   "execution_count": 22,
   "metadata": {},
   "outputs": [
    {
     "data": {
      "text/plain": [
       "0.387149334038074"
      ]
     },
     "execution_count": 22,
     "metadata": {},
     "output_type": "execute_result"
    }
   ],
   "source": [
    "reg_all.score(X, y)"
   ]
  },
  {
   "cell_type": "code",
   "execution_count": 23,
   "metadata": {},
   "outputs": [
    {
     "data": {
      "text/plain": [
       "0.3913916312859003"
      ]
     },
     "execution_count": 23,
     "metadata": {},
     "output_type": "execute_result"
    }
   ],
   "source": [
    "reg_all.score(X_test, y_test)"
   ]
  },
  {
   "cell_type": "markdown",
   "metadata": {},
   "source": [
    "However we may not use Linear Regression out of the box like this, we may use REgularization which places further constraints on model coefficients."
   ]
  },
  {
   "cell_type": "markdown",
   "metadata": {},
   "source": [
    "<H1> Cross Validation 5-folds"
   ]
  },
  {
   "cell_type": "markdown",
   "metadata": {},
   "source": [
    "To avoid the prediction of target variable by the split % of train & test data, Cross validation method is introduced to group the data into 5(or K) folds and performing train-test split & prediction on each fold iteratively and we predict the value of R2 5 times. Then from here we may compute Mean, Median or 95% Confidence Interval. "
   ]
  },
  {
   "cell_type": "code",
   "execution_count": 24,
   "metadata": {},
   "outputs": [
    {
     "name": "stdout",
     "output_type": "stream",
     "text": [
      "[0.37795048 0.39436735 0.39482881 0.35694839 0.43204938]\n"
     ]
    }
   ],
   "source": [
    "from sklearn.model_selection import cross_val_score\n",
    "#reg = linear_model.LinearRegression()\n",
    "cv_results = cross_val_score(reg_all.fit(X,y), X_test, y_test, cv= 5)\n",
    "print(cv_results)"
   ]
  },
  {
   "cell_type": "code",
   "execution_count": 25,
   "metadata": {},
   "outputs": [
    {
     "data": {
      "text/plain": [
       "0.39122887908281767"
      ]
     },
     "execution_count": 25,
     "metadata": {},
     "output_type": "execute_result"
    }
   ],
   "source": [
    "np.mean(cv_results)"
   ]
  },
  {
   "cell_type": "code",
   "execution_count": 26,
   "metadata": {},
   "outputs": [],
   "source": [
    "r2_scores = cross_val_score(reg_all.fit(X,y), X_test, y_test, cv=10)\n",
    "mse_scores = cross_val_score(reg_all.fit(X,y), X_test, y_test, cv=10,scoring='neg_mean_squared_error')"
   ]
  },
  {
   "cell_type": "code",
   "execution_count": 27,
   "metadata": {},
   "outputs": [
    {
     "data": {
      "image/png": "[encoded data removed]",
      "text/plain": [
       "<matplotlib.figure.Figure at 0x1a0be95390>"
      ]
     },
     "metadata": {},
     "output_type": "display_data"
    }
   ],
   "source": [
    "fig, ax = plt.subplots()\n",
    "ax.plot([i for i in range(len(r2_scores))],r2_scores,lw=2)\n",
    "ax.set_xlabel('Iteration')\n",
    "ax.set_ylabel('R-Squared')\n",
    "ax.title.set_text(\"Cross Validation Scores, Avg:{}\".format(np.average(r2_scores)))\n",
    "plt.show()"
   ]
  },
  {
   "cell_type": "code",
   "execution_count": 28,
   "metadata": {},
   "outputs": [
    {
     "name": "stdout",
     "output_type": "stream",
     "text": [
      "R-squared::[0.34592482 0.41171699 0.39363431 0.39476885 0.41587534 0.37258105\n",
      " 0.33675447 0.3829598  0.43540495 0.42830457]\n",
      "MSE::[-20598.28453931 -16522.02769435 -19782.62183534 -19025.59876118\n",
      " -19741.26412114 -20471.7599327  -24332.40891983 -18298.61936875\n",
      " -15606.69987462 -19759.85040327]\n"
     ]
    }
   ],
   "source": [
    "print(\"R-squared::{}\".format(r2_scores))\n",
    "print(\"MSE::{}\".format(mse_scores))"
   ]
  },
  {
   "cell_type": "markdown",
   "metadata": {},
   "source": [
    "<H1> Regularized Ridge Regression in Scikit-Learn"
   ]
  },
  {
   "cell_type": "code",
   "execution_count": 29,
   "metadata": {},
   "outputs": [
    {
     "data": {
      "text/plain": [
       "0.39024245916347916"
      ]
     },
     "execution_count": 29,
     "metadata": {},
     "output_type": "execute_result"
    }
   ],
   "source": [
    "from sklearn.linear_model import Ridge\n",
    "X, X_test, y, y_test = train_test_split(stat.iloc[:,2:-3], stat.iloc[:,16], \n",
    "                                                    test_size=0.33, random_state=42)\n",
    "\n",
    "ridge = Ridge(alpha =0.1, normalize=True)\n",
    "ridge.fit(X, y)\n",
    "ridge_pred = ridge.predict(X_test)\n",
    "ridge.score(X_test, y_test)"
   ]
  },
  {
   "cell_type": "markdown",
   "metadata": {},
   "source": [
    "<h1> Lasso Regression in Scikit-Learn"
   ]
  },
  {
   "cell_type": "code",
   "execution_count": 30,
   "metadata": {},
   "outputs": [
    {
     "data": {
      "text/plain": [
       "0.3779824852159332"
      ]
     },
     "execution_count": 30,
     "metadata": {},
     "output_type": "execute_result"
    }
   ],
   "source": [
    "from sklearn.linear_model import Lasso\n",
    "X, X_test, y, y_test = train_test_split(stat.iloc[:,2:-3], stat.iloc[:,16], \n",
    "                                                    test_size=0.33, random_state=42)\n",
    "\n",
    "lasso = Lasso(alpha =0.1, normalize=True)\n",
    "lasso.fit(X, y)\n",
    "lasso_pred = lasso.predict(X_test)\n",
    "lasso.score(X_test, y_test)\n",
    "#print(y.shape)"
   ]
  },
  {
   "cell_type": "markdown",
   "metadata": {},
   "source": [
    "<h1> Lasso for Feature Selectio in Scikit-Learn"
   ]
  },
  {
   "cell_type": "code",
   "execution_count": 31,
   "metadata": {},
   "outputs": [
    {
     "name": "stdout",
     "output_type": "stream",
     "text": [
      "(11643, 12)\n",
      "(11643,)\n"
     ]
    }
   ],
   "source": [
    "from sklearn.linear_model import Lasso\n",
    "names = stat.drop(['rec_id', 'datetime', 'total_count', 'registered', 'casual'], axis = 1).columns\n",
    "lasso = Lasso(alpha=0.1)\n",
    "\n",
    "print(X.shape)\n",
    "print(y.shape)"
   ]
  },
  {
   "cell_type": "code",
   "execution_count": 32,
   "metadata": {},
   "outputs": [
    {
     "name": "stdout",
     "output_type": "stream",
     "text": [
      "Index([u'season', u'year', u'month', u'hour', u'is_holiday', u'weekday',\n",
      "       u'is_workingday', u'weather_condition', u'temp', u'atemp', u'humidity',\n",
      "       u'windspeed'],\n",
      "      dtype='object')\n"
     ]
    }
   ],
   "source": [
    "print (names)"
   ]
  },
  {
   "cell_type": "code",
   "execution_count": 33,
   "metadata": {},
   "outputs": [
    {
     "name": "stdout",
     "output_type": "stream",
     "text": [
      "      season year month hour is_holiday weekday is_workingday  \\\n",
      "5749       3    0     9    0          0       5             1   \n",
      "1843       2    0     3   13          0       2             1   \n",
      "13855      3    1     8   12          0       0             0   \n",
      "9723       1    1     2    2          0       3             1   \n",
      "10981      2    1     4   17          0       6             0   \n",
      "1285       1    0     2   17          0       6             0   \n",
      "16759      4    1    12    2          0       4             1   \n",
      "4303       3    0     7    5          0       0             0   \n",
      "6366       4    0     9   20          0       2             1   \n",
      "1941       2    0     3   16          0       6             0   \n",
      "\n",
      "      weather_condition  temp   atemp  humidity  windspeed  \n",
      "5749                  1  0.64  0.6061      0.65     0.1940  \n",
      "1843                  1  0.50  0.4848      0.45     0.2239  \n",
      "13855                 1  0.86  0.8030      0.47     0.5224  \n",
      "9723                  1  0.30  0.3333      0.61     0.0000  \n",
      "10981                 1  0.54  0.5152      0.19     0.4179  \n",
      "1285                  1  0.36  0.3485      0.43     0.2239  \n",
      "16759                 1  0.24  0.2121      0.52     0.2836  \n",
      "4303                  3  0.62  0.5758      0.83     0.1940  \n",
      "6366                  1  0.62  0.5909      0.78     0.0000  \n",
      "1941                  1  0.34  0.3333      0.23     0.1940  \n"
     ]
    }
   ],
   "source": [
    "print (X.head(10))"
   ]
  },
  {
   "cell_type": "code",
   "execution_count": 34,
   "metadata": {},
   "outputs": [],
   "source": [
    "# X.reset_index(inplace=True)\n",
    "# X_test.reset_index(inplace=True)\n",
    "# y.reset_index()\n",
    "# y_test.reset_index()\n",
    "# print(y.head(10))"
   ]
  },
  {
   "cell_type": "code",
   "execution_count": 35,
   "metadata": {},
   "outputs": [
    {
     "name": "stdout",
     "output_type": "stream",
     "text": [
      "(11643,)\n"
     ]
    }
   ],
   "source": [
    "print(y.shape)"
   ]
  },
  {
   "cell_type": "code",
   "execution_count": 36,
   "metadata": {},
   "outputs": [
    {
     "name": "stdout",
     "output_type": "stream",
     "text": [
      "(11643, 12)\n"
     ]
    }
   ],
   "source": [
    "print(X.shape)"
   ]
  },
  {
   "cell_type": "code",
   "execution_count": 37,
   "metadata": {},
   "outputs": [
    {
     "data": {
      "image/png": "[encoded data removed]",
      "text/plain": [
       "<matplotlib.figure.Figure at 0x1a0ca00990>"
      ]
     },
     "metadata": {},
     "output_type": "display_data"
    }
   ],
   "source": [
    "lasso_coef = lasso.fit(X,y).coef_\n",
    "_=plt.plot(range(len(names)), lasso_coef)\n",
    "_=plt.xticks(range(len(names)), names, rotation = 60)\n",
    "_=plt.ylabel('Coefficients')\n",
    "plt.show()"
   ]
  },
  {
   "cell_type": "markdown",
   "metadata": {},
   "source": [
    "From the above graph, I see temp & atemp are highest predictor of Bike Rental Count distribution for any period of time."
   ]
  },
  {
   "cell_type": "markdown",
   "metadata": {},
   "source": [
    "<h1> How Good is your Model"
   ]
  },
  {
   "cell_type": "markdown",
   "metadata": {},
   "source": [
    "<B>Hyperparameter Tuning "
   ]
  },
  {
   "cell_type": "markdown",
   "metadata": {},
   "source": [
    "This involves following steps:\n",
    "    <br>Linear Regression: Choosing parameters\n",
    "    <br>Ridge/Lasso Regression: Choosing alpha\n",
    "    <br>k-Nearest Neighbors: Choosing n_neighbors\n",
    "    <br>Parameters like alpha & k: Hyperparameters\n",
    "    <br>Hyperparameters can not be learned by fitting the model"
   ]
  },
  {
   "cell_type": "markdown",
   "metadata": {},
   "source": [
    "Choosing the correct hyperparameter of above mentioned methods is called Hyperparameter tuning & here are the steps:\n",
    "<br> Try different hyperparameter values\n",
    "<br> Fit all of them separately\n",
    "<br> See how well each performs\n",
    "<br> Choose the best performing one\n",
    "<br> Essential to use cross validation\n",
    "\n",
    "When we have combination of hyperparameters to tune like C & alpha, then grid search cross validation class is used."
   ]
  },
  {
   "cell_type": "markdown",
   "metadata": {},
   "source": [
    "Pipeline can be used to chain multiple estimators into one. This is useful as there is often a fixed sequence of steps in processing the data, for example feature selection, normalization and classification. Pipeline serves two purposes here:\n",
    "Convenience and encapsulation\n",
    "You only have to call fit and predict once on your data to fit a whole sequence of estimators.\n",
    "Joint parameter selection\n",
    "You can grid search over parameters of all estimators in the pipeline at once.\n",
    "Safety\n",
    "Pipelines help avoid leaking statistics from your test data into the trained model in cross-validation, by ensuring that the same samples are used to train the transformers and predictors.\n",
    "All estimators in a pipeline, except the last one, must be transformers (i.e. must have a transform method). The last estimator may be any type (transformer, classifier, etc.)."
   ]
  },
  {
   "cell_type": "markdown",
   "metadata": {},
   "source": [
    "When many values in your dataset are missing, if you drop them, you may end up throwing away valuable information along with the missing data. It's better instead to develop an imputation strategy. This is where domain knowledge is useful, but in the absence of it, you can impute missing values with the mean or the median of the row or column that the missing value is in.\n",
    "E.g. # Setup the Imputation transformer: imp\n",
    "imp = Imputer(missing_values='NaN', strategy='most_frequent', axis=0)\n"
   ]
  },
  {
   "cell_type": "markdown",
   "metadata": {},
   "source": [
    "Centering & Scaling: This may be required say in regression models where fetures on far larger scales may unduly influennce the model so need to normalize the data. E.g. subtract the mean & divide by zero."
   ]
  },
  {
   "cell_type": "markdown",
   "metadata": {},
   "source": [
    "ElasticNet:  in the fitting of linear or logistic regression models, the elastic net is a regularized regression method (regularization is a process of introducing additional information in order to solve an ill-posed problem or to prevent overfitting)that linearly combines the L1 and L2 penalties of the lasso and ridge methods.\n",
    "The elastic net method overcomes the limitations of the LASSO (least absolute shrinkage and selection operator) method which uses a penalty function based on\n",
    "\n",
    "‖\n",
    "β\n",
    "‖\n",
    "1\n",
    "=\n",
    "∑\n",
    "j\n",
    "=\n",
    "1\n",
    "p\n",
    "|\n",
    "β\n",
    "j\n",
    "|\n",
    ".\n",
    "\\|\\beta\\|_1 = \\textstyle \\sum_{j=1}^p |\\beta_j|.\n",
    "Use of this penalty function has several limitations.[1] For example, in the \"large p, small n\" case (high-dimensional data with few examples), the LASSO selects at most n variables before it saturates. Also if there is a group of highly correlated variables, then the LASSO tends to select one variable from a group and ignore the others. To overcome these limitations, the elastic net adds a quadratic part to the penalty (\n",
    "‖\n",
    "β\n",
    "‖\n",
    "2\n",
    "\\|\\beta\\|^2), which when used alone is ridge regression (known also as Tikhonov regularization). The estimates from the elastic net method are defined by\n",
    "\n",
    "β\n",
    "^\n",
    "≡\n",
    "argmin\n",
    "β\n",
    "(\n",
    "‖\n",
    "y\n",
    "−\n",
    "X\n",
    "β\n",
    "‖\n",
    "2\n",
    "+\n",
    "λ\n",
    "2\n",
    "‖\n",
    "β\n",
    "‖\n",
    "2\n",
    "+\n",
    "λ\n",
    "1\n",
    "‖\n",
    "β\n",
    "‖\n",
    "1\n",
    ")\n",
    ".\n",
    "{\\displaystyle {\\hat {\\beta }}\\equiv {\\underset {\\beta }{\\operatorname {argmin} }}(\\|y-X\\beta \\|^{2}+\\lambda _{2}\\|\\beta \\|^{2}+\\lambda _{1}\\|\\beta \\|_{1}).}\n",
    "The quadratic penalty term makes the loss function strictly convex, and it therefore has a unique minimum. The elastic net method includes the LASSO and ridge regression"
   ]
  },
  {
   "cell_type": "markdown",
   "metadata": {},
   "source": [
    "l1_ratio : float or array of floats, optional\n",
    "float between 0 and 1 passed to ElasticNet (scaling between l1 and l2 penalties). For l1_ratio = 0 the penalty is an L2 penalty. For l1_ratio = 1 it is an L1 penalty. For 0 < l1_ratio < 1, the penalty is a combination of L1 and L2 This parameter can be a list, in which case the different values are tested by cross-validation and the one giving the best prediction score is used. Note that a good choice of list of values for l1_ratio is often to put more values close to 1 (i.e. Lasso) and less close to 0 (i.e. Ridge), as in [.1, .5, .7, .9, .95, .99, 1]"
   ]
  },
  {
   "cell_type": "code",
   "execution_count": 38,
   "metadata": {},
   "outputs": [
    {
     "name": "stderr",
     "output_type": "stream",
     "text": [
      "/anaconda2/lib/python2.7/site-packages/sklearn/linear_model/coordinate_descent.py:491: ConvergenceWarning: Objective did not converge. You might want to increase the number of iterations. Fitting data with very small alpha may cause precision problems.\n",
      "  ConvergenceWarning)\n"
     ]
    },
    {
     "name": "stdout",
     "output_type": "stream",
     "text": [
      "Tuned ElasticNet Alpha: {'elasticnet__l1_ratio': 1.0}\n",
      "Tuned ElasticNet R squared: 0.389258056093\n"
     ]
    }
   ],
   "source": [
    "from sklearn.preprocessing import StandardScaler\n",
    "from sklearn.pipeline import Pipeline\n",
    "from sklearn.preprocessing import scale\n",
    "from sklearn.preprocessing import Imputer\n",
    "from sklearn.linear_model import ElasticNet\n",
    "from sklearn.model_selection import GridSearchCV\n",
    "# Setup the pipeline steps: steps with scaling\n",
    "steps = [('imputation', Imputer(missing_values='NaN', strategy='mean', axis=0)),\n",
    "         ('scaler', StandardScaler()),\n",
    "         ('elasticnet', ElasticNet())]\n",
    "         \n",
    "# Create the pipeline: pipeline\n",
    "pipeline = Pipeline(steps)\n",
    "\n",
    "# Specify the hyperparameter space\n",
    "parameters = {'elasticnet__l1_ratio':np.linspace(0,1,30)}\n",
    "\n",
    "# Create train and test sets\n",
    "X_train, X_test, y_train, y_test = train_test_split(stat.iloc[:,2:-3], stat.iloc[:,16], test_size=0.4, random_state=42)\n",
    "\n",
    "# Create the GridSearchCV object: gm_cv\n",
    "gm_cv = GridSearchCV(pipeline, parameters)\n",
    "\n",
    "# Fit to the training set\n",
    "gm_cv.fit(X_train, y_train)\n",
    "\n",
    "# Compute and print the metrics\n",
    "r2 = gm_cv.score(X_test, y_test)\n",
    "print(\"Tuned ElasticNet Alpha: {}\".format(gm_cv.best_params_))\n",
    "print(\"Tuned ElasticNet R squared: {}\".format(r2))"
   ]
  },
  {
   "cell_type": "markdown",
   "metadata": {},
   "source": [
    "elasticnet__l1_ratio: 1.0 proves the model better optimized and closer to Lasso regression model than Ridge."
   ]
  }
 ],
 "metadata": {
  "kernelspec": {
   "display_name": "Python 2",
   "language": "python",
   "name": "python2"
  },
  "language_info": {
   "codemirror_mode": {
    "name": "ipython",
    "version": 2
   },
   "file_extension": ".py",
   "mimetype": "text/x-python",
   "name": "python",
   "nbconvert_exporter": "python",
   "pygments_lexer": "ipython2",
   "version": "2.7.14"
  }
 },
 "nbformat": 4,
 "nbformat_minor": 2
}
