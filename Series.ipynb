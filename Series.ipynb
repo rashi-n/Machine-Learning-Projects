{
 "cells": [
  {
   "cell_type": "markdown",
   "metadata": {},
   "source": [
    "Create a Series Object from a Python List\n"
   ]
  },
  {
   "cell_type": "code",
   "execution_count": 58,
   "metadata": {},
   "outputs": [
    {
     "data": {
      "text/plain": [
       "0     Chocolate\n",
       "1       Vanilla\n",
       "2    Strawberry\n",
       "3    Rum Raisin\n",
       "dtype: object"
      ]
     },
     "execution_count": 58,
     "metadata": {},
     "output_type": "execute_result"
    }
   ],
   "source": [
    "import pandas as pd\n",
    "ice_cream = [\"Chocolate\", \"Vanilla\", \"Strawberry\", \"Rum Raisin\"]\n",
    "pd.Series(ice_cream)"
   ]
  },
  {
   "cell_type": "code",
   "execution_count": 3,
   "metadata": {},
   "outputs": [
    {
     "data": {
      "text/plain": [
       "0     4\n",
       "1     6\n",
       "2     7\n",
       "3     8\n",
       "4    34\n",
       "5    45\n",
       "6    60\n",
       "dtype: int64"
      ]
     },
     "execution_count": 3,
     "metadata": {},
     "output_type": "execute_result"
    }
   ],
   "source": [
    "lottery = [4,6,7,8,34,45,60]\n",
    "pd.Series(lottery)"
   ]
  },
  {
   "cell_type": "markdown",
   "metadata": {},
   "source": [
    "<B><h1>#Create series from Dictionary</h1></B>"
   ]
  },
  {
   "cell_type": "code",
   "execution_count": 4,
   "metadata": {},
   "outputs": [
    {
     "data": {
      "text/plain": [
       "Aardvark            AN ANimal\n",
       "Banana      A delicious fruit\n",
       "Cyan                  A color\n",
       "dtype: object"
      ]
     },
     "execution_count": 4,
     "metadata": {},
     "output_type": "execute_result"
    }
   ],
   "source": [
    "webster = {\"Aardvark\":\"AN ANimal\", \"Banana\": \"A delicious fruit\", \n",
    "           \"Cyan\": \"A color\"}\n",
    "pd.Series(webster)"
   ]
  },
  {
   "cell_type": "markdown",
   "metadata": {},
   "source": [
    "<h1>Intro to Attributes</h1>"
   ]
  },
  {
   "cell_type": "code",
   "execution_count": 13,
   "metadata": {},
   "outputs": [
    {
     "data": {
      "text/plain": [
       "0        smart\n",
       "1    beautiful\n",
       "2     charming\n",
       "3       humble\n",
       "dtype: object"
      ]
     },
     "execution_count": 13,
     "metadata": {},
     "output_type": "execute_result"
    }
   ],
   "source": [
    "about_me = [\"smart\", \"beautiful\", \"charming\", \"humble\"]\n",
    "s = pd.Series(about_me)\n",
    "s"
   ]
  },
  {
   "cell_type": "code",
   "execution_count": 14,
   "metadata": {},
   "outputs": [
    {
     "data": {
      "text/plain": [
       "array(['smart', 'beautiful', 'charming', 'humble'], dtype=object)"
      ]
     },
     "execution_count": 14,
     "metadata": {},
     "output_type": "execute_result"
    }
   ],
   "source": [
    "s.values"
   ]
  },
  {
   "cell_type": "code",
   "execution_count": 15,
   "metadata": {},
   "outputs": [
    {
     "data": {
      "text/plain": [
       "RangeIndex(start=0, stop=4, step=1)"
      ]
     },
     "execution_count": 15,
     "metadata": {},
     "output_type": "execute_result"
    }
   ],
   "source": [
    "s.index"
   ]
  },
  {
   "cell_type": "code",
   "execution_count": 16,
   "metadata": {},
   "outputs": [
    {
     "data": {
      "text/plain": [
       "dtype('O')"
      ]
     },
     "execution_count": 16,
     "metadata": {},
     "output_type": "execute_result"
    }
   ],
   "source": [
    "s.dtype"
   ]
  },
  {
   "cell_type": "code",
   "execution_count": 17,
   "metadata": {},
   "outputs": [],
   "source": [
    "#'O' implies object & means string"
   ]
  },
  {
   "cell_type": "markdown",
   "metadata": {},
   "source": [
    "<h1> Intro to Methods</h1>"
   ]
  },
  {
   "cell_type": "code",
   "execution_count": 19,
   "metadata": {},
   "outputs": [
    {
     "data": {
      "text/plain": [
       "0    2.99\n",
       "1    3.45\n",
       "2    1.29\n",
       "dtype: float64"
      ]
     },
     "execution_count": 19,
     "metadata": {},
     "output_type": "execute_result"
    }
   ],
   "source": [
    "prices = [2.99, 3.45, 1.29]\n",
    "s = pd.Series(prices)\n",
    "s"
   ]
  },
  {
   "cell_type": "code",
   "execution_count": 20,
   "metadata": {},
   "outputs": [
    {
     "data": {
      "text/plain": [
       "7.73"
      ]
     },
     "execution_count": 20,
     "metadata": {},
     "output_type": "execute_result"
    }
   ],
   "source": [
    "s.sum()"
   ]
  },
  {
   "cell_type": "code",
   "execution_count": 21,
   "metadata": {},
   "outputs": [
    {
     "data": {
      "text/plain": [
       "13.306995000000002"
      ]
     },
     "execution_count": 21,
     "metadata": {},
     "output_type": "execute_result"
    }
   ],
   "source": [
    "s.product()"
   ]
  },
  {
   "cell_type": "code",
   "execution_count": 22,
   "metadata": {},
   "outputs": [
    {
     "data": {
      "text/plain": [
       "2.5766666666666667"
      ]
     },
     "execution_count": 22,
     "metadata": {},
     "output_type": "execute_result"
    }
   ],
   "source": [
    "s.mean()"
   ]
  },
  {
   "cell_type": "markdown",
   "metadata": {},
   "source": [
    "<h1> Parameters & Arguments"
   ]
  },
  {
   "cell_type": "code",
   "execution_count": 28,
   "metadata": {},
   "outputs": [
    {
     "data": {
      "text/plain": [
       "0        apple\n",
       "1       orange\n",
       "2         plum\n",
       "3        grape\n",
       "4    blueberry\n",
       "dtype: object"
      ]
     },
     "execution_count": 28,
     "metadata": {},
     "output_type": "execute_result"
    }
   ],
   "source": [
    "#Difficulty - Easy, Medium, Hard\n",
    "#Volume - 1 thru 10\n",
    "#Subtitles- True/False\n",
    "#Here Easy is argument of parameter Difficulty\n",
    "fruits = [\"apple\", \"orange\", \"plum\", \"grape\", \"blueberry\"]\n",
    "weekdays = [\"Mon\", \"Tue\", \"Wed\", \"Thurs\", \"Fri\"]\n",
    "\n",
    "pd.Series(fruits)"
   ]
  },
  {
   "cell_type": "code",
   "execution_count": 32,
   "metadata": {},
   "outputs": [
    {
     "data": {
      "text/plain": [
       "Mon          apple\n",
       "Tue         orange\n",
       "Wed           plum\n",
       "Thurs        grape\n",
       "Fri      blueberry\n",
       "dtype: object"
      ]
     },
     "execution_count": 32,
     "metadata": {},
     "output_type": "execute_result"
    }
   ],
   "source": [
    "pd.Series(fruits, weekdays) #weekdays become argument\n",
    "pd.Series(data = fruits, index = weekdays)\n",
    "pd.Series(fruits, index = weekdays)"
   ]
  },
  {
   "cell_type": "code",
   "execution_count": 59,
   "metadata": {},
   "outputs": [],
   "source": [
    "pokemon = pd.read_csv(\"Python Projects/Pandas Projects/pandas/pokemon.csv\", squeeze = True)\n",
    "google = pd.read_csv(\"Python Projects/Pandas Projects/pandas/google_stock_price.csv\", squeeze = True)"
   ]
  },
  {
   "cell_type": "code",
   "execution_count": 40,
   "metadata": {},
   "outputs": [
    {
     "data": {
      "text/plain": [
       "3012"
      ]
     },
     "execution_count": 40,
     "metadata": {},
     "output_type": "execute_result"
    }
   ],
   "source": [
    "len(pokemon)\n",
    "len(google)"
   ]
  },
  {
   "cell_type": "code",
   "execution_count": 41,
   "metadata": {},
   "outputs": [
    {
     "data": {
      "text/plain": [
       "pandas.core.frame.DataFrame"
      ]
     },
     "execution_count": 41,
     "metadata": {},
     "output_type": "execute_result"
    }
   ],
   "source": [
    "type(pokemon)"
   ]
  },
  {
   "cell_type": "code",
   "execution_count": 42,
   "metadata": {
    "collapsed": true
   },
   "outputs": [
    {
     "data": {
      "text/plain": [
       "['Pokemon',\n",
       " 'T',\n",
       " 'Type',\n",
       " '_AXIS_ALIASES',\n",
       " '_AXIS_IALIASES',\n",
       " '_AXIS_LEN',\n",
       " '_AXIS_NAMES',\n",
       " '_AXIS_NUMBERS',\n",
       " '_AXIS_ORDERS',\n",
       " '_AXIS_REVERSED',\n",
       " '_AXIS_SLICEMAP',\n",
       " '__abs__',\n",
       " '__add__',\n",
       " '__and__',\n",
       " '__array__',\n",
       " '__array_wrap__',\n",
       " '__bool__',\n",
       " '__bytes__',\n",
       " '__class__',\n",
       " '__contains__',\n",
       " '__copy__',\n",
       " '__deepcopy__',\n",
       " '__delattr__',\n",
       " '__delitem__',\n",
       " '__dict__',\n",
       " '__dir__',\n",
       " '__div__',\n",
       " '__doc__',\n",
       " '__eq__',\n",
       " '__finalize__',\n",
       " '__floordiv__',\n",
       " '__format__',\n",
       " '__ge__',\n",
       " '__getattr__',\n",
       " '__getattribute__',\n",
       " '__getitem__',\n",
       " '__getstate__',\n",
       " '__gt__',\n",
       " '__hash__',\n",
       " '__iadd__',\n",
       " '__iand__',\n",
       " '__idiv__',\n",
       " '__ifloordiv__',\n",
       " '__imod__',\n",
       " '__imul__',\n",
       " '__init__',\n",
       " '__invert__',\n",
       " '__ior__',\n",
       " '__ipow__',\n",
       " '__isub__',\n",
       " '__iter__',\n",
       " '__itruediv__',\n",
       " '__ixor__',\n",
       " '__le__',\n",
       " '__len__',\n",
       " '__lt__',\n",
       " '__mod__',\n",
       " '__module__',\n",
       " '__mul__',\n",
       " '__ne__',\n",
       " '__neg__',\n",
       " '__new__',\n",
       " '__nonzero__',\n",
       " '__or__',\n",
       " '__pow__',\n",
       " '__radd__',\n",
       " '__rand__',\n",
       " '__rdiv__',\n",
       " '__reduce__',\n",
       " '__reduce_ex__',\n",
       " '__repr__',\n",
       " '__rfloordiv__',\n",
       " '__rmod__',\n",
       " '__rmul__',\n",
       " '__ror__',\n",
       " '__round__',\n",
       " '__rpow__',\n",
       " '__rsub__',\n",
       " '__rtruediv__',\n",
       " '__rxor__',\n",
       " '__setattr__',\n",
       " '__setitem__',\n",
       " '__setstate__',\n",
       " '__sizeof__',\n",
       " '__str__',\n",
       " '__sub__',\n",
       " '__subclasshook__',\n",
       " '__truediv__',\n",
       " '__unicode__',\n",
       " '__weakref__',\n",
       " '__xor__',\n",
       " '_accessors',\n",
       " '_add_numeric_operations',\n",
       " '_add_series_only_operations',\n",
       " '_add_series_or_dataframe_operations',\n",
       " '_agg_by_level',\n",
       " '_agg_doc',\n",
       " '_aggregate',\n",
       " '_aggregate_multiple_funcs',\n",
       " '_align_frame',\n",
       " '_align_series',\n",
       " '_apply_broadcast',\n",
       " '_apply_empty_result',\n",
       " '_apply_raw',\n",
       " '_apply_standard',\n",
       " '_at',\n",
       " '_box_col_values',\n",
       " '_box_item_values',\n",
       " '_builtin_table',\n",
       " '_check_inplace_setting',\n",
       " '_check_is_chained_assignment_possible',\n",
       " '_check_percentile',\n",
       " '_check_setitem_copy',\n",
       " '_clear_item_cache',\n",
       " '_clip_with_one_bound',\n",
       " '_clip_with_scalar',\n",
       " '_combine_const',\n",
       " '_combine_frame',\n",
       " '_combine_match_columns',\n",
       " '_combine_match_index',\n",
       " '_combine_series',\n",
       " '_combine_series_infer',\n",
       " '_compare_frame',\n",
       " '_compare_frame_evaluate',\n",
       " '_consolidate',\n",
       " '_consolidate_inplace',\n",
       " '_construct_axes_dict',\n",
       " '_construct_axes_dict_for_slice',\n",
       " '_construct_axes_dict_from',\n",
       " '_construct_axes_from_arguments',\n",
       " '_constructor',\n",
       " '_constructor_expanddim',\n",
       " '_constructor_sliced',\n",
       " '_convert',\n",
       " '_count_level',\n",
       " '_create_indexer',\n",
       " '_cython_table',\n",
       " '_deprecations',\n",
       " '_dir_additions',\n",
       " '_dir_deletions',\n",
       " '_drop_axis',\n",
       " '_ensure_valid_index',\n",
       " '_expand_axes',\n",
       " '_flex_compare_frame',\n",
       " '_from_arrays',\n",
       " '_from_axes',\n",
       " '_get_agg_axis',\n",
       " '_get_axis',\n",
       " '_get_axis_name',\n",
       " '_get_axis_number',\n",
       " '_get_axis_resolvers',\n",
       " '_get_block_manager_axis',\n",
       " '_get_bool_data',\n",
       " '_get_cacher',\n",
       " '_get_index_resolvers',\n",
       " '_get_item_cache',\n",
       " '_get_numeric_data',\n",
       " '_get_valid_indices',\n",
       " '_get_value',\n",
       " '_get_values',\n",
       " '_getitem_array',\n",
       " '_getitem_column',\n",
       " '_getitem_frame',\n",
       " '_getitem_multilevel',\n",
       " '_getitem_slice',\n",
       " '_gotitem',\n",
       " '_iat',\n",
       " '_iget_item_cache',\n",
       " '_iloc',\n",
       " '_indexed_same',\n",
       " '_info_axis',\n",
       " '_info_axis_name',\n",
       " '_info_axis_number',\n",
       " '_info_repr',\n",
       " '_init_dict',\n",
       " '_init_mgr',\n",
       " '_init_ndarray',\n",
       " '_internal_names',\n",
       " '_internal_names_set',\n",
       " '_is_builtin_func',\n",
       " '_is_cached',\n",
       " '_is_cython_func',\n",
       " '_is_datelike_mixed_type',\n",
       " '_is_mixed_type',\n",
       " '_is_numeric_mixed_type',\n",
       " '_is_view',\n",
       " '_ix',\n",
       " '_ixs',\n",
       " '_join_compat',\n",
       " '_loc',\n",
       " '_maybe_cache_changed',\n",
       " '_maybe_update_cacher',\n",
       " '_metadata',\n",
       " '_needs_reindex_multi',\n",
       " '_obj_with_exclusions',\n",
       " '_protect_consolidate',\n",
       " '_reduce',\n",
       " '_reindex_axes',\n",
       " '_reindex_axis',\n",
       " '_reindex_columns',\n",
       " '_reindex_index',\n",
       " '_reindex_multi',\n",
       " '_reindex_with_indexers',\n",
       " '_repr_data_resource_',\n",
       " '_repr_fits_horizontal_',\n",
       " '_repr_fits_vertical_',\n",
       " '_repr_html_',\n",
       " '_repr_latex_',\n",
       " '_reset_cache',\n",
       " '_reset_cacher',\n",
       " '_sanitize_column',\n",
       " '_selected_obj',\n",
       " '_selection',\n",
       " '_selection_list',\n",
       " '_selection_name',\n",
       " '_series',\n",
       " '_set_as_cached',\n",
       " '_set_axis',\n",
       " '_set_axis_name',\n",
       " '_set_is_copy',\n",
       " '_set_item',\n",
       " '_set_value',\n",
       " '_setitem_array',\n",
       " '_setitem_frame',\n",
       " '_setitem_slice',\n",
       " '_setup_axes',\n",
       " '_shallow_copy',\n",
       " '_slice',\n",
       " '_stat_axis',\n",
       " '_stat_axis_name',\n",
       " '_stat_axis_number',\n",
       " '_take',\n",
       " '_to_dict_of_blocks',\n",
       " '_try_aggregate_string_function',\n",
       " '_typ',\n",
       " '_unpickle_frame_compat',\n",
       " '_unpickle_matrix_compat',\n",
       " '_update_inplace',\n",
       " '_validate_dtype',\n",
       " '_values',\n",
       " '_where',\n",
       " '_xs',\n",
       " 'abs',\n",
       " 'add',\n",
       " 'add_prefix',\n",
       " 'add_suffix',\n",
       " 'agg',\n",
       " 'aggregate',\n",
       " 'align',\n",
       " 'all',\n",
       " 'any',\n",
       " 'append',\n",
       " 'apply',\n",
       " 'applymap',\n",
       " 'as_matrix',\n",
       " 'asfreq',\n",
       " 'asof',\n",
       " 'assign',\n",
       " 'astype',\n",
       " 'at',\n",
       " 'at_time',\n",
       " 'axes',\n",
       " 'between_time',\n",
       " 'bfill',\n",
       " 'bool',\n",
       " 'boxplot',\n",
       " 'clip',\n",
       " 'clip_lower',\n",
       " 'clip_upper',\n",
       " 'columns',\n",
       " 'combine',\n",
       " 'combine_first',\n",
       " 'compound',\n",
       " 'copy',\n",
       " 'corr',\n",
       " 'corrwith',\n",
       " 'count',\n",
       " 'cov',\n",
       " 'cummax',\n",
       " 'cummin',\n",
       " 'cumprod',\n",
       " 'cumsum',\n",
       " 'describe',\n",
       " 'diff',\n",
       " 'div',\n",
       " 'divide',\n",
       " 'dot',\n",
       " 'drop',\n",
       " 'drop_duplicates',\n",
       " 'dropna',\n",
       " 'dtypes',\n",
       " 'duplicated',\n",
       " 'empty',\n",
       " 'eq',\n",
       " 'equals',\n",
       " 'eval',\n",
       " 'ewm',\n",
       " 'expanding',\n",
       " 'ffill',\n",
       " 'fillna',\n",
       " 'filter',\n",
       " 'first',\n",
       " 'first_valid_index',\n",
       " 'floordiv',\n",
       " 'from_dict',\n",
       " 'from_items',\n",
       " 'from_records',\n",
       " 'ftypes',\n",
       " 'ge',\n",
       " 'get',\n",
       " 'get_dtype_counts',\n",
       " 'get_ftype_counts',\n",
       " 'get_values',\n",
       " 'groupby',\n",
       " 'gt',\n",
       " 'head',\n",
       " 'hist',\n",
       " 'iat',\n",
       " 'idxmax',\n",
       " 'idxmin',\n",
       " 'iloc',\n",
       " 'index',\n",
       " 'infer_objects',\n",
       " 'info',\n",
       " 'insert',\n",
       " 'interpolate',\n",
       " 'is_copy',\n",
       " 'isin',\n",
       " 'isna',\n",
       " 'isnull',\n",
       " 'items',\n",
       " 'iteritems',\n",
       " 'iterrows',\n",
       " 'itertuples',\n",
       " 'ix',\n",
       " 'join',\n",
       " 'keys',\n",
       " 'kurt',\n",
       " 'kurtosis',\n",
       " 'last',\n",
       " 'last_valid_index',\n",
       " 'le',\n",
       " 'loc',\n",
       " 'lookup',\n",
       " 'lt',\n",
       " 'mad',\n",
       " 'mask',\n",
       " 'max',\n",
       " 'mean',\n",
       " 'median',\n",
       " 'melt',\n",
       " 'memory_usage',\n",
       " 'merge',\n",
       " 'min',\n",
       " 'mod',\n",
       " 'mode',\n",
       " 'mul',\n",
       " 'multiply',\n",
       " 'ndim',\n",
       " 'ne',\n",
       " 'nlargest',\n",
       " 'notna',\n",
       " 'notnull',\n",
       " 'nsmallest',\n",
       " 'nunique',\n",
       " 'pct_change',\n",
       " 'pipe',\n",
       " 'pivot',\n",
       " 'pivot_table',\n",
       " 'plot',\n",
       " 'pop',\n",
       " 'pow',\n",
       " 'prod',\n",
       " 'product',\n",
       " 'quantile',\n",
       " 'query',\n",
       " 'radd',\n",
       " 'rank',\n",
       " 'rdiv',\n",
       " 'reindex',\n",
       " 'reindex_axis',\n",
       " 'reindex_like',\n",
       " 'rename',\n",
       " 'rename_axis',\n",
       " 'reorder_levels',\n",
       " 'replace',\n",
       " 'resample',\n",
       " 'reset_index',\n",
       " 'rfloordiv',\n",
       " 'rmod',\n",
       " 'rmul',\n",
       " 'rolling',\n",
       " 'round',\n",
       " 'rpow',\n",
       " 'rsub',\n",
       " 'rtruediv',\n",
       " 'sample',\n",
       " 'select',\n",
       " 'select_dtypes',\n",
       " 'sem',\n",
       " 'set_axis',\n",
       " 'set_index',\n",
       " 'shape',\n",
       " 'shift',\n",
       " 'size',\n",
       " 'skew',\n",
       " 'slice_shift',\n",
       " 'sort_index',\n",
       " 'sort_values',\n",
       " 'squeeze',\n",
       " 'stack',\n",
       " 'std',\n",
       " 'style',\n",
       " 'sub',\n",
       " 'subtract',\n",
       " 'sum',\n",
       " 'swapaxes',\n",
       " 'swaplevel',\n",
       " 'tail',\n",
       " 'take',\n",
       " 'to_clipboard',\n",
       " 'to_csv',\n",
       " 'to_dense',\n",
       " 'to_dict',\n",
       " 'to_excel',\n",
       " 'to_feather',\n",
       " 'to_gbq',\n",
       " 'to_hdf',\n",
       " 'to_html',\n",
       " 'to_json',\n",
       " 'to_latex',\n",
       " 'to_msgpack',\n",
       " 'to_panel',\n",
       " 'to_parquet',\n",
       " 'to_period',\n",
       " 'to_pickle',\n",
       " 'to_records',\n",
       " 'to_sparse',\n",
       " 'to_sql',\n",
       " 'to_stata',\n",
       " 'to_string',\n",
       " 'to_timestamp',\n",
       " 'to_xarray',\n",
       " 'transform',\n",
       " 'transpose',\n",
       " 'truediv',\n",
       " 'truncate',\n",
       " 'tshift',\n",
       " 'tz_convert',\n",
       " 'tz_localize',\n",
       " 'unstack',\n",
       " 'update',\n",
       " 'values',\n",
       " 'var',\n",
       " 'where',\n",
       " 'xs']"
      ]
     },
     "execution_count": 42,
     "metadata": {},
     "output_type": "execute_result"
    }
   ],
   "source": [
    "dir(pokemon)"
   ]
  },
  {
   "cell_type": "code",
   "execution_count": 43,
   "metadata": {},
   "outputs": [
    {
     "data": {
      "text/plain": [
       "['Pokemon', 'Type']"
      ]
     },
     "execution_count": 43,
     "metadata": {},
     "output_type": "execute_result"
    }
   ],
   "source": [
    "sorted(pokemon)"
   ]
  },
  {
   "cell_type": "code",
   "execution_count": 44,
   "metadata": {
    "collapsed": true
   },
   "outputs": [
    {
     "data": {
      "text/plain": [
       "[49.95,\n",
       " 50.07,\n",
       " 50.12,\n",
       " 50.7,\n",
       " 50.74,\n",
       " 50.95,\n",
       " 51.1,\n",
       " 51.1,\n",
       " 51.13,\n",
       " 52.38,\n",
       " 52.61,\n",
       " 52.95,\n",
       " 53.02,\n",
       " 53.7,\n",
       " 53.9,\n",
       " 54.1,\n",
       " 54.65,\n",
       " 55.69,\n",
       " 55.94,\n",
       " 56.93,\n",
       " 58.69,\n",
       " 58.86,\n",
       " 59.07,\n",
       " 59.13,\n",
       " 59.62,\n",
       " 59.86,\n",
       " 60.35,\n",
       " 63.37,\n",
       " 64.74,\n",
       " 65.47,\n",
       " 66.22,\n",
       " 67.46,\n",
       " 67.56,\n",
       " 68.47,\n",
       " 68.63,\n",
       " 68.8,\n",
       " 69.12,\n",
       " 69.36,\n",
       " 70.17,\n",
       " 70.38,\n",
       " 70.93,\n",
       " 71.98,\n",
       " 73.9,\n",
       " 74.51,\n",
       " 74.62,\n",
       " 82.47,\n",
       " 83.68,\n",
       " 83.69,\n",
       " 83.85,\n",
       " 84.27,\n",
       " 84.59,\n",
       " 84.62,\n",
       " 84.91,\n",
       " 85.14,\n",
       " 85.63,\n",
       " 85.74,\n",
       " 86.13,\n",
       " 86.16,\n",
       " 86.19,\n",
       " 86.19,\n",
       " 86.63,\n",
       " 87.29,\n",
       " 87.41,\n",
       " 87.71,\n",
       " 88.06,\n",
       " 88.15,\n",
       " 88.47,\n",
       " 88.81,\n",
       " 89.21,\n",
       " 89.22,\n",
       " 89.26,\n",
       " 89.4,\n",
       " 89.54,\n",
       " 89.56,\n",
       " 89.61,\n",
       " 89.61,\n",
       " 89.7,\n",
       " 89.8,\n",
       " 89.89,\n",
       " 89.9,\n",
       " 89.93,\n",
       " 89.93,\n",
       " 89.95,\n",
       " 90.11,\n",
       " 90.13,\n",
       " 90.16,\n",
       " 90.27,\n",
       " 90.35,\n",
       " 90.43,\n",
       " 90.58,\n",
       " 90.62,\n",
       " 90.81,\n",
       " 90.9,\n",
       " 90.91,\n",
       " 91.42,\n",
       " 91.78,\n",
       " 92.26,\n",
       " 92.34,\n",
       " 92.41,\n",
       " 92.42,\n",
       " 92.5,\n",
       " 92.51,\n",
       " 92.55,\n",
       " 92.84,\n",
       " 92.86,\n",
       " 92.89,\n",
       " 92.94,\n",
       " 93.06,\n",
       " 93.39,\n",
       " 93.41,\n",
       " 93.61,\n",
       " 93.61,\n",
       " 93.86,\n",
       " 93.9,\n",
       " 93.9,\n",
       " 93.95,\n",
       " 94.05,\n",
       " 94.18,\n",
       " 94.19,\n",
       " 94.31,\n",
       " 94.35,\n",
       " 94.52,\n",
       " 94.53,\n",
       " 95.07,\n",
       " 95.22,\n",
       " 95.59,\n",
       " 95.6,\n",
       " 95.63,\n",
       " 95.69,\n",
       " 95.74,\n",
       " 95.85,\n",
       " 95.86,\n",
       " 95.93,\n",
       " 96.28,\n",
       " 96.3,\n",
       " 96.35,\n",
       " 96.37,\n",
       " 96.4,\n",
       " 96.52,\n",
       " 96.55,\n",
       " 96.66,\n",
       " 96.67,\n",
       " 96.78,\n",
       " 96.83,\n",
       " 96.86,\n",
       " 96.88,\n",
       " 96.88,\n",
       " 97.15,\n",
       " 97.34,\n",
       " 97.43,\n",
       " 97.52,\n",
       " 97.57,\n",
       " 97.59,\n",
       " 97.71,\n",
       " 97.92,\n",
       " 97.92,\n",
       " 98.55,\n",
       " 98.7,\n",
       " 98.85,\n",
       " 98.88,\n",
       " 98.95,\n",
       " 99.11,\n",
       " 99.22,\n",
       " 99.89,\n",
       " 101.25,\n",
       " 101.85,\n",
       " 102.01,\n",
       " 102.08,\n",
       " 102.88,\n",
       " 105.32,\n",
       " 107.8,\n",
       " 109.27,\n",
       " 109.62,\n",
       " 109.78,\n",
       " 109.89,\n",
       " 111.03,\n",
       " 111.65,\n",
       " 112.9,\n",
       " 112.98,\n",
       " 113.38,\n",
       " 113.79,\n",
       " 113.9,\n",
       " 114.14,\n",
       " 114.25,\n",
       " 114.51,\n",
       " 115.41,\n",
       " 115.53,\n",
       " 116.45,\n",
       " 119.46,\n",
       " 119.47,\n",
       " 120.68,\n",
       " 127.6,\n",
       " 127.87,\n",
       " 128.59,\n",
       " 129.47,\n",
       " 129.65,\n",
       " 130.27,\n",
       " 131.08,\n",
       " 132.86,\n",
       " 132.87,\n",
       " 136.87,\n",
       " 137.03,\n",
       " 137.26,\n",
       " 137.42,\n",
       " 138.5,\n",
       " 138.58,\n",
       " 139.04,\n",
       " 139.58,\n",
       " 139.64,\n",
       " 139.65,\n",
       " 139.86,\n",
       " 139.86,\n",
       " 139.95,\n",
       " 139.99,\n",
       " 140.0,\n",
       " 140.88,\n",
       " 141.11,\n",
       " 141.14,\n",
       " 141.15,\n",
       " 141.23,\n",
       " 141.23,\n",
       " 141.65,\n",
       " 141.85,\n",
       " 141.86,\n",
       " 141.88,\n",
       " 142.41,\n",
       " 142.68,\n",
       " 142.7,\n",
       " 142.86,\n",
       " 142.98,\n",
       " 143.01,\n",
       " 143.21,\n",
       " 143.41,\n",
       " 143.49,\n",
       " 143.74,\n",
       " 143.78,\n",
       " 143.81,\n",
       " 143.86,\n",
       " 144.08,\n",
       " 144.08,\n",
       " 144.51,\n",
       " 144.71,\n",
       " 144.72,\n",
       " 145.3,\n",
       " 145.32,\n",
       " 145.35,\n",
       " 145.48,\n",
       " 145.48,\n",
       " 145.62,\n",
       " 145.64,\n",
       " 145.66,\n",
       " 145.75,\n",
       " 145.9,\n",
       " 146.03,\n",
       " 146.21,\n",
       " 146.33,\n",
       " 146.41,\n",
       " 146.53,\n",
       " 146.6,\n",
       " 146.93,\n",
       " 147.29,\n",
       " 147.55,\n",
       " 147.62,\n",
       " 147.71,\n",
       " 147.78,\n",
       " 147.9,\n",
       " 147.92,\n",
       " 147.97,\n",
       " 148.32,\n",
       " 148.41,\n",
       " 148.48,\n",
       " 148.5,\n",
       " 148.56,\n",
       " 148.56,\n",
       " 148.57,\n",
       " 148.72,\n",
       " 148.86,\n",
       " 149.28,\n",
       " 149.35,\n",
       " 149.4,\n",
       " 149.45,\n",
       " 149.62,\n",
       " 149.69,\n",
       " 149.91,\n",
       " 149.95,\n",
       " 149.96,\n",
       " 150.03,\n",
       " 150.29,\n",
       " 150.33,\n",
       " 150.33,\n",
       " 150.44,\n",
       " 150.85,\n",
       " 150.9,\n",
       " 151.05,\n",
       " 151.16,\n",
       " 151.32,\n",
       " 151.35,\n",
       " 151.39,\n",
       " 151.4,\n",
       " 151.45,\n",
       " 151.49,\n",
       " 151.74,\n",
       " 151.9,\n",
       " 152.35,\n",
       " 152.67,\n",
       " 152.83,\n",
       " 152.85,\n",
       " 152.9,\n",
       " 153.1,\n",
       " 153.67,\n",
       " 153.8,\n",
       " 153.93,\n",
       " 154.13,\n",
       " 154.2,\n",
       " 154.26,\n",
       " 154.66,\n",
       " 154.72,\n",
       " 154.8,\n",
       " 154.85,\n",
       " 154.93,\n",
       " 154.98,\n",
       " 155.17,\n",
       " 155.18,\n",
       " 155.2,\n",
       " 155.34,\n",
       " 155.53,\n",
       " 155.57,\n",
       " 155.68,\n",
       " 155.79,\n",
       " 155.84,\n",
       " 155.88,\n",
       " 156.19,\n",
       " 156.22,\n",
       " 156.34,\n",
       " 156.81,\n",
       " 156.81,\n",
       " 156.98,\n",
       " 157.0,\n",
       " 157.38,\n",
       " 157.46,\n",
       " 157.52,\n",
       " 157.72,\n",
       " 158.07,\n",
       " 158.8,\n",
       " 159.18,\n",
       " 159.23,\n",
       " 159.3,\n",
       " 159.69,\n",
       " 160.5,\n",
       " 160.84,\n",
       " 161.6,\n",
       " 161.77,\n",
       " 162.05,\n",
       " 162.19,\n",
       " 162.43,\n",
       " 162.48,\n",
       " 162.58,\n",
       " 163.42,\n",
       " 163.86,\n",
       " 164.33,\n",
       " 164.58,\n",
       " 164.81,\n",
       " 164.86,\n",
       " 164.91,\n",
       " 165.4,\n",
       " 165.44,\n",
       " 165.57,\n",
       " 165.83,\n",
       " 166.38,\n",
       " 166.86,\n",
       " 167.5,\n",
       " 168.36,\n",
       " 168.42,\n",
       " 168.58,\n",
       " 168.83,\n",
       " 168.89,\n",
       " 169.1,\n",
       " 169.22,\n",
       " 169.42,\n",
       " 169.48,\n",
       " 169.73,\n",
       " 169.78,\n",
       " 169.79,\n",
       " 169.94,\n",
       " 170.05,\n",
       " 170.11,\n",
       " 170.65,\n",
       " 170.77,\n",
       " 170.95,\n",
       " 171.02,\n",
       " 171.15,\n",
       " 171.16,\n",
       " 171.17,\n",
       " 171.33,\n",
       " 171.33,\n",
       " 171.49,\n",
       " 171.49,\n",
       " 171.86,\n",
       " 172.08,\n",
       " 172.55,\n",
       " 172.68,\n",
       " 172.83,\n",
       " 173.05,\n",
       " 173.07,\n",
       " 173.28,\n",
       " 173.41,\n",
       " 173.68,\n",
       " 173.86,\n",
       " 173.92,\n",
       " 174.13,\n",
       " 174.15,\n",
       " 174.16,\n",
       " 175.4,\n",
       " 175.98,\n",
       " 176.33,\n",
       " 176.35,\n",
       " 176.38,\n",
       " 176.47,\n",
       " 176.68,\n",
       " 176.76,\n",
       " 176.87,\n",
       " 177.54,\n",
       " 177.66,\n",
       " 178.66,\n",
       " 178.82,\n",
       " 178.84,\n",
       " 178.91,\n",
       " 179.08,\n",
       " 179.15,\n",
       " 179.21,\n",
       " 179.5,\n",
       " 179.67,\n",
       " 180.82,\n",
       " 181.07,\n",
       " 181.12,\n",
       " 181.13,\n",
       " 181.17,\n",
       " 181.19,\n",
       " 181.34,\n",
       " 182.04,\n",
       " 182.22,\n",
       " 182.56,\n",
       " 182.72,\n",
       " 183.05,\n",
       " 183.11,\n",
       " 183.29,\n",
       " 183.43,\n",
       " 183.78,\n",
       " 183.87,\n",
       " 183.94,\n",
       " 184.07,\n",
       " 184.19,\n",
       " 184.19,\n",
       " 184.27,\n",
       " 184.36,\n",
       " 184.53,\n",
       " 184.66,\n",
       " 184.71,\n",
       " 184.82,\n",
       " 185.29,\n",
       " 185.31,\n",
       " 185.42,\n",
       " 185.45,\n",
       " 185.46,\n",
       " 185.72,\n",
       " 185.78,\n",
       " 185.88,\n",
       " 186.06,\n",
       " 186.08,\n",
       " 186.44,\n",
       " 186.53,\n",
       " 186.68,\n",
       " 186.74,\n",
       " 186.88,\n",
       " 186.91,\n",
       " 187.03,\n",
       " 187.06,\n",
       " 187.51,\n",
       " 187.57,\n",
       " 187.6,\n",
       " 187.91,\n",
       " 188.04,\n",
       " 188.28,\n",
       " 188.41,\n",
       " 188.46,\n",
       " 188.51,\n",
       " 188.74,\n",
       " 188.79,\n",
       " 188.85,\n",
       " 188.87,\n",
       " 188.9,\n",
       " 188.96,\n",
       " 189.06,\n",
       " 189.08,\n",
       " 189.11,\n",
       " 189.2,\n",
       " 189.29,\n",
       " 189.39,\n",
       " 189.46,\n",
       " 189.47,\n",
       " 189.5,\n",
       " 189.53,\n",
       " 189.56,\n",
       " 189.65,\n",
       " 189.88,\n",
       " 190.18,\n",
       " 190.28,\n",
       " 190.29,\n",
       " 190.31,\n",
       " 190.31,\n",
       " 190.32,\n",
       " 190.43,\n",
       " 190.48,\n",
       " 190.54,\n",
       " 190.58,\n",
       " 190.59,\n",
       " 191.01,\n",
       " 191.12,\n",
       " 191.3,\n",
       " 191.49,\n",
       " 191.66,\n",
       " 191.74,\n",
       " 191.85,\n",
       " 191.99,\n",
       " 192.0,\n",
       " 192.15,\n",
       " 192.36,\n",
       " 192.56,\n",
       " 192.71,\n",
       " 192.78,\n",
       " 192.78,\n",
       " 193.06,\n",
       " 193.07,\n",
       " 193.09,\n",
       " 193.11,\n",
       " 193.26,\n",
       " 193.31,\n",
       " 193.37,\n",
       " 193.39,\n",
       " 193.56,\n",
       " 193.67,\n",
       " 193.87,\n",
       " 193.88,\n",
       " 194.03,\n",
       " 194.18,\n",
       " 194.49,\n",
       " 194.55,\n",
       " 194.58,\n",
       " 194.66,\n",
       " 194.76,\n",
       " 194.8,\n",
       " 194.8,\n",
       " 194.8,\n",
       " 194.86,\n",
       " 194.99,\n",
       " 195.0,\n",
       " 195.02,\n",
       " 195.05,\n",
       " 195.15,\n",
       " 195.25,\n",
       " 195.3,\n",
       " 195.35,\n",
       " 195.54,\n",
       " 195.75,\n",
       " 195.92,\n",
       " 196.2,\n",
       " 196.45,\n",
       " 196.55,\n",
       " 196.65,\n",
       " 196.89,\n",
       " 196.95,\n",
       " 197.18,\n",
       " 197.19,\n",
       " 197.2,\n",
       " 197.29,\n",
       " 197.32,\n",
       " 197.79,\n",
       " 197.82,\n",
       " 198.05,\n",
       " 198.11,\n",
       " 198.12,\n",
       " 198.22,\n",
       " 198.29,\n",
       " 198.3,\n",
       " 198.39,\n",
       " 198.88,\n",
       " 199.24,\n",
       " 199.25,\n",
       " 199.3,\n",
       " 199.31,\n",
       " 199.53,\n",
       " 199.78,\n",
       " 199.9,\n",
       " 200.06,\n",
       " 200.52,\n",
       " 200.69,\n",
       " 200.75,\n",
       " 200.79,\n",
       " 200.86,\n",
       " 200.88,\n",
       " 200.96,\n",
       " 201.04,\n",
       " 201.26,\n",
       " 201.29,\n",
       " 201.29,\n",
       " 201.32,\n",
       " 201.52,\n",
       " 201.53,\n",
       " 201.55,\n",
       " 201.57,\n",
       " 201.59,\n",
       " 201.69,\n",
       " 201.7,\n",
       " 201.79,\n",
       " 201.79,\n",
       " 201.82,\n",
       " 201.91,\n",
       " 201.91,\n",
       " 201.92,\n",
       " 201.97,\n",
       " 201.98,\n",
       " 202.07,\n",
       " 202.23,\n",
       " 202.25,\n",
       " 202.58,\n",
       " 202.64,\n",
       " 202.72,\n",
       " 202.85,\n",
       " 202.88,\n",
       " 203.08,\n",
       " 203.21,\n",
       " 203.22,\n",
       " 203.23,\n",
       " 203.46,\n",
       " 203.47,\n",
       " 203.74,\n",
       " 203.79,\n",
       " 203.79,\n",
       " 204.04,\n",
       " 204.2,\n",
       " 204.21,\n",
       " 204.27,\n",
       " 204.4,\n",
       " 204.44,\n",
       " 204.48,\n",
       " 204.6,\n",
       " 204.63,\n",
       " 204.74,\n",
       " 204.99,\n",
       " 204.99,\n",
       " 205.04,\n",
       " 205.12,\n",
       " 205.38,\n",
       " 205.65,\n",
       " 205.7,\n",
       " 206.1,\n",
       " 206.6,\n",
       " 206.82,\n",
       " 206.84,\n",
       " 206.87,\n",
       " 206.99,\n",
       " 207.04,\n",
       " 207.14,\n",
       " 207.22,\n",
       " 207.29,\n",
       " 207.37,\n",
       " 207.64,\n",
       " 207.68,\n",
       " 207.79,\n",
       " 207.98,\n",
       " 208.03,\n",
       " 208.18,\n",
       " 208.41,\n",
       " 208.42,\n",
       " 208.54,\n",
       " 208.64,\n",
       " 208.7,\n",
       " 208.76,\n",
       " 208.89,\n",
       " 209.12,\n",
       " 209.27,\n",
       " 209.29,\n",
       " 209.44,\n",
       " 209.46,\n",
       " 209.73,\n",
       " 209.76,\n",
       " 209.8,\n",
       " 209.83,\n",
       " 209.86,\n",
       " 210.01,\n",
       " 210.04,\n",
       " 210.11,\n",
       " 210.52,\n",
       " 210.58,\n",
       " 210.66,\n",
       " 211.05,\n",
       " 211.22,\n",
       " 211.38,\n",
       " 211.39,\n",
       " 211.53,\n",
       " 211.86,\n",
       " 211.94,\n",
       " 212.07,\n",
       " 212.09,\n",
       " 212.11,\n",
       " 212.13,\n",
       " 212.21,\n",
       " 212.45,\n",
       " 212.77,\n",
       " 212.82,\n",
       " 212.95,\n",
       " 213.04,\n",
       " 213.07,\n",
       " 213.11,\n",
       " 213.13,\n",
       " 213.2,\n",
       " 213.37,\n",
       " 213.44,\n",
       " 213.51,\n",
       " 213.54,\n",
       " 213.63,\n",
       " 213.74,\n",
       " 213.99,\n",
       " 214.1,\n",
       " 214.29,\n",
       " 214.29,\n",
       " 214.42,\n",
       " 214.66,\n",
       " 214.85,\n",
       " 214.86,\n",
       " 214.87,\n",
       " 214.91,\n",
       " 215.25,\n",
       " 215.3,\n",
       " 215.61,\n",
       " 215.78,\n",
       " 215.8,\n",
       " 216.08,\n",
       " 216.11,\n",
       " 216.13,\n",
       " 216.28,\n",
       " 216.46,\n",
       " 216.53,\n",
       " 216.56,\n",
       " 216.66,\n",
       " 216.71,\n",
       " 216.92,\n",
       " 217.34,\n",
       " 217.4,\n",
       " 217.59,\n",
       " 217.82,\n",
       " 217.9,\n",
       " 218.0,\n",
       " 218.06,\n",
       " 218.33,\n",
       " 218.45,\n",
       " 218.61,\n",
       " 218.74,\n",
       " 218.82,\n",
       " 218.87,\n",
       " 219.12,\n",
       " 219.17,\n",
       " 219.32,\n",
       " 219.36,\n",
       " 219.53,\n",
       " 219.58,\n",
       " 219.7,\n",
       " 219.71,\n",
       " 219.87,\n",
       " 219.92,\n",
       " 220.01,\n",
       " 220.03,\n",
       " 220.2,\n",
       " 220.25,\n",
       " 221.08,\n",
       " 221.24,\n",
       " 221.28,\n",
       " 221.29,\n",
       " 221.29,\n",
       " 221.3,\n",
       " 221.76,\n",
       " 221.82,\n",
       " 221.9,\n",
       " 221.94,\n",
       " 222.08,\n",
       " 222.18,\n",
       " 222.22,\n",
       " 222.23,\n",
       " 222.25,\n",
       " 222.4,\n",
       " 222.42,\n",
       " 222.42,\n",
       " 222.6,\n",
       " 222.87,\n",
       " 223.14,\n",
       " 223.2,\n",
       " 223.39,\n",
       " 223.63,\n",
       " 223.78,\n",
       " 223.89,\n",
       " 224.16,\n",
       " 224.35,\n",
       " 224.5,\n",
       " 224.55,\n",
       " 224.78,\n",
       " 224.87,\n",
       " 224.9,\n",
       " 224.95,\n",
       " 225.16,\n",
       " 225.26,\n",
       " 225.34,\n",
       " 225.39,\n",
       " 225.47,\n",
       " 225.6,\n",
       " 225.88,\n",
       " 226.12,\n",
       " 226.25,\n",
       " 226.28,\n",
       " 226.64,\n",
       " 226.74,\n",
       " 226.9,\n",
       " 227.08,\n",
       " 227.13,\n",
       " 227.15,\n",
       " 227.29,\n",
       " 227.33,\n",
       " 227.56,\n",
       " 227.59,\n",
       " 227.65,\n",
       " 227.87,\n",
       " 228.05,\n",
       " 228.05,\n",
       " 228.08,\n",
       " 228.28,\n",
       " 228.32,\n",
       " 228.5,\n",
       " 228.53,\n",
       " 228.54,\n",
       " 228.55,\n",
       " 228.77,\n",
       " 228.85,\n",
       " 228.87,\n",
       " 228.92,\n",
       " 229.04,\n",
       " 229.06,\n",
       " 229.08,\n",
       " 229.19,\n",
       " 229.32,\n",
       " 229.57,\n",
       " 229.61,\n",
       " 229.77,\n",
       " 229.94,\n",
       " 229.97,\n",
       " 230.01,\n",
       " 230.05,\n",
       " 230.23,\n",
       " 230.42,\n",
       " 230.5,\n",
       " 230.5,\n",
       " 230.6,\n",
       " 230.66,\n",
       " 230.68,\n",
       " 230.71,\n",
       " 230.71,\n",
       " 230.78,\n",
       " 230.79,\n",
       " 230.91,\n",
       " 231.05,\n",
       " 231.17,\n",
       " 231.22,\n",
       " 231.27,\n",
       " 231.36,\n",
       " 231.41,\n",
       " 231.58,\n",
       " 231.58,\n",
       " 231.75,\n",
       " 231.8,\n",
       " 231.86,\n",
       " 231.86,\n",
       " 231.97,\n",
       " 231.97,\n",
       " 232.03,\n",
       " 232.14,\n",
       " 232.23,\n",
       " 232.27,\n",
       " 232.39,\n",
       " 232.39,\n",
       " 232.6,\n",
       " 232.62,\n",
       " 232.62,\n",
       " 232.66,\n",
       " 232.73,\n",
       " 232.8,\n",
       " 232.86,\n",
       " 232.89,\n",
       " 232.91,\n",
       " 233.02,\n",
       " 233.14,\n",
       " 233.17,\n",
       " 233.22,\n",
       " 233.32,\n",
       " 233.35,\n",
       " 233.4,\n",
       " 233.46,\n",
       " 233.51,\n",
       " 233.52,\n",
       " 233.56,\n",
       " 233.67,\n",
       " 233.7,\n",
       " 233.75,\n",
       " 233.77,\n",
       " 233.78,\n",
       " 233.87,\n",
       " 234.06,\n",
       " 234.08,\n",
       " 234.13,\n",
       " 234.17,\n",
       " 234.27,\n",
       " 234.3,\n",
       " 234.39,\n",
       " 234.65,\n",
       " 234.72,\n",
       " 234.74,\n",
       " 234.77,\n",
       " 234.91,\n",
       " 234.92,\n",
       " 235.05,\n",
       " 235.06,\n",
       " 235.07,\n",
       " 235.23,\n",
       " 235.24,\n",
       " 235.27,\n",
       " 235.28,\n",
       " 235.31,\n",
       " 235.32,\n",
       " 235.35,\n",
       " 235.45,\n",
       " 235.45,\n",
       " 235.5,\n",
       " 235.52,\n",
       " 235.58,\n",
       " 235.59,\n",
       " 235.66,\n",
       " 235.79,\n",
       " 235.8,\n",
       " 235.81,\n",
       " 235.83,\n",
       " 236.05,\n",
       " 236.06,\n",
       " 236.07,\n",
       " 236.08,\n",
       " 236.1,\n",
       " 236.16,\n",
       " 236.19,\n",
       " 236.38,\n",
       " 236.42,\n",
       " 236.54,\n",
       " 236.64,\n",
       " 236.65,\n",
       " 236.75,\n",
       " 236.77,\n",
       " 236.84,\n",
       " 236.9,\n",
       " 236.93,\n",
       " 237.2,\n",
       " 237.26,\n",
       " 237.27,\n",
       " 237.31,\n",
       " 237.32,\n",
       " 237.36,\n",
       " 237.46,\n",
       " 237.5,\n",
       " 237.57,\n",
       " 237.68,\n",
       " 237.69,\n",
       " 237.69,\n",
       " 237.69,\n",
       " 237.77,\n",
       " 237.83,\n",
       " 237.85,\n",
       " 237.96,\n",
       " 238.05,\n",
       " 238.17,\n",
       " 238.24,\n",
       " 238.3,\n",
       " 238.32,\n",
       " 238.32,\n",
       " 238.34,\n",
       " 238.51,\n",
       " 238.53,\n",
       " 238.53,\n",
       " 238.76,\n",
       " 239.26,\n",
       " 239.27,\n",
       " 239.29,\n",
       " 239.3,\n",
       " 239.32,\n",
       " 239.69,\n",
       " 239.87,\n",
       " 239.91,\n",
       " ...]"
      ]
     },
     "execution_count": 44,
     "metadata": {},
     "output_type": "execute_result"
    }
   ],
   "source": [
    "sorted(google)"
   ]
  },
  {
   "cell_type": "code",
   "execution_count": 45,
   "metadata": {},
   "outputs": [
    {
     "data": {
      "text/plain": [
       "['Pokemon', 'Type']"
      ]
     },
     "execution_count": 45,
     "metadata": {},
     "output_type": "execute_result"
    }
   ],
   "source": [
    "list(pokemon) #converts series to list"
   ]
  },
  {
   "cell_type": "code",
   "execution_count": 46,
   "metadata": {
    "collapsed": true
   },
   "outputs": [
    {
     "data": {
      "text/plain": [
       "{0: 50.12,\n",
       " 1: 54.1,\n",
       " 2: 54.65,\n",
       " 3: 52.38,\n",
       " 4: 52.95,\n",
       " 5: 53.9,\n",
       " 6: 53.02,\n",
       " 7: 50.95,\n",
       " 8: 51.13,\n",
       " 9: 50.07,\n",
       " 10: 50.7,\n",
       " 11: 49.95,\n",
       " 12: 50.74,\n",
       " 13: 51.1,\n",
       " 14: 51.1,\n",
       " 15: 52.61,\n",
       " 16: 53.7,\n",
       " 17: 55.69,\n",
       " 18: 55.94,\n",
       " 19: 56.93,\n",
       " 20: 58.69,\n",
       " 21: 59.62,\n",
       " 22: 58.86,\n",
       " 23: 59.13,\n",
       " 24: 60.35,\n",
       " 25: 59.86,\n",
       " 26: 59.07,\n",
       " 27: 63.37,\n",
       " 28: 65.47,\n",
       " 29: 64.74,\n",
       " 30: 66.22,\n",
       " 31: 67.46,\n",
       " 32: 69.12,\n",
       " 33: 68.47,\n",
       " 34: 69.36,\n",
       " 35: 68.8,\n",
       " 36: 67.56,\n",
       " 37: 68.63,\n",
       " 38: 70.38,\n",
       " 39: 70.93,\n",
       " 40: 71.98,\n",
       " 41: 74.51,\n",
       " 42: 73.9,\n",
       " 43: 70.17,\n",
       " 44: 74.62,\n",
       " 45: 86.13,\n",
       " 46: 93.61,\n",
       " 47: 90.81,\n",
       " 48: 92.89,\n",
       " 49: 96.55,\n",
       " 50: 95.22,\n",
       " 51: 97.92,\n",
       " 52: 97.34,\n",
       " 53: 95.74,\n",
       " 54: 92.26,\n",
       " 55: 84.59,\n",
       " 56: 86.19,\n",
       " 57: 84.27,\n",
       " 58: 83.85,\n",
       " 59: 91.42,\n",
       " 60: 90.91,\n",
       " 61: 92.34,\n",
       " 62: 86.19,\n",
       " 63: 86.16,\n",
       " 64: 83.69,\n",
       " 65: 84.62,\n",
       " 66: 82.47,\n",
       " 67: 83.68,\n",
       " 68: 87.29,\n",
       " 69: 89.61,\n",
       " 70: 90.43,\n",
       " 71: 90.9,\n",
       " 72: 89.89,\n",
       " 73: 89.61,\n",
       " 74: 90.11,\n",
       " 75: 88.06,\n",
       " 76: 85.63,\n",
       " 77: 84.91,\n",
       " 78: 86.63,\n",
       " 79: 85.74,\n",
       " 80: 85.14,\n",
       " 81: 89.26,\n",
       " 82: 89.8,\n",
       " 83: 88.15,\n",
       " 84: 89.95,\n",
       " 85: 92.42,\n",
       " 86: 91.78,\n",
       " 87: 93.06,\n",
       " 88: 93.86,\n",
       " 89: 95.86,\n",
       " 90: 96.28,\n",
       " 91: 96.35,\n",
       " 92: 98.7,\n",
       " 93: 96.3,\n",
       " 94: 101.25,\n",
       " 95: 97.15,\n",
       " 96: 96.66,\n",
       " 97: 94.18,\n",
       " 98: 96.83,\n",
       " 99: 97.43,\n",
       " 100: 96.67,\n",
       " 101: 97.59,\n",
       " 102: 97.57,\n",
       " 103: 99.89,\n",
       " 104: 101.85,\n",
       " 105: 98.55,\n",
       " 106: 96.86,\n",
       " 107: 94.05,\n",
       " 108: 90.27,\n",
       " 109: 88.47,\n",
       " 110: 94.53,\n",
       " 111: 93.95,\n",
       " 112: 95.07,\n",
       " 113: 97.71,\n",
       " 114: 95.85,\n",
       " 115: 102.88,\n",
       " 116: 105.32,\n",
       " 117: 102.08,\n",
       " 118: 97.92,\n",
       " 119: 99.22,\n",
       " 120: 95.69,\n",
       " 121: 93.9,\n",
       " 122: 93.61,\n",
       " 123: 96.4,\n",
       " 124: 97.52,\n",
       " 125: 99.11,\n",
       " 126: 98.85,\n",
       " 127: 98.88,\n",
       " 128: 95.59,\n",
       " 129: 96.88,\n",
       " 130: 94.35,\n",
       " 131: 92.84,\n",
       " 132: 93.9,\n",
       " 133: 92.94,\n",
       " 134: 92.5,\n",
       " 135: 93.41,\n",
       " 136: 92.86,\n",
       " 137: 94.31,\n",
       " 138: 92.51,\n",
       " 139: 90.58,\n",
       " 140: 89.9,\n",
       " 141: 88.81,\n",
       " 142: 87.41,\n",
       " 143: 89.22,\n",
       " 144: 87.71,\n",
       " 145: 89.56,\n",
       " 146: 89.93,\n",
       " 147: 90.35,\n",
       " 148: 89.21,\n",
       " 149: 89.4,\n",
       " 150: 89.54,\n",
       " 151: 90.62,\n",
       " 152: 89.7,\n",
       " 153: 90.13,\n",
       " 154: 90.16,\n",
       " 155: 89.93,\n",
       " 156: 92.55,\n",
       " 157: 94.19,\n",
       " 158: 94.52,\n",
       " 159: 96.78,\n",
       " 160: 95.93,\n",
       " 161: 96.52,\n",
       " 162: 96.88,\n",
       " 163: 96.37,\n",
       " 164: 95.63,\n",
       " 165: 92.41,\n",
       " 166: 93.39,\n",
       " 167: 95.6,\n",
       " 168: 98.95,\n",
       " 169: 102.01,\n",
       " 170: 107.8,\n",
       " 171: 111.65,\n",
       " 172: 109.27,\n",
       " 173: 109.78,\n",
       " 174: 109.62,\n",
       " 175: 109.89,\n",
       " 176: 111.03,\n",
       " 177: 112.98,\n",
       " 178: 114.14,\n",
       " 179: 113.38,\n",
       " 180: 113.9,\n",
       " 181: 112.9,\n",
       " 182: 113.79,\n",
       " 183: 115.53,\n",
       " 184: 114.25,\n",
       " 185: 114.51,\n",
       " 186: 115.41,\n",
       " 187: 116.45,\n",
       " 188: 119.46,\n",
       " 189: 119.47,\n",
       " 190: 120.68,\n",
       " 191: 127.6,\n",
       " 192: 127.87,\n",
       " 193: 130.27,\n",
       " 194: 129.47,\n",
       " 195: 132.87,\n",
       " 196: 138.5,\n",
       " 197: 143.86,\n",
       " 198: 143.81,\n",
       " 199: 139.99,\n",
       " 200: 145.32,\n",
       " 201: 146.41,\n",
       " 202: 139.64,\n",
       " 203: 143.01,\n",
       " 204: 141.11,\n",
       " 205: 141.23,\n",
       " 206: 139.04,\n",
       " 207: 137.26,\n",
       " 208: 138.58,\n",
       " 209: 140.0,\n",
       " 210: 143.21,\n",
       " 211: 143.78,\n",
       " 212: 144.51,\n",
       " 213: 144.71,\n",
       " 214: 148.48,\n",
       " 215: 151.9,\n",
       " 216: 150.85,\n",
       " 217: 146.21,\n",
       " 218: 146.93,\n",
       " 219: 145.48,\n",
       " 220: 147.71,\n",
       " 221: 145.62,\n",
       " 222: 147.62,\n",
       " 223: 147.97,\n",
       " 224: 146.53,\n",
       " 225: 145.75,\n",
       " 226: 149.28,\n",
       " 227: 150.29,\n",
       " 228: 150.44,\n",
       " 229: 149.62,\n",
       " 230: 154.8,\n",
       " 231: 155.84,\n",
       " 232: 156.81,\n",
       " 233: 151.05,\n",
       " 234: 147.78,\n",
       " 235: 147.9,\n",
       " 236: 148.32,\n",
       " 237: 146.6,\n",
       " 238: 143.74,\n",
       " 239: 145.66,\n",
       " 240: 149.45,\n",
       " 241: 148.5,\n",
       " 242: 148.72,\n",
       " 243: 146.03,\n",
       " 244: 145.48,\n",
       " 245: 145.64,\n",
       " 246: 142.7,\n",
       " 247: 141.88,\n",
       " 248: 144.72,\n",
       " 249: 141.86,\n",
       " 250: 142.68,\n",
       " 251: 142.41,\n",
       " 252: 139.86,\n",
       " 253: 139.86,\n",
       " 254: 136.87,\n",
       " 255: 139.65,\n",
       " 256: 141.14,\n",
       " 257: 141.15,\n",
       " 258: 141.65,\n",
       " 259: 144.08,\n",
       " 260: 143.49,\n",
       " 261: 142.86,\n",
       " 262: 142.98,\n",
       " 263: 144.08,\n",
       " 264: 143.41,\n",
       " 265: 147.29,\n",
       " 266: 147.55,\n",
       " 267: 149.4,\n",
       " 268: 154.72,\n",
       " 269: 155.68,\n",
       " 270: 151.35,\n",
       " 271: 151.16,\n",
       " 272: 149.95,\n",
       " 273: 151.74,\n",
       " 274: 153.8,\n",
       " 275: 155.79,\n",
       " 276: 155.53,\n",
       " 277: 157.52,\n",
       " 278: 156.98,\n",
       " 279: 156.81,\n",
       " 280: 152.85,\n",
       " 281: 154.66,\n",
       " 282: 158.07,\n",
       " 283: 159.18,\n",
       " 284: 155.34,\n",
       " 285: 155.2,\n",
       " 286: 156.22,\n",
       " 287: 156.34,\n",
       " 288: 155.17,\n",
       " 289: 152.9,\n",
       " 290: 150.33,\n",
       " 291: 148.57,\n",
       " 292: 147.92,\n",
       " 293: 152.35,\n",
       " 294: 151.49,\n",
       " 295: 154.2,\n",
       " 296: 151.45,\n",
       " 297: 169.78,\n",
       " 298: 174.15,\n",
       " 299: 173.28,\n",
       " 300: 177.54,\n",
       " 301: 176.35,\n",
       " 302: 178.91,\n",
       " 303: 185.88,\n",
       " 304: 189.5,\n",
       " 305: 189.65,\n",
       " 306: 192.78,\n",
       " 307: 195.02,\n",
       " 308: 197.32,\n",
       " 309: 194.76,\n",
       " 310: 189.39,\n",
       " 311: 195.35,\n",
       " 312: 195.0,\n",
       " 313: 198.29,\n",
       " 314: 196.2,\n",
       " 315: 198.88,\n",
       " 316: 201.52,\n",
       " 317: 199.9,\n",
       " 318: 204.48,\n",
       " 319: 208.03,\n",
       " 320: 211.22,\n",
       " 321: 214.1,\n",
       " 322: 211.53,\n",
       " 323: 201.57,\n",
       " 324: 202.25,\n",
       " 325: 206.84,\n",
       " 326: 208.64,\n",
       " 327: 202.72,\n",
       " 328: 202.07,\n",
       " 329: 201.91,\n",
       " 330: 205.12,\n",
       " 331: 204.4,\n",
       " 332: 206.1,\n",
       " 333: 208.54,\n",
       " 334: 209.27,\n",
       " 335: 211.05,\n",
       " 336: 214.86,\n",
       " 337: 212.09,\n",
       " 338: 214.66,\n",
       " 339: 212.95,\n",
       " 340: 215.8,\n",
       " 341: 215.25,\n",
       " 342: 212.11,\n",
       " 343: 213.13,\n",
       " 344: 209.86,\n",
       " 345: 207.22,\n",
       " 346: 217.4,\n",
       " 347: 222.4,\n",
       " 348: 225.39,\n",
       " 349: 232.6,\n",
       " 350: 233.22,\n",
       " 351: 234.65,\n",
       " 352: 235.58,\n",
       " 353: 231.58,\n",
       " 354: 232.89,\n",
       " 355: 233.32,\n",
       " 356: 222.23,\n",
       " 357: 218.0,\n",
       " 358: 199.53,\n",
       " 359: 213.54,\n",
       " 360: 221.29,\n",
       " 361: 216.28,\n",
       " 362: 216.92,\n",
       " 363: 216.53,\n",
       " 364: 213.2,\n",
       " 365: 216.11,\n",
       " 366: 200.69,\n",
       " 367: 197.82,\n",
       " 368: 190.59,\n",
       " 369: 192.36,\n",
       " 370: 183.78,\n",
       " 371: 184.36,\n",
       " 372: 179.21,\n",
       " 373: 181.12,\n",
       " 374: 172.68,\n",
       " 375: 171.49,\n",
       " 376: 171.02,\n",
       " 377: 183.05,\n",
       " 378: 184.19,\n",
       " 379: 183.11,\n",
       " 380: 182.56,\n",
       " 381: 188.85,\n",
       " 382: 188.51,\n",
       " 383: 194.99,\n",
       " 384: 181.13,\n",
       " 385: 182.22,\n",
       " 386: 188.04,\n",
       " 387: 188.9,\n",
       " 388: 183.87,\n",
       " 389: 182.04,\n",
       " 390: 176.76,\n",
       " 391: 171.33,\n",
       " 392: 168.58,\n",
       " 393: 168.36,\n",
       " 394: 175.4,\n",
       " 395: 172.08,\n",
       " 396: 169.22,\n",
       " 397: 169.73,\n",
       " 398: 173.92,\n",
       " 399: 169.79,\n",
       " 400: 169.94,\n",
       " 401: 170.77,\n",
       " 402: 182.72,\n",
       " 403: 184.66,\n",
       " 404: 188.41,\n",
       " 405: 197.29,\n",
       " 406: 194.03,\n",
       " 407: 194.8,\n",
       " 408: 194.66,\n",
       " 409: 201.97,\n",
       " 410: 203.79,\n",
       " 411: 205.38,\n",
       " 412: 202.88,\n",
       " 413: 207.98,\n",
       " 414: 204.63,\n",
       " 415: 204.27,\n",
       " 416: 200.88,\n",
       " 417: 203.21,\n",
       " 418: 201.92,\n",
       " 419: 205.04,\n",
       " 420: 207.29,\n",
       " 421: 218.33,\n",
       " 422: 220.03,\n",
       " 423: 213.37,\n",
       " 424: 212.77,\n",
       " 425: 209.8,\n",
       " 426: 208.76,\n",
       " 427: 199.25,\n",
       " 428: 197.2,\n",
       " 429: 196.89,\n",
       " 430: 197.18,\n",
       " 431: 196.95,\n",
       " 432: 197.19,\n",
       " 433: 204.2,\n",
       " 434: 201.29,\n",
       " 435: 193.31,\n",
       " 436: 186.88,\n",
       " 437: 187.91,\n",
       " 438: 185.46,\n",
       " 439: 187.06,\n",
       " 440: 185.31,\n",
       " 441: 184.82,\n",
       " 442: 185.29,\n",
       " 443: 187.6,\n",
       " 444: 190.43,\n",
       " 445: 191.3,\n",
       " 446: 190.48,\n",
       " 447: 185.78,\n",
       " 448: 185.72,\n",
       " 449: 191.12,\n",
       " 450: 189.53,\n",
       " 451: 187.03,\n",
       " 452: 194.8,\n",
       " 453: 193.06,\n",
       " 454: 196.45,\n",
       " 455: 193.09,\n",
       " 456: 190.58,\n",
       " 457: 193.07,\n",
       " 458: 192.0,\n",
       " 459: 195.3,\n",
       " 460: 195.15,\n",
       " 461: 193.88,\n",
       " 462: 193.39,\n",
       " 463: 200.86,\n",
       " 464: 199.78,\n",
       " 465: 202.23,\n",
       " 466: 201.91,\n",
       " 467: 200.96,\n",
       " 468: 202.85,\n",
       " 469: 208.7,\n",
       " 470: 209.46,\n",
       " 471: 211.39,\n",
       " 472: 210.52,\n",
       " 473: 211.38,\n",
       " 474: 210.01,\n",
       " 475: 208.89,\n",
       " 476: 212.07,\n",
       " 477: 208.42,\n",
       " 478: 204.21,\n",
       " 479: 201.55,\n",
       " 480: 203.74,\n",
       " 481: 201.32,\n",
       " 482: 199.3,\n",
       " 483: 193.37,\n",
       " 484: 194.86,\n",
       " 485: 195.25,\n",
       " 486: 194.49,\n",
       " 487: 192.56,\n",
       " 488: 191.01,\n",
       " 489: 193.87,\n",
       " 490: 193.11,\n",
       " 491: 187.57,\n",
       " 492: 183.43,\n",
       " 493: 187.51,\n",
       " 494: 186.74,\n",
       " 495: 188.79,\n",
       " 496: 190.31,\n",
       " 497: 188.28,\n",
       " 498: 186.91,\n",
       " 499: 184.07,\n",
       " 500: 184.53,\n",
       " 501: 190.29,\n",
       " 502: 193.67,\n",
       " 503: 192.71,\n",
       " 504: 191.49,\n",
       " 505: 188.46,\n",
       " 506: 188.96,\n",
       " 507: 186.53,\n",
       " 508: 186.68,\n",
       " 509: 186.44,\n",
       " 510: 190.28,\n",
       " 511: 189.29,\n",
       " 512: 190.18,\n",
       " 513: 189.08,\n",
       " 514: 189.11,\n",
       " 515: 191.99,\n",
       " 516: 189.88,\n",
       " 517: 189.06,\n",
       " 518: 188.74,\n",
       " 519: 191.85,\n",
       " 520: 195.75,\n",
       " 521: 203.08,\n",
       " 522: 201.79,\n",
       " 523: 204.74,\n",
       " 524: 207.14,\n",
       " 525: 201.7,\n",
       " 526: 198.3,\n",
       " 527: 203.22,\n",
       " 528: 201.69,\n",
       " 529: 201.79,\n",
       " 530: 203.23,\n",
       " 531: 201.26,\n",
       " 532: 201.59,\n",
       " 533: 200.75,\n",
       " 534: 200.52,\n",
       " 535: 201.82,\n",
       " 536: 207.64,\n",
       " 537: 205.7,\n",
       " 538: 210.04,\n",
       " 539: 214.29,\n",
       " 540: 213.11,\n",
       " 541: 213.04,\n",
       " 542: 213.51,\n",
       " 543: 213.44,\n",
       " 544: 210.66,\n",
       " 545: 210.11,\n",
       " 546: 209.44,\n",
       " 547: 212.82,\n",
       " 548: 229.61,\n",
       " 549: 240.15,\n",
       " 550: 236.42,\n",
       " 551: 243.06,\n",
       " 552: 242.31,\n",
       " 553: 237.36,\n",
       " 554: 238.05,\n",
       " 555: 237.96,\n",
       " 556: 233.52,\n",
       " 557: 234.72,\n",
       " 558: 235.66,\n",
       " 559: 238.24,\n",
       " 560: 236.05,\n",
       " 561: 237.26,\n",
       " 562: 236.08,\n",
       " 563: 236.54,\n",
       " 564: 240.27,\n",
       " 565: 244.41,\n",
       " 566: 245.72,\n",
       " 567: 247.7,\n",
       " 568: 249.15,\n",
       " 569: 247.28,\n",
       " 570: 254.57,\n",
       " 571: 253.75,\n",
       " 572: 252.2,\n",
       " 573: 242.13,\n",
       " 574: 244.51,\n",
       " 575: 242.08,\n",
       " 576: 242.16,\n",
       " 577: 240.16,\n",
       " 578: 242.18,\n",
       " 579: 243.26,\n",
       " 580: 244.11,\n",
       " 581: 241.08,\n",
       " 582: 241.81,\n",
       " 583: 241.72,\n",
       " 584: 240.65,\n",
       " 585: 239.26,\n",
       " 586: 240.82,\n",
       " 587: 239.91,\n",
       " 588: 231.17,\n",
       " 589: 234.08,\n",
       " 590: 231.22,\n",
       " 591: 227.87,\n",
       " 592: 227.56,\n",
       " 593: 228.54,\n",
       " 594: 233.78,\n",
       " 595: 231.05,\n",
       " 596: 230.01,\n",
       " 597: 233.56,\n",
       " 598: 241.39,\n",
       " 599: 243.35,\n",
       " 600: 241.55,\n",
       " 601: 242.51,\n",
       " 602: 244.49,\n",
       " 603: 249.61,\n",
       " 604: 252.25,\n",
       " 605: 251.89,\n",
       " 606: 248.39,\n",
       " 607: 243.67,\n",
       " 608: 244.63,\n",
       " 609: 240.18,\n",
       " 610: 239.29,\n",
       " 611: 249.28,\n",
       " 612: 243.8,\n",
       " 613: 247.67,\n",
       " 614: 245.99,\n",
       " 615: 246.91,\n",
       " 616: 250.5,\n",
       " 617: 240.63,\n",
       " 618: 240.51,\n",
       " 619: 233.35,\n",
       " 620: 235.5,\n",
       " 621: 234.77,\n",
       " 622: 235.28,\n",
       " 623: 230.71,\n",
       " 624: 228.92,\n",
       " 625: 229.32,\n",
       " 626: 232.73,\n",
       " 627: 230.5,\n",
       " 628: 234.74,\n",
       " 629: 235.81,\n",
       " 630: 237.69,\n",
       " 631: 237.69,\n",
       " 632: 235.07,\n",
       " 633: 232.23,\n",
       " 634: 224.16,\n",
       " 635: 224.5,\n",
       " 636: 223.89,\n",
       " 637: 219.12,\n",
       " 638: 220.25,\n",
       " 639: 228.55,\n",
       " 640: 227.59,\n",
       " 641: 227.13,\n",
       " 642: 226.25,\n",
       " 643: 227.15,\n",
       " 644: 221.29,\n",
       " 645: 223.78,\n",
       " 646: 222.87,\n",
       " 647: 220.2,\n",
       " 648: 223.39,\n",
       " 649: 222.42,\n",
       " 650: 228.05,\n",
       " 651: 230.79,\n",
       " 652: 230.68,\n",
       " 653: 232.27,\n",
       " 654: 231.58,\n",
       " 655: 230.71,\n",
       " 656: 230.23,\n",
       " 657: 228.85,\n",
       " 658: 229.04,\n",
       " 659: 236.06,\n",
       " 660: 235.27,\n",
       " 661: 235.52,\n",
       " 662: 233.87,\n",
       " 663: 233.02,\n",
       " 664: 232.03,\n",
       " 665: 233.46,\n",
       " 666: 232.91,\n",
       " 667: 236.9,\n",
       " 668: 236.16,\n",
       " 669: 237.77,\n",
       " 670: 235.59,\n",
       " 671: 241.0,\n",
       " 672: 239.3,\n",
       " 673: 238.53,\n",
       " 674: 238.76,\n",
       " 675: 240.35,\n",
       " 676: 239.27,\n",
       " 677: 235.45,\n",
       " 678: 234.27,\n",
       " 679: 232.66,\n",
       " 680: 236.38,\n",
       " 681: 235.32,\n",
       " 682: 233.4,\n",
       " 683: 233.17,\n",
       " 684: 234.39,\n",
       " 685: 230.5,\n",
       " 686: 233.14,\n",
       " 687: 230.66,\n",
       " 688: 228.77,\n",
       " 689: 236.07,\n",
       " 690: 235.24,\n",
       " 691: 234.92,\n",
       " 692: 235.06,\n",
       " 693: 237.69,\n",
       " 694: 236.75,\n",
       " 695: 236.93,\n",
       " 696: 241.52,\n",
       " 697: 243.31,\n",
       " 698: 249.05,\n",
       " 699: 248.71,\n",
       " 700: 249.95,\n",
       " 701: 253.28,\n",
       " 702: 259.16,\n",
       " 703: 258.87,\n",
       " 704: 257.27,\n",
       " 705: 257.49,\n",
       " 706: 255.41,\n",
       " 707: 252.13,\n",
       " 708: 252.37,\n",
       " 709: 251.17,\n",
       " 710: 252.69,\n",
       " 711: 257.34,\n",
       " 712: 256.9,\n",
       " 713: 254.73,\n",
       " 714: 256.8,\n",
       " 715: 262.23,\n",
       " 716: 263.45,\n",
       " 717: 264.86,\n",
       " 718: 262.88,\n",
       " 719: 262.24,\n",
       " 720: 261.09,\n",
       " 721: 264.92,\n",
       " 722: 266.9,\n",
       " 723: 270.54,\n",
       " 724: 269.43,\n",
       " 725: 271.01,\n",
       " 726: 271.4,\n",
       " 727: 271.96,\n",
       " 728: 272.39,\n",
       " 729: 275.8,\n",
       " 730: 276.22,\n",
       " 731: 277.22,\n",
       " 732: 274.48,\n",
       " 733: 274.02,\n",
       " 734: 259.8,\n",
       " 735: 256.0,\n",
       " 736: 256.74,\n",
       " 737: 254.63,\n",
       " 738: 253.75,\n",
       " 739: 255.69,\n",
       " 740: 257.8,\n",
       " 741: 254.74,\n",
       " 742: 256.21,\n",
       " 743: 255.25,\n",
       " 744: 251.25,\n",
       " 745: 254.74,\n",
       " 746: 257.75,\n",
       " 747: 262.63,\n",
       " 748: 257.11,\n",
       " 749: 257.62,\n",
       " 750: 257.49,\n",
       " 751: 254.05,\n",
       " 752: 248.53,\n",
       " 753: 245.51,\n",
       " 754: 249.77,\n",
       " 755: 248.71,\n",
       " 756: 253.05,\n",
       " 757: 256.12,\n",
       " 758: 255.84,\n",
       " 759: 257.24,\n",
       " 760: 256.37,\n",
       " 761: 252.95,\n",
       " 762: 256.18,\n",
       " 763: 255.44,\n",
       " 764: 257.37,\n",
       " 765: 262.31,\n",
       " 766: 263.64,\n",
       " 767: 261.5,\n",
       " 768: 259.42,\n",
       " 769: 256.98,\n",
       " 770: 260.4,\n",
       " 771: 261.06,\n",
       " 772: 262.13,\n",
       " 773: 264.11,\n",
       " 774: 262.39,\n",
       " 775: 267.37,\n",
       " 776: 273.15,\n",
       " 777: 276.14,\n",
       " 778: 279.77,\n",
       " 779: 283.73,\n",
       " 780: 284.22,\n",
       " 781: 283.8,\n",
       " 782: 283.47,\n",
       " 783: 283.35,\n",
       " 784: 290.98,\n",
       " 785: 291.9,\n",
       " 786: 291.72,\n",
       " 787: 289.23,\n",
       " 788: 296.73,\n",
       " 789: 304.51,\n",
       " 790: 307.28,\n",
       " 791: 312.38,\n",
       " 792: 310.69,\n",
       " 793: 318.38,\n",
       " 794: 309.74,\n",
       " 795: 307.69,\n",
       " 796: 316.42,\n",
       " 797: 319.49,\n",
       " 798: 322.03,\n",
       " 799: 325.05,\n",
       " 800: 337.55,\n",
       " 801: 337.57,\n",
       " 802: 333.92,\n",
       " 803: 336.96,\n",
       " 804: 339.28,\n",
       " 805: 347.04,\n",
       " 806: 353.15,\n",
       " 807: 351.25,\n",
       " 808: 355.27,\n",
       " 809: 362.46,\n",
       " 810: 370.52,\n",
       " 811: 366.1,\n",
       " 812: 346.57,\n",
       " 813: 331.65,\n",
       " 814: 315.72,\n",
       " 815: 329.94,\n",
       " 816: 320.52,\n",
       " 817: 314.51,\n",
       " 818: 316.5,\n",
       " 819: 312.61,\n",
       " 820: 323.95,\n",
       " 821: 329.93,\n",
       " 822: 338.01,\n",
       " 823: 332.7,\n",
       " 824: 336.45,\n",
       " 825: 345.78,\n",
       " 826: 348.15,\n",
       " 827: 346.15,\n",
       " 828: 340.42,\n",
       " 829: 341.74,\n",
       " 830: 348.91,\n",
       " 831: 357.27,\n",
       " 832: 357.08,\n",
       " 833: 358.85,\n",
       " 834: 349.25,\n",
       " 835: 349.33,\n",
       " 836: 346.68,\n",
       " 837: 344.64,\n",
       " 838: 334.28,\n",
       " 839: 336.34,\n",
       " 840: 338.35,\n",
       " 841: 344.5,\n",
       " 842: 348.0,\n",
       " 843: 350.01,\n",
       " 844: 355.06,\n",
       " 845: 350.02,\n",
       " 846: 350.91,\n",
       " 847: 345.39,\n",
       " 848: 342.25,\n",
       " 849: 342.32,\n",
       " 850: 328.17,\n",
       " 851: 324.3,\n",
       " 852: 315.52,\n",
       " 853: 326.27,\n",
       " 854: 323.04,\n",
       " 855: 318.81,\n",
       " 856: 326.58,\n",
       " 857: 318.51,\n",
       " 858: 307.67,\n",
       " 859: 300.09,\n",
       " 860: 299.82,\n",
       " 861: 291.88,\n",
       " 862: 274.04,\n",
       " 863: 286.96,\n",
       " 864: 282.92,\n",
       " 865: 277.71,\n",
       " 866: 274.98,\n",
       " 867: 273.86,\n",
       " 868: 281.87,\n",
       " 869: 257.69,\n",
       " 870: 247.47,\n",
       " 871: 253.15,\n",
       " 872: 250.6,\n",
       " 873: 252.22,\n",
       " 874: 258.09,\n",
       " 875: 260.32,\n",
       " 876: 258.79,\n",
       " 877: 267.04,\n",
       " 878: 265.86,\n",
       " 879: 264.56,\n",
       " 880: 254.22,\n",
       " 881: 254.25,\n",
       " 882: 251.18,\n",
       " 883: 253.65,\n",
       " 884: 242.98,\n",
       " 885: 231.86,\n",
       " 886: 236.19,\n",
       " 887: 237.46,\n",
       " 888: 235.35,\n",
       " 889: 228.28,\n",
       " 890: 222.08,\n",
       " 891: 223.63,\n",
       " 892: 216.13,\n",
       " 893: 216.46,\n",
       " 894: 206.6,\n",
       " 895: 219.7,\n",
       " 896: 219.87,\n",
       " 897: 221.28,\n",
       " 898: 218.74,\n",
       " 899: 209.73,\n",
       " 900: 219.36,\n",
       " 901: 215.78,\n",
       " 902: 216.56,\n",
       " 903: 230.05,\n",
       " 904: 225.16,\n",
       " 905: 228.87,\n",
       " 906: 221.82,\n",
       " 907: 218.82,\n",
       " 908: 220.01,\n",
       " 909: 232.62,\n",
       " 910: 232.62,\n",
       " 911: 227.33,\n",
       " 912: 235.31,\n",
       " 913: 238.17,\n",
       " 914: 233.67,\n",
       " 915: 231.86,\n",
       " 916: 234.3,\n",
       " 917: 228.5,\n",
       " 918: 225.6,\n",
       " 919: 223.2,\n",
       " 920: 227.29,\n",
       " 921: 224.55,\n",
       " 922: 269.44,\n",
       " 923: 268.63,\n",
       " 924: 277.22,\n",
       " 925: 272.97,\n",
       " 926: 271.25,\n",
       " 927: 271.76,\n",
       " 928: 275.78,\n",
       " 929: 278.96,\n",
       " 930: 286.86,\n",
       " 931: 296.24,\n",
       " 932: 290.35,\n",
       " 933: 297.15,\n",
       " 934: 292.89,\n",
       " 935: 289.21,\n",
       " 936: 291.21,\n",
       " 937: 286.3,\n",
       " 938: 292.18,\n",
       " 939: 291.21,\n",
       " 940: 287.86,\n",
       " 941: 290.21,\n",
       " 942: 289.74,\n",
       " 943: 288.47,\n",
       " 944: 289.01,\n",
       " 945: 274.72,\n",
       " 946: 274.46,\n",
       " 947: 272.04,\n",
       " 948: 280.17,\n",
       " 949: 283.84,\n",
       " 950: 291.21,\n",
       " 951: 292.61,\n",
       " 952: 287.21,\n",
       " 953: 283.37,\n",
       " 954: 285.82,\n",
       " 955: 292.86,\n",
       " 956: 283.22,\n",
       " 957: 278.66,\n",
       " 958: 276.81,\n",
       " 959: 272.33,\n",
       " 960: 276.2,\n",
       " 961: 285.47,\n",
       " 962: 286.12,\n",
       " 963: 284.45,\n",
       " 964: 280.91,\n",
       " 965: 279.82,\n",
       " 966: 272.94,\n",
       " 967: 272.33,\n",
       " 968: 270.88,\n",
       " 969: 275.22,\n",
       " 970: 264.15,\n",
       " 971: 263.77,\n",
       " 972: 262.95,\n",
       " 973: 267.1,\n",
       " 974: 263.26,\n",
       " 975: 268.23,\n",
       " 976: 271.68,\n",
       " 977: 276.99,\n",
       " 978: 270.5,\n",
       " 979: 270.02,\n",
       " 980: 266.63,\n",
       " 981: 260.55,\n",
       " 982: 257.79,\n",
       " 983: 267.53,\n",
       " 984: 266.45,\n",
       " 985: 240.42,\n",
       " 986: 234.17,\n",
       " 987: 238.32,\n",
       " 988: 244.37,\n",
       " 989: 237.57,\n",
       " 990: 245.74,\n",
       " 991: 238.32,\n",
       " 992: 241.31,\n",
       " 993: 241.11,\n",
       " 994: 236.64,\n",
       " 995: 233.7,\n",
       " 996: 231.27,\n",
       " 997: 239.69,\n",
       " 998: 242.93,\n",
       " 999: 239.32,\n",
       " ...}"
      ]
     },
     "execution_count": 46,
     "metadata": {},
     "output_type": "execute_result"
    }
   ],
   "source": [
    "dict(google) #here series generated from dictionary"
   ]
  },
  {
   "cell_type": "code",
   "execution_count": 47,
   "metadata": {},
   "outputs": [
    {
     "data": {
      "text/plain": [
       "'Type'"
      ]
     },
     "execution_count": 47,
     "metadata": {},
     "output_type": "execute_result"
    }
   ],
   "source": [
    "max(pokemon)"
   ]
  },
  {
   "cell_type": "code",
   "execution_count": 48,
   "metadata": {},
   "outputs": [
    {
     "data": {
      "text/plain": [
       "'Pokemon'"
      ]
     },
     "execution_count": 48,
     "metadata": {},
     "output_type": "execute_result"
    }
   ],
   "source": [
    "min(pokemon)"
   ]
  },
  {
   "cell_type": "code",
   "execution_count": 49,
   "metadata": {},
   "outputs": [
    {
     "data": {
      "text/plain": [
       "array([['Bulbasaur', 'Grass'],\n",
       "       ['Ivysaur', 'Grass'],\n",
       "       ['Venusaur', 'Grass'],\n",
       "       ...,\n",
       "       ['Diancie', 'Rock'],\n",
       "       ['Hoopa', 'Psychic'],\n",
       "       ['Volcanion', 'Fire']], dtype=object)"
      ]
     },
     "execution_count": 49,
     "metadata": {},
     "output_type": "execute_result"
    }
   ],
   "source": [
    "pokemon.values"
   ]
  },
  {
   "cell_type": "code",
   "execution_count": 50,
   "metadata": {},
   "outputs": [
    {
     "data": {
      "text/plain": [
       "array([ 50.12,  54.1 ,  54.65, ..., 773.18, 771.61, 782.22])"
      ]
     },
     "execution_count": 50,
     "metadata": {},
     "output_type": "execute_result"
    }
   ],
   "source": [
    "google.values"
   ]
  },
  {
   "cell_type": "code",
   "execution_count": 51,
   "metadata": {},
   "outputs": [
    {
     "data": {
      "text/plain": [
       "RangeIndex(start=0, stop=721, step=1)"
      ]
     },
     "execution_count": 51,
     "metadata": {},
     "output_type": "execute_result"
    }
   ],
   "source": [
    "pokemon.index"
   ]
  },
  {
   "cell_type": "code",
   "execution_count": 52,
   "metadata": {},
   "outputs": [
    {
     "data": {
      "text/plain": [
       "RangeIndex(start=0, stop=3012, step=1)"
      ]
     },
     "execution_count": 52,
     "metadata": {},
     "output_type": "execute_result"
    }
   ],
   "source": [
    "google.index"
   ]
  },
  {
   "cell_type": "code",
   "execution_count": 56,
   "metadata": {},
   "outputs": [
    {
     "ename": "AttributeError",
     "evalue": "'DataFrame' object has no attribute 'dtype'",
     "output_type": "error",
     "traceback": [
      "\u001b[0;31m---------------------------------------------------------------------------\u001b[0m",
      "\u001b[0;31mAttributeError\u001b[0m                            Traceback (most recent call last)",
      "\u001b[0;32m<ipython-input-56-b77a4f4eb5a0>\u001b[0m in \u001b[0;36m<module>\u001b[0;34m()\u001b[0m\n\u001b[0;32m----> 1\u001b[0;31m \u001b[0mpokemon\u001b[0m\u001b[0;34m.\u001b[0m\u001b[0mdtype\u001b[0m\u001b[0;34m\u001b[0m\u001b[0m\n\u001b[0m\u001b[1;32m      2\u001b[0m \u001b[0mgoogle\u001b[0m\u001b[0;34m.\u001b[0m\u001b[0mdtype\u001b[0m\u001b[0;34m\u001b[0m\u001b[0m\n",
      "\u001b[0;32m/anaconda2/lib/python2.7/site-packages/pandas/core/generic.pyc\u001b[0m in \u001b[0;36m__getattr__\u001b[0;34m(self, name)\u001b[0m\n\u001b[1;32m   3612\u001b[0m             \u001b[0;32mif\u001b[0m \u001b[0mname\u001b[0m \u001b[0;32min\u001b[0m \u001b[0mself\u001b[0m\u001b[0;34m.\u001b[0m\u001b[0m_info_axis\u001b[0m\u001b[0;34m:\u001b[0m\u001b[0;34m\u001b[0m\u001b[0m\n\u001b[1;32m   3613\u001b[0m                 \u001b[0;32mreturn\u001b[0m \u001b[0mself\u001b[0m\u001b[0;34m[\u001b[0m\u001b[0mname\u001b[0m\u001b[0;34m]\u001b[0m\u001b[0;34m\u001b[0m\u001b[0m\n\u001b[0;32m-> 3614\u001b[0;31m             \u001b[0;32mreturn\u001b[0m \u001b[0mobject\u001b[0m\u001b[0;34m.\u001b[0m\u001b[0m__getattribute__\u001b[0m\u001b[0;34m(\u001b[0m\u001b[0mself\u001b[0m\u001b[0;34m,\u001b[0m \u001b[0mname\u001b[0m\u001b[0;34m)\u001b[0m\u001b[0;34m\u001b[0m\u001b[0m\n\u001b[0m\u001b[1;32m   3615\u001b[0m \u001b[0;34m\u001b[0m\u001b[0m\n\u001b[1;32m   3616\u001b[0m     \u001b[0;32mdef\u001b[0m \u001b[0m__setattr__\u001b[0m\u001b[0;34m(\u001b[0m\u001b[0mself\u001b[0m\u001b[0;34m,\u001b[0m \u001b[0mname\u001b[0m\u001b[0;34m,\u001b[0m \u001b[0mvalue\u001b[0m\u001b[0;34m)\u001b[0m\u001b[0;34m:\u001b[0m\u001b[0;34m\u001b[0m\u001b[0m\n",
      "\u001b[0;31mAttributeError\u001b[0m: 'DataFrame' object has no attribute 'dtype'"
     ]
    }
   ],
   "source": [
    "pokemon.dtype\n",
    "google.dtype"
   ]
  },
  {
   "cell_type": "code",
   "execution_count": 60,
   "metadata": {},
   "outputs": [
    {
     "ename": "AttributeError",
     "evalue": "'DataFrame' object has no attribute 'is_unique'",
     "output_type": "error",
     "traceback": [
      "\u001b[0;31m---------------------------------------------------------------------------\u001b[0m",
      "\u001b[0;31mAttributeError\u001b[0m                            Traceback (most recent call last)",
      "\u001b[0;32m<ipython-input-60-c5f851d58249>\u001b[0m in \u001b[0;36m<module>\u001b[0;34m()\u001b[0m\n\u001b[0;32m----> 1\u001b[0;31m \u001b[0mpokemon\u001b[0m\u001b[0;34m.\u001b[0m\u001b[0mis_unique\u001b[0m\u001b[0;34m\u001b[0m\u001b[0m\n\u001b[0m",
      "\u001b[0;32m/anaconda2/lib/python2.7/site-packages/pandas/core/generic.pyc\u001b[0m in \u001b[0;36m__getattr__\u001b[0;34m(self, name)\u001b[0m\n\u001b[1;32m   3612\u001b[0m             \u001b[0;32mif\u001b[0m \u001b[0mname\u001b[0m \u001b[0;32min\u001b[0m \u001b[0mself\u001b[0m\u001b[0;34m.\u001b[0m\u001b[0m_info_axis\u001b[0m\u001b[0;34m:\u001b[0m\u001b[0;34m\u001b[0m\u001b[0m\n\u001b[1;32m   3613\u001b[0m                 \u001b[0;32mreturn\u001b[0m \u001b[0mself\u001b[0m\u001b[0;34m[\u001b[0m\u001b[0mname\u001b[0m\u001b[0;34m]\u001b[0m\u001b[0;34m\u001b[0m\u001b[0m\n\u001b[0;32m-> 3614\u001b[0;31m             \u001b[0;32mreturn\u001b[0m \u001b[0mobject\u001b[0m\u001b[0;34m.\u001b[0m\u001b[0m__getattribute__\u001b[0m\u001b[0;34m(\u001b[0m\u001b[0mself\u001b[0m\u001b[0;34m,\u001b[0m \u001b[0mname\u001b[0m\u001b[0;34m)\u001b[0m\u001b[0;34m\u001b[0m\u001b[0m\n\u001b[0m\u001b[1;32m   3615\u001b[0m \u001b[0;34m\u001b[0m\u001b[0m\n\u001b[1;32m   3616\u001b[0m     \u001b[0;32mdef\u001b[0m \u001b[0m__setattr__\u001b[0m\u001b[0;34m(\u001b[0m\u001b[0mself\u001b[0m\u001b[0;34m,\u001b[0m \u001b[0mname\u001b[0m\u001b[0;34m,\u001b[0m \u001b[0mvalue\u001b[0m\u001b[0;34m)\u001b[0m\u001b[0;34m:\u001b[0m\u001b[0;34m\u001b[0m\u001b[0m\n",
      "\u001b[0;31mAttributeError\u001b[0m: 'DataFrame' object has no attribute 'is_unique'"
     ]
    }
   ],
   "source": [
    "pokemon.is_unique"
   ]
  },
  {
   "cell_type": "code",
   "execution_count": 61,
   "metadata": {},
   "outputs": [
    {
     "data": {
      "text/plain": [
       "2"
      ]
     },
     "execution_count": 61,
     "metadata": {},
     "output_type": "execute_result"
    }
   ],
   "source": [
    "pokemon.ndim"
   ]
  },
  {
   "cell_type": "code",
   "execution_count": 62,
   "metadata": {},
   "outputs": [
    {
     "data": {
      "text/plain": [
       "1"
      ]
     },
     "execution_count": 62,
     "metadata": {},
     "output_type": "execute_result"
    }
   ],
   "source": [
    "google.ndim"
   ]
  },
  {
   "cell_type": "code",
   "execution_count": 63,
   "metadata": {},
   "outputs": [
    {
     "data": {
      "text/plain": [
       "(721, 2)"
      ]
     },
     "execution_count": 63,
     "metadata": {},
     "output_type": "execute_result"
    }
   ],
   "source": [
    "pokemon.shape"
   ]
  },
  {
   "cell_type": "code",
   "execution_count": 64,
   "metadata": {},
   "outputs": [
    {
     "data": {
      "text/plain": [
       "(3012,)"
      ]
     },
     "execution_count": 64,
     "metadata": {},
     "output_type": "execute_result"
    }
   ],
   "source": [
    "google.shape"
   ]
  },
  {
   "cell_type": "code",
   "execution_count": 65,
   "metadata": {},
   "outputs": [
    {
     "ename": "AttributeError",
     "evalue": "'DataFrame' object has no attribute 'name'",
     "output_type": "error",
     "traceback": [
      "\u001b[0;31m---------------------------------------------------------------------------\u001b[0m",
      "\u001b[0;31mAttributeError\u001b[0m                            Traceback (most recent call last)",
      "\u001b[0;32m<ipython-input-65-ad24e86d133a>\u001b[0m in \u001b[0;36m<module>\u001b[0;34m()\u001b[0m\n\u001b[0;32m----> 1\u001b[0;31m \u001b[0mpokemon\u001b[0m\u001b[0;34m.\u001b[0m\u001b[0mname\u001b[0m\u001b[0;34m\u001b[0m\u001b[0m\n\u001b[0m",
      "\u001b[0;32m/anaconda2/lib/python2.7/site-packages/pandas/core/generic.pyc\u001b[0m in \u001b[0;36m__getattr__\u001b[0;34m(self, name)\u001b[0m\n\u001b[1;32m   3612\u001b[0m             \u001b[0;32mif\u001b[0m \u001b[0mname\u001b[0m \u001b[0;32min\u001b[0m \u001b[0mself\u001b[0m\u001b[0;34m.\u001b[0m\u001b[0m_info_axis\u001b[0m\u001b[0;34m:\u001b[0m\u001b[0;34m\u001b[0m\u001b[0m\n\u001b[1;32m   3613\u001b[0m                 \u001b[0;32mreturn\u001b[0m \u001b[0mself\u001b[0m\u001b[0;34m[\u001b[0m\u001b[0mname\u001b[0m\u001b[0;34m]\u001b[0m\u001b[0;34m\u001b[0m\u001b[0m\n\u001b[0;32m-> 3614\u001b[0;31m             \u001b[0;32mreturn\u001b[0m \u001b[0mobject\u001b[0m\u001b[0;34m.\u001b[0m\u001b[0m__getattribute__\u001b[0m\u001b[0;34m(\u001b[0m\u001b[0mself\u001b[0m\u001b[0;34m,\u001b[0m \u001b[0mname\u001b[0m\u001b[0;34m)\u001b[0m\u001b[0;34m\u001b[0m\u001b[0m\n\u001b[0m\u001b[1;32m   3615\u001b[0m \u001b[0;34m\u001b[0m\u001b[0m\n\u001b[1;32m   3616\u001b[0m     \u001b[0;32mdef\u001b[0m \u001b[0m__setattr__\u001b[0m\u001b[0;34m(\u001b[0m\u001b[0mself\u001b[0m\u001b[0;34m,\u001b[0m \u001b[0mname\u001b[0m\u001b[0;34m,\u001b[0m \u001b[0mvalue\u001b[0m\u001b[0;34m)\u001b[0m\u001b[0;34m:\u001b[0m\u001b[0;34m\u001b[0m\u001b[0m\n",
      "\u001b[0;31mAttributeError\u001b[0m: 'DataFrame' object has no attribute 'name'"
     ]
    }
   ],
   "source": [
    "pokemon.name"
   ]
  },
  {
   "cell_type": "code",
   "execution_count": 66,
   "metadata": {},
   "outputs": [
    {
     "data": {
      "text/html": [
       "<div>\n",
       "<style scoped>\n",
       "    .dataframe tbody tr th:only-of-type {\n",
       "        vertical-align: middle;\n",
       "    }\n",
       "\n",
       "    .dataframe tbody tr th {\n",
       "        vertical-align: top;\n",
       "    }\n",
       "\n",
       "    .dataframe thead th {\n",
       "        text-align: right;\n",
       "    }\n",
       "</style>\n",
       "<table border=\"1\" class=\"dataframe\">\n",
       "  <thead>\n",
       "    <tr style=\"text-align: right;\">\n",
       "      <th></th>\n",
       "      <th>Pokemon</th>\n",
       "      <th>Type</th>\n",
       "    </tr>\n",
       "  </thead>\n",
       "  <tbody>\n",
       "    <tr>\n",
       "      <th>0</th>\n",
       "      <td>Bulbasaur</td>\n",
       "      <td>Grass</td>\n",
       "    </tr>\n",
       "    <tr>\n",
       "      <th>1</th>\n",
       "      <td>Ivysaur</td>\n",
       "      <td>Grass</td>\n",
       "    </tr>\n",
       "    <tr>\n",
       "      <th>2</th>\n",
       "      <td>Venusaur</td>\n",
       "      <td>Grass</td>\n",
       "    </tr>\n",
       "    <tr>\n",
       "      <th>3</th>\n",
       "      <td>Charmander</td>\n",
       "      <td>Fire</td>\n",
       "    </tr>\n",
       "    <tr>\n",
       "      <th>4</th>\n",
       "      <td>Charmeleon</td>\n",
       "      <td>Fire</td>\n",
       "    </tr>\n",
       "  </tbody>\n",
       "</table>\n",
       "</div>"
      ],
      "text/plain": [
       "      Pokemon   Type\n",
       "0   Bulbasaur  Grass\n",
       "1     Ivysaur  Grass\n",
       "2    Venusaur  Grass\n",
       "3  Charmander   Fire\n",
       "4  Charmeleon   Fire"
      ]
     },
     "execution_count": 66,
     "metadata": {},
     "output_type": "execute_result"
    }
   ],
   "source": [
    "pokemon.head()"
   ]
  },
  {
   "cell_type": "code",
   "execution_count": 67,
   "metadata": {},
   "outputs": [],
   "source": [
    "pokemon.name = \"Pocket Monsters\""
   ]
  },
  {
   "cell_type": "code",
   "execution_count": 68,
   "metadata": {},
   "outputs": [
    {
     "data": {
      "text/plain": [
       "'Pocket Monsters'"
      ]
     },
     "execution_count": 68,
     "metadata": {},
     "output_type": "execute_result"
    }
   ],
   "source": [
    "pokemon.name"
   ]
  },
  {
   "cell_type": "markdown",
   "metadata": {},
   "source": [
    "<h1> Sort Values Methods"
   ]
  },
  {
   "cell_type": "code",
   "execution_count": 71,
   "metadata": {},
   "outputs": [
    {
     "ename": "TypeError",
     "evalue": "sort_values() takes at least 2 arguments (1 given)",
     "output_type": "error",
     "traceback": [
      "\u001b[0;31m---------------------------------------------------------------------------\u001b[0m",
      "\u001b[0;31mTypeError\u001b[0m                                 Traceback (most recent call last)",
      "\u001b[0;32m<ipython-input-71-32dc5012ce21>\u001b[0m in \u001b[0;36m<module>\u001b[0;34m()\u001b[0m\n\u001b[0;32m----> 1\u001b[0;31m \u001b[0mpokemon\u001b[0m\u001b[0;34m.\u001b[0m\u001b[0msort_values\u001b[0m\u001b[0;34m(\u001b[0m\u001b[0;34m)\u001b[0m\u001b[0;34m.\u001b[0m\u001b[0mhead\u001b[0m\u001b[0;34m(\u001b[0m\u001b[0;34m)\u001b[0m\u001b[0;34m\u001b[0m\u001b[0m\n\u001b[0m",
      "\u001b[0;31mTypeError\u001b[0m: sort_values() takes at least 2 arguments (1 given)"
     ]
    }
   ],
   "source": [
    "pokemon.sort_values().head()"
   ]
  },
  {
   "cell_type": "code",
   "execution_count": 74,
   "metadata": {},
   "outputs": [
    {
     "ename": "TypeError",
     "evalue": "sort_values() takes at least 2 arguments (2 given)",
     "output_type": "error",
     "traceback": [
      "\u001b[0;31m---------------------------------------------------------------------------\u001b[0m",
      "\u001b[0;31mTypeError\u001b[0m                                 Traceback (most recent call last)",
      "\u001b[0;32m<ipython-input-74-5919d9a4fd8d>\u001b[0m in \u001b[0;36m<module>\u001b[0;34m()\u001b[0m\n\u001b[0;32m----> 1\u001b[0;31m \u001b[0mpokemon\u001b[0m\u001b[0;34m.\u001b[0m\u001b[0msort_values\u001b[0m\u001b[0;34m(\u001b[0m\u001b[0mascending\u001b[0m \u001b[0;34m=\u001b[0m \u001b[0mTrue\u001b[0m\u001b[0;34m)\u001b[0m\u001b[0;34m\u001b[0m\u001b[0m\n\u001b[0m",
      "\u001b[0;31mTypeError\u001b[0m: sort_values() takes at least 2 arguments (2 given)"
     ]
    }
   ],
   "source": [
    "pokemon.sort_values(ascending = True)"
   ]
  },
  {
   "cell_type": "code",
   "execution_count": 75,
   "metadata": {
    "collapsed": true
   },
   "outputs": [
    {
     "data": {
      "text/plain": [
       "11       49.95\n",
       "9        50.07\n",
       "0        50.12\n",
       "10       50.70\n",
       "12       50.74\n",
       "7        50.95\n",
       "14       51.10\n",
       "13       51.10\n",
       "8        51.13\n",
       "3        52.38\n",
       "15       52.61\n",
       "4        52.95\n",
       "6        53.02\n",
       "16       53.70\n",
       "5        53.90\n",
       "1        54.10\n",
       "2        54.65\n",
       "17       55.69\n",
       "18       55.94\n",
       "19       56.93\n",
       "20       58.69\n",
       "22       58.86\n",
       "26       59.07\n",
       "23       59.13\n",
       "21       59.62\n",
       "25       59.86\n",
       "24       60.35\n",
       "27       63.37\n",
       "29       64.74\n",
       "28       65.47\n",
       "         ...  \n",
       "2921    750.53\n",
       "2846    751.61\n",
       "2931    751.72\n",
       "2881    752.00\n",
       "2842    752.54\n",
       "2936    752.67\n",
       "2932    753.20\n",
       "2935    753.93\n",
       "2835    755.98\n",
       "2834    756.60\n",
       "2851    758.09\n",
       "2861    758.88\n",
       "2933    759.00\n",
       "2937    759.14\n",
       "2845    762.37\n",
       "2841    762.38\n",
       "2858    762.51\n",
       "2844    763.25\n",
       "2882    764.65\n",
       "2934    766.61\n",
       "2843    766.81\n",
       "2840    767.04\n",
       "3006    768.79\n",
       "2860    771.00\n",
       "3008    771.07\n",
       "3010    771.61\n",
       "3007    772.88\n",
       "3009    773.18\n",
       "2859    776.60\n",
       "3011    782.22\n",
       "Name: Stock Price, Length: 3012, dtype: float64"
      ]
     },
     "execution_count": 75,
     "metadata": {},
     "output_type": "execute_result"
    }
   ],
   "source": [
    "google.sort_values()"
   ]
  },
  {
   "cell_type": "code",
   "execution_count": 76,
   "metadata": {},
   "outputs": [
    {
     "data": {
      "text/plain": [
       "3011    782.22\n",
       "Name: Stock Price, dtype: float64"
      ]
     },
     "execution_count": 76,
     "metadata": {},
     "output_type": "execute_result"
    }
   ],
   "source": [
    "google.sort_values(ascending = False).head(1)"
   ]
  },
  {
   "cell_type": "code",
   "execution_count": 77,
   "metadata": {
    "collapsed": true
   },
   "outputs": [
    {
     "data": {
      "text/plain": [
       "0        50.12\n",
       "1        54.10\n",
       "2        54.65\n",
       "3        52.38\n",
       "4        52.95\n",
       "5        53.90\n",
       "6        53.02\n",
       "7        50.95\n",
       "8        51.13\n",
       "9        50.07\n",
       "10       50.70\n",
       "11       49.95\n",
       "12       50.74\n",
       "13       51.10\n",
       "14       51.10\n",
       "15       52.61\n",
       "16       53.70\n",
       "17       55.69\n",
       "18       55.94\n",
       "19       56.93\n",
       "20       58.69\n",
       "21       59.62\n",
       "22       58.86\n",
       "23       59.13\n",
       "24       60.35\n",
       "25       59.86\n",
       "26       59.07\n",
       "27       63.37\n",
       "28       65.47\n",
       "29       64.74\n",
       "         ...  \n",
       "2982    675.22\n",
       "2983    668.26\n",
       "2984    680.04\n",
       "2985    684.11\n",
       "2986    692.10\n",
       "2987    699.21\n",
       "2988    694.49\n",
       "2989    697.77\n",
       "2990    695.36\n",
       "2991    705.63\n",
       "2992    715.09\n",
       "2993    720.64\n",
       "2994    716.98\n",
       "2995    720.95\n",
       "2996    719.85\n",
       "2997    733.78\n",
       "2998    736.96\n",
       "2999    741.19\n",
       "3000    738.63\n",
       "3001    742.74\n",
       "3002    739.77\n",
       "3003    738.42\n",
       "3004    741.77\n",
       "3005    745.91\n",
       "3006    768.79\n",
       "3007    772.88\n",
       "3008    771.07\n",
       "3009    773.18\n",
       "3010    771.61\n",
       "3011    782.22\n",
       "Name: Stock Price, Length: 3012, dtype: float64"
      ]
     },
     "execution_count": 77,
     "metadata": {},
     "output_type": "execute_result"
    }
   ],
   "source": [
    "google"
   ]
  },
  {
   "cell_type": "markdown",
   "metadata": {},
   "source": [
    "<h1> In Place Parameter Option"
   ]
  },
  {
   "cell_type": "code",
   "execution_count": 79,
   "metadata": {},
   "outputs": [
    {
     "data": {
      "text/plain": [
       "0    50.12\n",
       "1    54.10\n",
       "2    54.65\n",
       "Name: Stock Price, dtype: float64"
      ]
     },
     "execution_count": 79,
     "metadata": {},
     "output_type": "execute_result"
    }
   ],
   "source": [
    "#This overrides the original parameter\n",
    "google.head(3)"
   ]
  },
  {
   "cell_type": "code",
   "execution_count": 80,
   "metadata": {
    "collapsed": true
   },
   "outputs": [
    {
     "data": {
      "text/plain": [
       "11       49.95\n",
       "9        50.07\n",
       "0        50.12\n",
       "10       50.70\n",
       "12       50.74\n",
       "7        50.95\n",
       "14       51.10\n",
       "13       51.10\n",
       "8        51.13\n",
       "3        52.38\n",
       "15       52.61\n",
       "4        52.95\n",
       "6        53.02\n",
       "16       53.70\n",
       "5        53.90\n",
       "1        54.10\n",
       "2        54.65\n",
       "17       55.69\n",
       "18       55.94\n",
       "19       56.93\n",
       "20       58.69\n",
       "22       58.86\n",
       "26       59.07\n",
       "23       59.13\n",
       "21       59.62\n",
       "25       59.86\n",
       "24       60.35\n",
       "27       63.37\n",
       "29       64.74\n",
       "28       65.47\n",
       "         ...  \n",
       "2921    750.53\n",
       "2846    751.61\n",
       "2931    751.72\n",
       "2881    752.00\n",
       "2842    752.54\n",
       "2936    752.67\n",
       "2932    753.20\n",
       "2935    753.93\n",
       "2835    755.98\n",
       "2834    756.60\n",
       "2851    758.09\n",
       "2861    758.88\n",
       "2933    759.00\n",
       "2937    759.14\n",
       "2845    762.37\n",
       "2841    762.38\n",
       "2858    762.51\n",
       "2844    763.25\n",
       "2882    764.65\n",
       "2934    766.61\n",
       "2843    766.81\n",
       "2840    767.04\n",
       "3006    768.79\n",
       "2860    771.00\n",
       "3008    771.07\n",
       "3010    771.61\n",
       "3007    772.88\n",
       "3009    773.18\n",
       "2859    776.60\n",
       "3011    782.22\n",
       "Name: Stock Price, Length: 3012, dtype: float64"
      ]
     },
     "execution_count": 80,
     "metadata": {},
     "output_type": "execute_result"
    }
   ],
   "source": [
    "google.sort_values()"
   ]
  },
  {
   "cell_type": "code",
   "execution_count": 81,
   "metadata": {},
   "outputs": [],
   "source": [
    "google = google.sort_values()"
   ]
  },
  {
   "cell_type": "code",
   "execution_count": 82,
   "metadata": {
    "collapsed": true
   },
   "outputs": [
    {
     "data": {
      "text/plain": [
       "11       49.95\n",
       "9        50.07\n",
       "0        50.12\n",
       "10       50.70\n",
       "12       50.74\n",
       "7        50.95\n",
       "14       51.10\n",
       "13       51.10\n",
       "8        51.13\n",
       "3        52.38\n",
       "15       52.61\n",
       "4        52.95\n",
       "6        53.02\n",
       "16       53.70\n",
       "5        53.90\n",
       "1        54.10\n",
       "2        54.65\n",
       "17       55.69\n",
       "18       55.94\n",
       "19       56.93\n",
       "20       58.69\n",
       "22       58.86\n",
       "26       59.07\n",
       "23       59.13\n",
       "21       59.62\n",
       "25       59.86\n",
       "24       60.35\n",
       "27       63.37\n",
       "29       64.74\n",
       "28       65.47\n",
       "         ...  \n",
       "2921    750.53\n",
       "2846    751.61\n",
       "2931    751.72\n",
       "2881    752.00\n",
       "2842    752.54\n",
       "2936    752.67\n",
       "2932    753.20\n",
       "2935    753.93\n",
       "2835    755.98\n",
       "2834    756.60\n",
       "2851    758.09\n",
       "2861    758.88\n",
       "2933    759.00\n",
       "2937    759.14\n",
       "2845    762.37\n",
       "2841    762.38\n",
       "2858    762.51\n",
       "2844    763.25\n",
       "2882    764.65\n",
       "2934    766.61\n",
       "2843    766.81\n",
       "2840    767.04\n",
       "3006    768.79\n",
       "2860    771.00\n",
       "3008    771.07\n",
       "3010    771.61\n",
       "3007    772.88\n",
       "3009    773.18\n",
       "2859    776.60\n",
       "3011    782.22\n",
       "Name: Stock Price, Length: 3012, dtype: float64"
      ]
     },
     "execution_count": 82,
     "metadata": {},
     "output_type": "execute_result"
    }
   ],
   "source": [
    "google"
   ]
  },
  {
   "cell_type": "code",
   "execution_count": 86,
   "metadata": {},
   "outputs": [],
   "source": [
    "#Now check the in place parameter\n",
    "google.sort_values(ascending = False, inplace = True)"
   ]
  },
  {
   "cell_type": "code",
   "execution_count": 87,
   "metadata": {},
   "outputs": [
    {
     "data": {
      "text/plain": [
       "3011    782.22\n",
       "2859    776.60\n",
       "3009    773.18\n",
       "Name: Stock Price, dtype: float64"
      ]
     },
     "execution_count": 87,
     "metadata": {},
     "output_type": "execute_result"
    }
   ],
   "source": [
    "google.head(3)"
   ]
  },
  {
   "cell_type": "markdown",
   "metadata": {},
   "source": [
    "<h1> The .get() Method on a Series"
   ]
  },
  {
   "cell_type": "code",
   "execution_count": 88,
   "metadata": {},
   "outputs": [
    {
     "data": {
      "text/plain": [
       "Pokemon\n",
       "Abomasnow      Grass\n",
       "Abra         Psychic\n",
       "Absol           Dark\n",
       "Name: Type, dtype: object"
      ]
     },
     "execution_count": 88,
     "metadata": {},
     "output_type": "execute_result"
    }
   ],
   "source": [
    "pokemon = pd.read_csv(\"Python Projects/Pandas Projects/pandas/pokemon.csv\", index_col = \"Pokemon\", squeeze = True)\n",
    "google = pd.read_csv(\"Python Projects/Pandas Projects/pandas/google_stock_price.csv\", squeeze = True)\n",
    "pokemon.sort_index(inplace = True)\n",
    "pokemon.head(3)"
   ]
  },
  {
   "cell_type": "code",
   "execution_count": 89,
   "metadata": {},
   "outputs": [
    {
     "data": {
      "text/plain": [
       "Pokemon\n",
       "Moltres      Fire\n",
       "Meowth     Normal\n",
       "Name: Type, dtype: object"
      ]
     },
     "execution_count": 89,
     "metadata": {},
     "output_type": "execute_result"
    }
   ],
   "source": [
    "pokemon.get(key=[\"Moltres\", \"Meowth\"])"
   ]
  },
  {
   "cell_type": "code",
   "execution_count": 90,
   "metadata": {
    "collapsed": true
   },
   "outputs": [
    {
     "ename": "NameError",
     "evalue": "name 'default' is not defined",
     "output_type": "error",
     "traceback": [
      "\u001b[0;31m---------------------------------------------------------------------------\u001b[0m",
      "\u001b[0;31mNameError\u001b[0m                                 Traceback (most recent call last)",
      "\u001b[0;32m<ipython-input-90-3803ba0dcdee>\u001b[0m in \u001b[0;36m<module>\u001b[0;34m()\u001b[0m\n\u001b[0;32m----> 1\u001b[0;31m \u001b[0mpokemon\u001b[0m\u001b[0;34m.\u001b[0m\u001b[0mget\u001b[0m\u001b[0;34m(\u001b[0m\u001b[0mkey\u001b[0m\u001b[0;34m=\u001b[0m\u001b[0;34m[\u001b[0m\u001b[0;34m\"Digimon\"\u001b[0m\u001b[0;34m,\u001b[0m \u001b[0mdefault\u001b[0m\u001b[0;34m]\u001b[0m\u001b[0;34m)\u001b[0m\u001b[0;34m\u001b[0m\u001b[0m\n\u001b[0m",
      "\u001b[0;31mNameError\u001b[0m: name 'default' is not defined"
     ]
    }
   ],
   "source": [
    "pokemon.get(key=[\"Digimon\", default])"
   ]
  },
  {
   "cell_type": "code",
   "execution_count": 93,
   "metadata": {
    "collapsed": true
   },
   "outputs": [
    {
     "name": "stderr",
     "output_type": "stream",
     "text": [
      "/anaconda2/lib/python2.7/site-packages/pandas/core/series.py:705: FutureWarning: \n",
      "Passing list-likes to .loc or [] with any missing label will raise\n",
      "KeyError in the future, you can use .reindex() as an alternative.\n",
      "\n",
      "See the documentation here:\n",
      "http://pandas.pydata.org/pandas-docs/stable/indexing.html#deprecate-loc-reindex-listlike\n",
      "  return self.loc[key]\n"
     ]
    },
    {
     "data": {
      "text/plain": [
       "Pokemon\n",
       "Charizard    Fire\n",
       "Digimon       NaN\n",
       "Name: Type, dtype: object"
      ]
     },
     "execution_count": 93,
     "metadata": {},
     "output_type": "execute_result"
    }
   ],
   "source": [
    "pokemon.get(key=[\"Charizard\", \"Digimon\"], default = \"This is not a Pokemon\")"
   ]
  },
  {
   "cell_type": "code",
   "execution_count": 94,
   "metadata": {},
   "outputs": [
    {
     "data": {
      "text/plain": [
       "3012"
      ]
     },
     "execution_count": 94,
     "metadata": {},
     "output_type": "execute_result"
    }
   ],
   "source": [
    "google.count()"
   ]
  },
  {
   "cell_type": "code",
   "execution_count": 95,
   "metadata": {},
   "outputs": [
    {
     "data": {
      "text/plain": [
       "3012"
      ]
     },
     "execution_count": 95,
     "metadata": {},
     "output_type": "execute_result"
    }
   ],
   "source": [
    "len(google)"
   ]
  },
  {
   "cell_type": "code",
   "execution_count": 96,
   "metadata": {},
   "outputs": [],
   "source": [
    "#count excludes Null values while len will \n"
   ]
  },
  {
   "cell_type": "code",
   "execution_count": 97,
   "metadata": {},
   "outputs": [
    {
     "data": {
      "text/plain": [
       "1006942.0"
      ]
     },
     "execution_count": 97,
     "metadata": {},
     "output_type": "execute_result"
    }
   ],
   "source": [
    "google.sum()"
   ]
  },
  {
   "cell_type": "code",
   "execution_count": 98,
   "metadata": {},
   "outputs": [
    {
     "data": {
      "text/plain": [
       "334.31009296148744"
      ]
     },
     "execution_count": 98,
     "metadata": {},
     "output_type": "execute_result"
    }
   ],
   "source": [
    "google.mean()"
   ]
  },
  {
   "cell_type": "code",
   "execution_count": 99,
   "metadata": {},
   "outputs": [
    {
     "data": {
      "text/plain": [
       "173.18720477113106"
      ]
     },
     "execution_count": 99,
     "metadata": {},
     "output_type": "execute_result"
    }
   ],
   "source": [
    "google.std()#average distance from the Mean"
   ]
  },
  {
   "cell_type": "code",
   "execution_count": 100,
   "metadata": {},
   "outputs": [
    {
     "data": {
      "text/plain": [
       "49.95"
      ]
     },
     "execution_count": 100,
     "metadata": {},
     "output_type": "execute_result"
    }
   ],
   "source": [
    "google.min()"
   ]
  },
  {
   "cell_type": "code",
   "execution_count": 101,
   "metadata": {},
   "outputs": [
    {
     "data": {
      "text/plain": [
       "782.22"
      ]
     },
     "execution_count": 101,
     "metadata": {},
     "output_type": "execute_result"
    }
   ],
   "source": [
    "google.max()"
   ]
  },
  {
   "cell_type": "code",
   "execution_count": 103,
   "metadata": {},
   "outputs": [
    {
     "data": {
      "text/plain": [
       "283.315"
      ]
     },
     "execution_count": 103,
     "metadata": {},
     "output_type": "execute_result"
    }
   ],
   "source": [
    "google.median()# theis is the middle value of the dtaset \n"
   ]
  },
  {
   "cell_type": "code",
   "execution_count": 104,
   "metadata": {},
   "outputs": [
    {
     "data": {
      "text/plain": [
       "0    291.21\n",
       "dtype: float64"
      ]
     },
     "execution_count": 104,
     "metadata": {},
     "output_type": "execute_result"
    }
   ],
   "source": [
    "google.mode() #most occurrences"
   ]
  },
  {
   "cell_type": "code",
   "execution_count": 105,
   "metadata": {},
   "outputs": [
    {
     "data": {
      "text/plain": [
       "count    3012.000000\n",
       "mean      334.310093\n",
       "std       173.187205\n",
       "min        49.950000\n",
       "25%       218.045000\n",
       "50%       283.315000\n",
       "75%       443.000000\n",
       "max       782.220000\n",
       "Name: Stock Price, dtype: float64"
      ]
     },
     "execution_count": 105,
     "metadata": {},
     "output_type": "execute_result"
    }
   ],
   "source": [
    "google.describe()"
   ]
  },
  {
   "cell_type": "markdown",
   "metadata": {},
   "source": [
    "<h1> The .idxmax() and .idxmin() Method for Index"
   ]
  },
  {
   "cell_type": "code",
   "execution_count": 107,
   "metadata": {},
   "outputs": [
    {
     "data": {
      "text/plain": [
       "3011"
      ]
     },
     "execution_count": 107,
     "metadata": {},
     "output_type": "execute_result"
    }
   ],
   "source": [
    "google.idxmax() #this gives the index of the max \n",
    "#value so index 3011 is bearing the highest value"
   ]
  },
  {
   "cell_type": "code",
   "execution_count": 108,
   "metadata": {},
   "outputs": [
    {
     "data": {
      "text/plain": [
       "782.22"
      ]
     },
     "execution_count": 108,
     "metadata": {},
     "output_type": "execute_result"
    }
   ],
   "source": [
    "google[3011]"
   ]
  },
  {
   "cell_type": "code",
   "execution_count": 109,
   "metadata": {},
   "outputs": [
    {
     "data": {
      "text/plain": [
       "11"
      ]
     },
     "execution_count": 109,
     "metadata": {},
     "output_type": "execute_result"
    }
   ],
   "source": [
    "google.idxmin()"
   ]
  },
  {
   "cell_type": "code",
   "execution_count": 110,
   "metadata": {},
   "outputs": [
    {
     "data": {
      "text/plain": [
       "49.95"
      ]
     },
     "execution_count": 110,
     "metadata": {},
     "output_type": "execute_result"
    }
   ],
   "source": [
    "google[11]"
   ]
  },
  {
   "cell_type": "code",
   "execution_count": 111,
   "metadata": {},
   "outputs": [
    {
     "data": {
      "text/plain": [
       "49.95"
      ]
     },
     "execution_count": 111,
     "metadata": {},
     "output_type": "execute_result"
    }
   ],
   "source": [
    "google[google.idxmin()]"
   ]
  },
  {
   "cell_type": "markdown",
   "metadata": {},
   "source": [
    "<h1> Value Counts Method"
   ]
  },
  {
   "cell_type": "code",
   "execution_count": 112,
   "metadata": {},
   "outputs": [
    {
     "data": {
      "text/plain": [
       "Pokemon\n",
       "Abomasnow      Grass\n",
       "Abra         Psychic\n",
       "Absol           Dark\n",
       "Name: Type, dtype: object"
      ]
     },
     "execution_count": 112,
     "metadata": {},
     "output_type": "execute_result"
    }
   ],
   "source": [
    "pokemon.head(3)"
   ]
  },
  {
   "cell_type": "code",
   "execution_count": 113,
   "metadata": {},
   "outputs": [
    {
     "data": {
      "text/plain": [
       "Water       105\n",
       "Normal       93\n",
       "Grass        66\n",
       "Bug          63\n",
       "Fire         47\n",
       "Psychic      47\n",
       "Rock         41\n",
       "Electric     36\n",
       "Ground       30\n",
       "Dark         28\n",
       "Poison       28\n",
       "Fighting     25\n",
       "Dragon       24\n",
       "Ghost        23\n",
       "Ice          23\n",
       "Steel        22\n",
       "Fairy        17\n",
       "Flying        3\n",
       "Name: Type, dtype: int64"
      ]
     },
     "execution_count": 113,
     "metadata": {},
     "output_type": "execute_result"
    }
   ],
   "source": [
    "pokemon.value_counts()"
   ]
  },
  {
   "cell_type": "code",
   "execution_count": 114,
   "metadata": {},
   "outputs": [
    {
     "data": {
      "text/plain": [
       "721"
      ]
     },
     "execution_count": 114,
     "metadata": {},
     "output_type": "execute_result"
    }
   ],
   "source": [
    "pokemon.value_counts().sum()# this shold be the length of the series"
   ]
  },
  {
   "cell_type": "code",
   "execution_count": 115,
   "metadata": {},
   "outputs": [
    {
     "data": {
      "text/plain": [
       "721"
      ]
     },
     "execution_count": 115,
     "metadata": {},
     "output_type": "execute_result"
    }
   ],
   "source": [
    "pokemon.count()"
   ]
  },
  {
   "cell_type": "code",
   "execution_count": 117,
   "metadata": {
    "collapsed": true
   },
   "outputs": [
    {
     "data": {
      "text/plain": [
       "Flying        3\n",
       "Fairy        17\n",
       "Steel        22\n",
       "Ice          23\n",
       "Ghost        23\n",
       "Dragon       24\n",
       "Fighting     25\n",
       "Poison       28\n",
       "Dark         28\n",
       "Ground       30\n",
       "Electric     36\n",
       "Rock         41\n",
       "Psychic      47\n",
       "Fire         47\n",
       "Bug          63\n",
       "Grass        66\n",
       "Normal       93\n",
       "Water       105\n",
       "Name: Type, dtype: int64"
      ]
     },
     "execution_count": 117,
     "metadata": {},
     "output_type": "execute_result"
    }
   ],
   "source": [
    "pokemon.value_counts(ascending = True)"
   ]
  },
  {
   "cell_type": "markdown",
   "metadata": {},
   "source": [
    "<h1> Apply Method"
   ]
  },
  {
   "cell_type": "code",
   "execution_count": 118,
   "metadata": {},
   "outputs": [
    {
     "data": {
      "text/plain": [
       "0    50.12\n",
       "1    54.10\n",
       "2    54.65\n",
       "3    52.38\n",
       "4    52.95\n",
       "Name: Stock Price, dtype: float64"
      ]
     },
     "execution_count": 118,
     "metadata": {},
     "output_type": "execute_result"
    }
   ],
   "source": [
    "google.head()"
   ]
  },
  {
   "cell_type": "code",
   "execution_count": 119,
   "metadata": {},
   "outputs": [],
   "source": [
    "def classify_performance(number):\n",
    "    if number < 300:\n",
    "        return \"OK\"\n",
    "    elif number >= 300 and number < 650:\n",
    "        return \"Satisfactory\"\n",
    "    else:\n",
    "        return \"INcredible\""
   ]
  },
  {
   "cell_type": "code",
   "execution_count": 120,
   "metadata": {},
   "outputs": [
    {
     "data": {
      "text/plain": [
       "0               OK\n",
       "1               OK\n",
       "2               OK\n",
       "3               OK\n",
       "4               OK\n",
       "5               OK\n",
       "6               OK\n",
       "7               OK\n",
       "8               OK\n",
       "9               OK\n",
       "10              OK\n",
       "11              OK\n",
       "12              OK\n",
       "13              OK\n",
       "14              OK\n",
       "15              OK\n",
       "16              OK\n",
       "17              OK\n",
       "18              OK\n",
       "19              OK\n",
       "20              OK\n",
       "21              OK\n",
       "22              OK\n",
       "23              OK\n",
       "24              OK\n",
       "25              OK\n",
       "26              OK\n",
       "27              OK\n",
       "28              OK\n",
       "29              OK\n",
       "           ...    \n",
       "2982    INcredible\n",
       "2983    INcredible\n",
       "2984    INcredible\n",
       "2985    INcredible\n",
       "2986    INcredible\n",
       "2987    INcredible\n",
       "2988    INcredible\n",
       "2989    INcredible\n",
       "2990    INcredible\n",
       "2991    INcredible\n",
       "2992    INcredible\n",
       "2993    INcredible\n",
       "2994    INcredible\n",
       "2995    INcredible\n",
       "2996    INcredible\n",
       "2997    INcredible\n",
       "2998    INcredible\n",
       "2999    INcredible\n",
       "3000    INcredible\n",
       "3001    INcredible\n",
       "3002    INcredible\n",
       "3003    INcredible\n",
       "3004    INcredible\n",
       "3005    INcredible\n",
       "3006    INcredible\n",
       "3007    INcredible\n",
       "3008    INcredible\n",
       "3009    INcredible\n",
       "3010    INcredible\n",
       "3011    INcredible\n",
       "Name: Stock Price, Length: 3012, dtype: object"
      ]
     },
     "execution_count": 120,
     "metadata": {},
     "output_type": "execute_result"
    }
   ],
   "source": [
    "google.apply(classify_performance) #apply method expects a function"
   ]
  },
  {
   "cell_type": "code",
   "execution_count": 121,
   "metadata": {},
   "outputs": [
    {
     "data": {
      "text/plain": [
       "0    50.12\n",
       "1    54.10\n",
       "2    54.65\n",
       "3    52.38\n",
       "4    52.95\n",
       "5    53.90\n",
       "Name: Stock Price, dtype: float64"
      ]
     },
     "execution_count": 121,
     "metadata": {},
     "output_type": "execute_result"
    }
   ],
   "source": [
    "google.head(6)"
   ]
  },
  {
   "cell_type": "code",
   "execution_count": 122,
   "metadata": {},
   "outputs": [
    {
     "data": {
      "text/plain": [
       "0        51.12\n",
       "1        55.10\n",
       "2        55.65\n",
       "3        53.38\n",
       "4        53.95\n",
       "5        54.90\n",
       "6        54.02\n",
       "7        51.95\n",
       "8        52.13\n",
       "9        51.07\n",
       "10       51.70\n",
       "11       50.95\n",
       "12       51.74\n",
       "13       52.10\n",
       "14       52.10\n",
       "15       53.61\n",
       "16       54.70\n",
       "17       56.69\n",
       "18       56.94\n",
       "19       57.93\n",
       "20       59.69\n",
       "21       60.62\n",
       "22       59.86\n",
       "23       60.13\n",
       "24       61.35\n",
       "25       60.86\n",
       "26       60.07\n",
       "27       64.37\n",
       "28       66.47\n",
       "29       65.74\n",
       "         ...  \n",
       "2982    676.22\n",
       "2983    669.26\n",
       "2984    681.04\n",
       "2985    685.11\n",
       "2986    693.10\n",
       "2987    700.21\n",
       "2988    695.49\n",
       "2989    698.77\n",
       "2990    696.36\n",
       "2991    706.63\n",
       "2992    716.09\n",
       "2993    721.64\n",
       "2994    717.98\n",
       "2995    721.95\n",
       "2996    720.85\n",
       "2997    734.78\n",
       "2998    737.96\n",
       "2999    742.19\n",
       "3000    739.63\n",
       "3001    743.74\n",
       "3002    740.77\n",
       "3003    739.42\n",
       "3004    742.77\n",
       "3005    746.91\n",
       "3006    769.79\n",
       "3007    773.88\n",
       "3008    772.07\n",
       "3009    774.18\n",
       "3010    772.61\n",
       "3011    783.22\n",
       "Name: Stock Price, Length: 3012, dtype: float64"
      ]
     },
     "execution_count": 122,
     "metadata": {},
     "output_type": "execute_result"
    }
   ],
   "source": [
    "google.apply(lambda stock_price : stock_price + 1)"
   ]
  },
  {
   "cell_type": "markdown",
   "metadata": {},
   "source": [
    "<h1> The .map() Method"
   ]
  },
  {
   "cell_type": "code",
   "execution_count": 127,
   "metadata": {},
   "outputs": [],
   "source": [
    "pokemon_names = pd.read_csv(\"Python Projects/Pandas Projects/pandas/pokemon.csv\", usecols = [\"Pokemon\"], squeeze = True)\n",
    "pokemon_names.head(3)\n",
    "google = pd.read_csv(\"Python Projects/Pandas Projects/pandas/google_stock_price.csv\", squeeze = True)"
   ]
  },
  {
   "cell_type": "code",
   "execution_count": 128,
   "metadata": {},
   "outputs": [
    {
     "data": {
      "text/plain": [
       "0    Bulbasaur\n",
       "1      Ivysaur\n",
       "2     Venusaur\n",
       "Name: Pokemon, dtype: object"
      ]
     },
     "execution_count": 128,
     "metadata": {},
     "output_type": "execute_result"
    }
   ],
   "source": [
    "pokemon_names.head(3)"
   ]
  },
  {
   "cell_type": "code",
   "execution_count": 130,
   "metadata": {},
   "outputs": [
    {
     "data": {
      "text/plain": [
       "Pokemon\n",
       "Bulbasaur    Grass\n",
       "Ivysaur      Grass\n",
       "Venusaur     Grass\n",
       "Name: Type, dtype: object"
      ]
     },
     "execution_count": 130,
     "metadata": {},
     "output_type": "execute_result"
    }
   ],
   "source": [
    "pokemon_types = pd.read_csv(\"Python Projects/Pandas Projects/pandas/pokemon.csv\", index_col = [\"Pokemon\"], squeeze = True)\n",
    "pokemon_types.head(3)"
   ]
  },
  {
   "cell_type": "code",
   "execution_count": 131,
   "metadata": {
    "collapsed": true
   },
   "outputs": [
    {
     "data": {
      "text/plain": [
       "0         Grass\n",
       "1         Grass\n",
       "2         Grass\n",
       "3          Fire\n",
       "4          Fire\n",
       "5          Fire\n",
       "6         Water\n",
       "7         Water\n",
       "8         Water\n",
       "9           Bug\n",
       "10          Bug\n",
       "11          Bug\n",
       "12          Bug\n",
       "13          Bug\n",
       "14          Bug\n",
       "15       Normal\n",
       "16       Normal\n",
       "17       Normal\n",
       "18       Normal\n",
       "19       Normal\n",
       "20       Normal\n",
       "21       Normal\n",
       "22       Poison\n",
       "23       Poison\n",
       "24     Electric\n",
       "25     Electric\n",
       "26       Ground\n",
       "27       Ground\n",
       "28       Poison\n",
       "29       Poison\n",
       "         ...   \n",
       "691       Water\n",
       "692       Water\n",
       "693    Electric\n",
       "694    Electric\n",
       "695        Rock\n",
       "696        Rock\n",
       "697        Rock\n",
       "698        Rock\n",
       "699       Fairy\n",
       "700    Fighting\n",
       "701    Electric\n",
       "702        Rock\n",
       "703      Dragon\n",
       "704      Dragon\n",
       "705      Dragon\n",
       "706       Steel\n",
       "707       Ghost\n",
       "708       Ghost\n",
       "709       Ghost\n",
       "710       Ghost\n",
       "711         Ice\n",
       "712         Ice\n",
       "713      Flying\n",
       "714      Flying\n",
       "715       Fairy\n",
       "716        Dark\n",
       "717      Dragon\n",
       "718        Rock\n",
       "719     Psychic\n",
       "720        Fire\n",
       "Name: Pokemon, Length: 721, dtype: object"
      ]
     },
     "execution_count": 131,
     "metadata": {},
     "output_type": "execute_result"
    }
   ],
   "source": [
    "pokemon_names.map(pokemon_types)"
   ]
  },
  {
   "cell_type": "code",
   "execution_count": 132,
   "metadata": {
    "collapsed": true
   },
   "outputs": [
    {
     "data": {
      "text/plain": [
       "Pokemon\n",
       "Bulbasaur        Grass\n",
       "Ivysaur          Grass\n",
       "Venusaur         Grass\n",
       "Charmander        Fire\n",
       "Charmeleon        Fire\n",
       "Charizard         Fire\n",
       "Squirtle         Water\n",
       "Wartortle        Water\n",
       "Blastoise        Water\n",
       "Caterpie           Bug\n",
       "Metapod            Bug\n",
       "Butterfree         Bug\n",
       "Weedle             Bug\n",
       "Kakuna             Bug\n",
       "Beedrill           Bug\n",
       "Pidgey          Normal\n",
       "Pidgeotto       Normal\n",
       "Pidgeot         Normal\n",
       "Rattata         Normal\n",
       "Raticate        Normal\n",
       "Spearow         Normal\n",
       "Fearow          Normal\n",
       "Ekans           Poison\n",
       "Arbok           Poison\n",
       "Pikachu       Electric\n",
       "Raichu        Electric\n",
       "Sandshrew       Ground\n",
       "Sandslash       Ground\n",
       "Nidoran         Poison\n",
       "Nidorina        Poison\n",
       "                ...   \n",
       "Clauncher        Water\n",
       "Clawitzer        Water\n",
       "Helioptile    Electric\n",
       "Heliolisk     Electric\n",
       "Tyrunt            Rock\n",
       "Tyrantrum         Rock\n",
       "Amaura            Rock\n",
       "Aurorus           Rock\n",
       "Sylveon          Fairy\n",
       "Hawlucha      Fighting\n",
       "Dedenne       Electric\n",
       "Carbink           Rock\n",
       "Goomy           Dragon\n",
       "Sliggoo         Dragon\n",
       "Goodra          Dragon\n",
       "Klefki           Steel\n",
       "Phantump         Ghost\n",
       "Trevenant        Ghost\n",
       "Pumpkaboo        Ghost\n",
       "Gourgeist        Ghost\n",
       "Bergmite           Ice\n",
       "Avalugg            Ice\n",
       "Noibat          Flying\n",
       "Noivern         Flying\n",
       "Xerneas          Fairy\n",
       "Yveltal           Dark\n",
       "Zygarde         Dragon\n",
       "Diancie           Rock\n",
       "Hoopa          Psychic\n",
       "Volcanion         Fire\n",
       "Name: Type, Length: 721, dtype: object"
      ]
     },
     "execution_count": 132,
     "metadata": {},
     "output_type": "execute_result"
    }
   ],
   "source": [
    "pokemon_types"
   ]
  },
  {
   "cell_type": "code",
   "execution_count": 133,
   "metadata": {},
   "outputs": [
    {
     "data": {
      "text/plain": [
       "0         Grass\n",
       "1         Grass\n",
       "2         Grass\n",
       "3          Fire\n",
       "4          Fire\n",
       "5          Fire\n",
       "6         Water\n",
       "7         Water\n",
       "8         Water\n",
       "9           Bug\n",
       "10          Bug\n",
       "11          Bug\n",
       "12          Bug\n",
       "13          Bug\n",
       "14          Bug\n",
       "15       Normal\n",
       "16       Normal\n",
       "17       Normal\n",
       "18       Normal\n",
       "19       Normal\n",
       "20       Normal\n",
       "21       Normal\n",
       "22       Poison\n",
       "23       Poison\n",
       "24     Electric\n",
       "25     Electric\n",
       "26       Ground\n",
       "27       Ground\n",
       "28       Poison\n",
       "29       Poison\n",
       "         ...   \n",
       "691       Water\n",
       "692       Water\n",
       "693    Electric\n",
       "694    Electric\n",
       "695        Rock\n",
       "696        Rock\n",
       "697        Rock\n",
       "698        Rock\n",
       "699       Fairy\n",
       "700    Fighting\n",
       "701    Electric\n",
       "702        Rock\n",
       "703      Dragon\n",
       "704      Dragon\n",
       "705      Dragon\n",
       "706       Steel\n",
       "707       Ghost\n",
       "708       Ghost\n",
       "709       Ghost\n",
       "710       Ghost\n",
       "711         Ice\n",
       "712         Ice\n",
       "713      Flying\n",
       "714      Flying\n",
       "715       Fairy\n",
       "716        Dark\n",
       "717      Dragon\n",
       "718        Rock\n",
       "719     Psychic\n",
       "720        Fire\n",
       "Name: Pokemon, Length: 721, dtype: object"
      ]
     },
     "execution_count": 133,
     "metadata": {},
     "output_type": "execute_result"
    }
   ],
   "source": [
    "pokemon_names.map(pokemon_types) #Map is a good method to ties to another data collection  "
   ]
  }
 ],
 "metadata": {
  "kernelspec": {
   "display_name": "Python 2",
   "language": "python",
   "name": "python2"
  },
  "language_info": {
   "codemirror_mode": {
    "name": "ipython",
    "version": 2
   },
   "file_extension": ".py",
   "mimetype": "text/x-python",
   "name": "python",
   "nbconvert_exporter": "python",
   "pygments_lexer": "ipython2",
   "version": "2.7.14"
  }
 },
 "nbformat": 4,
 "nbformat_minor": 2
}
